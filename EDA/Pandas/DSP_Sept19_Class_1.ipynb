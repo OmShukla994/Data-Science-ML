{
 "cells": [
  {
   "cell_type": "raw",
   "metadata": {},
   "source": [
    "2 - States\n",
    "---------------------------------------------\n",
    "    Edit\n",
    "    Select : Esc\n",
    "        \n",
    "Add new cell above : Esc + A\n",
    "Add new cell below : Esc + B\n",
    "Delete a cell : Esc + dd\n",
    "    \n",
    "Copy the cell : Esc + C\n",
    "Paste : Esc + V\n",
    "Cut : Esc + X\n",
    "    \n",
    "Execute\n",
    "    Cntr + Enter\n",
    "    Shift + Enter\n",
    "\n",
    "3 - Types/Modes\n",
    "-------------------------------------------------\n",
    "    Code : Esc + Y\n",
    "    RawNBConvert : Esc + R\n",
    "    Markdown : Esc + M"
   ]
  },
  {
   "cell_type": "markdown",
   "metadata": {},
   "source": [
    "# This is heading 1\n",
    "## This is heading 2\n",
    "\n",
    "###### This is heading 6"
   ]
  },
  {
   "cell_type": "markdown",
   "metadata": {},
   "source": [
    "**This is bold text**"
   ]
  },
  {
   "cell_type": "markdown",
   "metadata": {},
   "source": [
    "<h1> this is heading 1 </h1>"
   ]
  },
  {
   "cell_type": "code",
   "execution_count": 2,
   "metadata": {},
   "outputs": [
    {
     "ename": "SyntaxError",
     "evalue": "invalid syntax (<ipython-input-2-ff2c80039422>, line 1)",
     "output_type": "error",
     "traceback": [
      "\u001b[1;36m  File \u001b[1;32m\"<ipython-input-2-ff2c80039422>\"\u001b[1;36m, line \u001b[1;32m1\u001b[0m\n\u001b[1;33m    This is python class 1\u001b[0m\n\u001b[1;37m                       ^\u001b[0m\n\u001b[1;31mSyntaxError\u001b[0m\u001b[1;31m:\u001b[0m invalid syntax\n"
     ]
    }
   ],
   "source": [
    "# This is python class 1\n",
    "# This is line 2\n",
    "# This is line 3\n",
    "''' \n",
    "\n",
    "'''\n",
    "a = 1"
   ]
  },
  {
   "cell_type": "code",
   "execution_count": null,
   "metadata": {},
   "outputs": [],
   "source": []
  },
  {
   "cell_type": "code",
   "execution_count": null,
   "metadata": {},
   "outputs": [],
   "source": []
  }
 ],
 "metadata": {
  "kernelspec": {
   "display_name": "Python 3",
   "language": "python",
   "name": "python3"
  },
  "language_info": {
   "codemirror_mode": {
    "name": "ipython",
    "version": 3
   },
   "file_extension": ".py",
   "mimetype": "text/x-python",
   "name": "python",
   "nbconvert_exporter": "python",
   "pygments_lexer": "ipython3",
   "version": "3.7.3"
  }
 },
 "nbformat": 4,
 "nbformat_minor": 2
}
