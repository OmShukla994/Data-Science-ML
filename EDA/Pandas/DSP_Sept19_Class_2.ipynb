{
 "cells": [
  {
   "cell_type": "code",
   "execution_count": 15,
   "metadata": {},
   "outputs": [
    {
     "name": "stdout",
     "output_type": "stream",
     "text": [
      "hello\n",
      "hello\n",
      "hello \"world\"\n",
      "hello 'world' \n",
      "hellow\"world\"\n",
      "I'm om\n",
      "om \n",
      " shukla\n",
      "om \\n shukla\n",
      "om\\\n"
     ]
    }
   ],
   "source": [
    "print(\"hello\")\n",
    "print('hello')\n",
    "#print(\"'hello\"') throw error\n",
    "print('hello \"world\"')\n",
    "print(\"hello 'world' \")\n",
    "#print('hello 'world'') throw error\n",
    "print(\"hellow\\\"world\\\"\")\n",
    "print('I\\'m om')\n",
    "print('om \\n shukla')\n",
    "print(r'om \\n shukla')\n",
    "print('om\\\\')\n",
    "#print('om\\')"
   ]
  },
  {
   "cell_type": "code",
   "execution_count": 27,
   "metadata": {},
   "outputs": [
    {
     "name": "stdout",
     "output_type": "stream",
     "text": [
      "this is my 1st python program,hello,hi,TutorialsPoint,python\n"
     ]
    }
   ],
   "source": [
    "a='this is my 1st python program'\n",
    "print(a, end=',')"
   ]
  },
  {
   "cell_type": "code",
   "execution_count": 28,
   "metadata": {},
   "outputs": [
    {
     "name": "stdout",
     "output_type": "stream",
     "text": [
      "hello,hi,TutorialsPoint,python\n"
     ]
    }
   ],
   "source": [
    "# input list\n",
    "lst = ['hello', 'hi', 'TutorialsPoint', 'python']\n",
    "\n",
    "# List to String\n",
    "resultString = ','.join(lst)\n",
    "print(resultString)"
   ]
  },
  {
   "cell_type": "raw",
   "metadata": {},
   "source": [
    "Python\n",
    "\n",
    "General Purpose language\n",
    "Open source\n",
    "Interpreted language\n",
    "OOP\n",
    "Loosely typed/dynamically typed\n",
    "Case sensitive [Most of the reserved keywords are in lower case]\n",
    "\n",
    "Every notebook is  new seesion"
   ]
  },
  {
   "cell_type": "raw",
   "metadata": {},
   "source": [
    "# variable naming conventions: INC (Indentifier naming conventions)\n",
    "----------------------------------------------------------------------------\n",
    "1. Can be alpha numeric   var1 a1 py123\n",
    "2. No special Chars, except underscore _\n",
    "3. Names can start only with char or underscore   \n",
    "            [var1 a1 py123] correct\n",
    "            [_var _1a __a__]\n",
    "            [1py 1a] incorrect\n",
    "            \n",
    "4. Names can have n no of chars, generally not recommended\n",
    "5. Dont use reeserved keywords as names"
   ]
  },
  {
   "cell_type": "raw",
   "metadata": {},
   "source": [
    "# Operators\n",
    "-----------------------------------\n",
    "Assignment: =\n",
    "\n",
    "Arithmatic: + - * / // ** BODMAS\n",
    "\n",
    "Arithmatic + Assignment: += -= *= /=....\n",
    "\n",
    "Comparision/Relationship: Output: True/False\n",
    "    single valued: == != > >= < <=\n",
    "    multi valued/membership: in\n",
    "\n",
    "Logical: [bitwise: & | -]\n",
    "    and or  \n",
    "    not\n",
    "    \n",
    "#BODMAS RULE\n",
    "()\n",
    "**\n",
    "/,//,*,%\n",
    "+,-\n",
    "always move from left to right"
   ]
  },
  {
   "cell_type": "raw",
   "metadata": {},
   "source": [
    "datatypes:\n",
    "--------------------------------------\n",
    "str -8 byte\n",
    "float -8 byte\n",
    "int -8 byute\n",
    "bool- 1 bit\n",
    "\n",
    "Type conversion functions:\n",
    "--------------------------------------\n",
    "str()\n",
    "float()\n",
    "int()\n",
    "bool()\n",
    "\n",
    "Note: List, array, tuple, set are the data structure, not the data type"
   ]
  },
  {
   "cell_type": "code",
   "execution_count": 29,
   "metadata": {},
   "outputs": [
    {
     "data": {
      "text/plain": [
       "str"
      ]
     },
     "execution_count": 29,
     "metadata": {},
     "output_type": "execute_result"
    }
   ],
   "source": [
    "a='pyhton'\n",
    "type(a)"
   ]
  },
  {
   "cell_type": "raw",
   "metadata": {},
   "source": [
    "#Type conversion\n",
    "bool() -> int() -> float()->str() but vice versa is not possible"
   ]
  },
  {
   "cell_type": "code",
   "execution_count": 31,
   "metadata": {},
   "outputs": [
    {
     "data": {
      "text/plain": [
       "10.5"
      ]
     },
     "execution_count": 31,
     "metadata": {},
     "output_type": "execute_result"
    }
   ],
   "source": [
    "True+7+2.5"
   ]
  },
  {
   "cell_type": "raw",
   "metadata": {},
   "source": [
    "# programming constructs:\n",
    "---------------------------------------\n",
    "Conditional Constructs: if statement\n",
    "    if condition/s:\n",
    "        line1\n",
    "    elif condion/s:\n",
    "        line3\n",
    "    else:\n",
    "        linen\n",
    "        \n",
    "    ternary if: if(condtion/s, truevalue, falsevalue): excel\n",
    "        truevalue if condition/s else falsevalue\n",
    "\n",
    "Iterable/loops: \n",
    "    while : conditional loop :  entry controlled loop\n",
    "    while condition/s:\n",
    "        line1\n",
    "        line2....\n",
    "            \n",
    "    for : ranged loop\n",
    "    for varname in range/iterable:\n",
    "        line1\n",
    "\n",
    "line2...."
   ]
  },
  {
   "cell_type": "code",
   "execution_count": 32,
   "metadata": {},
   "outputs": [
    {
     "name": "stdout",
     "output_type": "stream",
     "text": [
      "13  *  1  =  13\n",
      "13  *  2  =  26\n",
      "13  *  3  =  39\n",
      "13  *  4  =  52\n",
      "13  *  5  =  65\n",
      "13  *  6  =  78\n",
      "13  *  7  =  91\n",
      "13  *  8  =  104\n",
      "13  *  9  =  117\n",
      "13  *  10  =  130\n"
     ]
    }
   ],
   "source": [
    "# Conditional loops: write a table of 5\n",
    "# 5 * 1 = 5\n",
    "# 5 * 2 = 10\n",
    "\n",
    "n1, n2 = 13, 1  \n",
    "while n2 <= 10:\n",
    "    print(n1, ' * ', n2,  ' = ', n1 * n2)\n",
    "    n2 = n2 + 1"
   ]
  },
  {
   "cell_type": "raw",
   "metadata": {},
   "source": [
    "# range function: range\n",
    "Syntax: \n",
    "-------------------------------------------------------------------\n",
    "    range(startvalue, endvalue, step)\n",
    "    range(startvalue, endvalue) # defalut of step 1\n",
    "    range(endvalue) # defalut of startvalue 0, defalut of step 1 "
   ]
  },
  {
   "cell_type": "code",
   "execution_count": 1,
   "metadata": {},
   "outputs": [
    {
     "data": {
      "text/plain": [
       "range(0, 10)"
      ]
     },
     "execution_count": 1,
     "metadata": {},
     "output_type": "execute_result"
    }
   ],
   "source": [
    " range(10)    # [0, 1, 2, 3, ..... 9]"
   ]
  },
  {
   "cell_type": "code",
   "execution_count": 141,
   "metadata": {},
   "outputs": [
    {
     "name": "stdout",
     "output_type": "stream",
     "text": [
      "1\n",
      "3\n",
      "5\n",
      "7\n",
      "9\n"
     ]
    }
   ],
   "source": [
    "# ranged loops: for   [0, 1, 2, 3, 4, 5, 6, 7, 8, 9]\n",
    "for iCounter in range(1, 10, 2):\n",
    "    print(iCounter)"
   ]
  },
  {
   "cell_type": "code",
   "execution_count": 146,
   "metadata": {},
   "outputs": [
    {
     "name": "stdout",
     "output_type": "stream",
     "text": [
      "0\n"
     ]
    }
   ],
   "source": [
    "for iCounter in range(0, 1, 1):\n",
    "    print(iCounter)"
   ]
  },
  {
   "cell_type": "code",
   "execution_count": 151,
   "metadata": {},
   "outputs": [
    {
     "name": "stdout",
     "output_type": "stream",
     "text": [
      "1\n",
      "2\n",
      "3\n",
      "4\n"
     ]
    }
   ],
   "source": [
    "for iCounter in (1, 2, 3, 4):\n",
    "    print(iCounter)"
   ]
  },
  {
   "cell_type": "code",
   "execution_count": 1,
   "metadata": {},
   "outputs": [
    {
     "name": "stdout",
     "output_type": "stream",
     "text": [
      "10\n",
      "9\n",
      "8\n",
      "7\n",
      "6\n",
      "5\n",
      "4\n",
      "3\n",
      "2\n",
      "1\n"
     ]
    }
   ],
   "source": [
    "for iCounter in range(10, 0, -1):\n",
    "    print(iCounter)"
   ]
  },
  {
   "cell_type": "code",
   "execution_count": 2,
   "metadata": {},
   "outputs": [],
   "source": [
    "# print positive if numbers is positive and negative if < 0\n",
    "num = -5"
   ]
  },
  {
   "cell_type": "code",
   "execution_count": 3,
   "metadata": {},
   "outputs": [
    {
     "name": "stdout",
     "output_type": "stream",
     "text": [
      "Negative\n"
     ]
    }
   ],
   "source": [
    "# if statement\n",
    "if num > 0:\n",
    "    print('Positive')\n",
    "elif num == 0:\n",
    "    print('Zero')\n",
    "else:\n",
    "    print('Negative')"
   ]
  },
  {
   "cell_type": "code",
   "execution_count": 4,
   "metadata": {},
   "outputs": [],
   "source": [
    "num = 0"
   ]
  },
  {
   "cell_type": "code",
   "execution_count": 5,
   "metadata": {},
   "outputs": [
    {
     "data": {
      "text/plain": [
       "'zero'"
      ]
     },
     "execution_count": 5,
     "metadata": {},
     "output_type": "execute_result"
    }
   ],
   "source": [
    "# ternary if statement\n",
    "# 'positive' if num > 0 else 'negative'\n",
    "\n",
    "var = 'positive' if num > 0 else 'negative' if num < 0 else 'zero'\n",
    "var"
   ]
  },
  {
   "cell_type": "code",
   "execution_count": null,
   "metadata": {},
   "outputs": [],
   "source": [
    "if num > 0:\n",
    "    print('Positive')\n",
    "elif num == 0:\n",
    "    print('Zero')\n",
    "else:\n",
    "    print('Negative')"
   ]
  },
  {
   "cell_type": "code",
   "execution_count": 6,
   "metadata": {},
   "outputs": [],
   "source": [
    "num = 0"
   ]
  },
  {
   "cell_type": "code",
   "execution_count": 7,
   "metadata": {},
   "outputs": [
    {
     "name": "stdout",
     "output_type": "stream",
     "text": [
      "Positive\n"
     ]
    }
   ],
   "source": [
    "if (num >= 0):\n",
    "    print('Positive')\n",
    "elif num == 0:\n",
    "    print('Zero')\n",
    "else:\n",
    "    print('Negative')"
   ]
  },
  {
   "cell_type": "code",
   "execution_count": 8,
   "metadata": {},
   "outputs": [
    {
     "name": "stdout",
     "output_type": "stream",
     "text": [
      "Positive\n",
      "Zero\n"
     ]
    }
   ],
   "source": [
    "if (num >= 0):\n",
    "    print('Positive')\n",
    "    \n",
    "if num == 0:\n",
    "    print('Zero')"
   ]
  },
  {
   "cell_type": "code",
   "execution_count": 9,
   "metadata": {},
   "outputs": [],
   "source": [
    "a = 'Python'\n",
    "b = 'Class'"
   ]
  },
  {
   "cell_type": "code",
   "execution_count": 63,
   "metadata": {},
   "outputs": [
    {
     "data": {
      "text/plain": [
       "'PythonClass2'"
      ]
     },
     "execution_count": 63,
     "metadata": {},
     "output_type": "execute_result"
    }
   ],
   "source": [
    "a + b + str(2)"
   ]
  },
  {
   "cell_type": "code",
   "execution_count": 11,
   "metadata": {},
   "outputs": [
    {
     "ename": "ValueError",
     "evalue": "invalid literal for int() with base 10: 'Python'",
     "output_type": "error",
     "traceback": [
      "\u001b[1;31m---------------------------------------------------------------------------\u001b[0m",
      "\u001b[1;31mValueError\u001b[0m                                Traceback (most recent call last)",
      "\u001b[1;32m<ipython-input-11-657349cba18b>\u001b[0m in \u001b[0;36m<module>\u001b[1;34m\u001b[0m\n\u001b[1;32m----> 1\u001b[1;33m \u001b[1;36m5\u001b[0m \u001b[1;33m+\u001b[0m \u001b[0mint\u001b[0m\u001b[1;33m(\u001b[0m\u001b[0ma\u001b[0m\u001b[1;33m)\u001b[0m\u001b[1;33m\u001b[0m\u001b[1;33m\u001b[0m\u001b[0m\n\u001b[0m",
      "\u001b[1;31mValueError\u001b[0m: invalid literal for int() with base 10: 'Python'"
     ]
    }
   ],
   "source": [
    "5 + int(a)"
   ]
  },
  {
   "cell_type": "code",
   "execution_count": 45,
   "metadata": {},
   "outputs": [],
   "source": [
    "b = int(a)"
   ]
  },
  {
   "cell_type": "code",
   "execution_count": 47,
   "metadata": {},
   "outputs": [
    {
     "data": {
      "text/plain": [
       "int"
      ]
     },
     "execution_count": 47,
     "metadata": {},
     "output_type": "execute_result"
    }
   ],
   "source": [
    "type(b)"
   ]
  },
  {
   "cell_type": "code",
   "execution_count": null,
   "metadata": {},
   "outputs": [],
   "source": []
  },
  {
   "cell_type": "code",
   "execution_count": 38,
   "metadata": {},
   "outputs": [
    {
     "data": {
      "text/plain": [
       "-2021"
      ]
     },
     "execution_count": 38,
     "metadata": {},
     "output_type": "execute_result"
    }
   ],
   "source": [
    "7-9-2019"
   ]
  },
  {
   "cell_type": "code",
   "execution_count": 24,
   "metadata": {},
   "outputs": [
    {
     "data": {
      "text/plain": [
       "False"
      ]
     },
     "execution_count": 24,
     "metadata": {},
     "output_type": "execute_result"
    }
   ],
   "source": [
    "5 / 2 + 4"
   ]
  },
  {
   "cell_type": "code",
   "execution_count": 25,
   "metadata": {},
   "outputs": [
    {
     "data": {
      "text/plain": [
       "True"
      ]
     },
     "execution_count": 25,
     "metadata": {},
     "output_type": "execute_result"
    }
   ],
   "source": [
    "4 > 3"
   ]
  },
  {
   "cell_type": "code",
   "execution_count": 36,
   "metadata": {},
   "outputs": [
    {
     "data": {
      "text/plain": [
       "False"
      ]
     },
     "execution_count": 36,
     "metadata": {},
     "output_type": "execute_result"
    }
   ],
   "source": [
    "5 == 4 and (4 > 3  or 1 == 1)"
   ]
  },
  {
   "cell_type": "code",
   "execution_count": null,
   "metadata": {},
   "outputs": [],
   "source": []
  },
  {
   "cell_type": "code",
   "execution_count": 17,
   "metadata": {},
   "outputs": [],
   "source": [
    "var = 5"
   ]
  },
  {
   "cell_type": "code",
   "execution_count": 21,
   "metadata": {},
   "outputs": [
    {
     "name": "stdout",
     "output_type": "stream",
     "text": [
      "Python\n"
     ]
    }
   ],
   "source": [
    "print(var)"
   ]
  },
  {
   "cell_type": "code",
   "execution_count": 4,
   "metadata": {},
   "outputs": [
    {
     "data": {
      "text/plain": [
       "int"
      ]
     },
     "execution_count": 4,
     "metadata": {},
     "output_type": "execute_result"
    }
   ],
   "source": [
    "type(var)"
   ]
  },
  {
   "cell_type": "code",
   "execution_count": 19,
   "metadata": {},
   "outputs": [],
   "source": [
    "var = \"Python\""
   ]
  },
  {
   "cell_type": "code",
   "execution_count": 20,
   "metadata": {},
   "outputs": [
    {
     "name": "stdout",
     "output_type": "stream",
     "text": [
      "Python\n"
     ]
    }
   ],
   "source": [
    "print(var)"
   ]
  },
  {
   "cell_type": "code",
   "execution_count": 8,
   "metadata": {},
   "outputs": [
    {
     "data": {
      "text/plain": [
       "str"
      ]
     },
     "execution_count": 8,
     "metadata": {},
     "output_type": "execute_result"
    }
   ],
   "source": [
    "type(var)"
   ]
  },
  {
   "cell_type": "code",
   "execution_count": null,
   "metadata": {},
   "outputs": [],
   "source": []
  },
  {
   "cell_type": "code",
   "execution_count": null,
   "metadata": {},
   "outputs": [],
   "source": []
  }
 ],
 "metadata": {
  "kernelspec": {
   "display_name": "Python 3",
   "language": "python",
   "name": "python3"
  },
  "language_info": {
   "codemirror_mode": {
    "name": "ipython",
    "version": 3
   },
   "file_extension": ".py",
   "mimetype": "text/x-python",
   "name": "python",
   "nbconvert_exporter": "python",
   "pygments_lexer": "ipython3",
   "version": "3.7.4"
  }
 },
 "nbformat": 4,
 "nbformat_minor": 2
}
