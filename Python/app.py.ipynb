{
 "cells": [
  {
   "cell_type": "code",
   "execution_count": null,
   "metadata": {},
   "outputs": [],
   "source": [
    "from flask import Flask\n",
    "app = Flask(__name__)\n",
    "\n",
    "@app.route('/')\n",
    "def hello_world():\n",
    "   return 'Python Session'\n",
    "\n",
    "if __name__ == '__main__':\n",
    "   app.run()"
   ]
  },
  {
   "cell_type": "markdown",
   "metadata": {},
   "source": [
    "- __name__ is a variable that Python automatically creates, and it’s equal to \"__main__\" when it’s you that ran the code (as opposed to another script running the code). You’ll see this line a lot while doing Python, so it’s good to get used to it."
   ]
  },
  {
   "cell_type": "code",
   "execution_count": null,
   "metadata": {},
   "outputs": [],
   "source": [
    "from flask import Flask\n",
    "app = Flask(__name__)\n",
    "@app.route('/')\n",
    "def hello_world():\n",
    "  # Link to test page\n",
    "  return 'To see the test route go to /test'\n",
    "@app.route('/test')\n",
    "def testing():\n",
    "  return 'You got to the testing route!'\n",
    "if __name__ == '__main__':\n",
    "  app.run(host='0.0.0.0')\n",
    "#http://localhost:5000/"
   ]
  },
  {
   "cell_type": "code",
   "execution_count": null,
   "metadata": {},
   "outputs": [],
   "source": [
    "from flask import Flask\n",
    "app = Flask(__name__)\n",
    "\n",
    "@app.route('/')\n",
    "def hello_world():\n",
    "    return 'Open the URL in another tab, and then go to /hello/yourname'\n",
    "\n",
    "@app.route('/hello/<name>')\n",
    "def hello_name(name):\n",
    "    return 'Hello '+ name + '!'\n",
    "\n",
    "if __name__ == '__main__':\n",
    "  app.run(host='0.0.0.0')"
   ]
  },
  {
   "cell_type": "code",
   "execution_count": null,
   "metadata": {},
   "outputs": [],
   "source": [
    "from flask import Flask\n",
    "app = Flask(__name__)\n",
    "\n",
    "def factors(num):\n",
    "  return [x for x in range(1, num+1) if num%x==0]\n",
    "\n",
    "@app.route('/')\n",
    "def home():\n",
    "  return \"Open the URL and go to /factors/num to see the website\"\n",
    "\n",
    "@app.route('/factors/<int:num>')\n",
    "def factors_route(num):\n",
    "  return \"The factors of {} are {}\".format(num, factors(num))\n",
    "\n",
    "if __name__ == '__main__':\n",
    "  app.run(host='0.0.0.0')"
   ]
  },
  {
   "cell_type": "code",
   "execution_count": null,
   "metadata": {},
   "outputs": [],
   "source": [
    "from flask import Flask\n",
    "app = Flask(__name__)\n",
    "\n",
    "def factors(num):\n",
    "  return [x for x in range(1, num+1) if num%x==0]\n",
    "\n",
    "@app.route('/')\n",
    "def home():\n",
    "  return '<a href=\"/factors_raw/100\"> click here for an example</a>'\n",
    "\n",
    "@app.route('/factors_raw/<int:n>')\n",
    "def factors_display_raw_html(n):\n",
    "\tfactors_list = factors(int(n))\n",
    "\t# First we put the stuff at the top, adding \"n\" in there\n",
    "\thtml = \"<h1> The factors of \"+str(n)+\" are</h1>\"+\"\\n\"+\"<ul>\"\n",
    "\t\n",
    "\t# for each factor, we make a <li> item for it\n",
    "\tfor f in factors_list:\n",
    "\t\thtml += \"<li>\"+str(f)+\"</li>\"+\"\\n\"\n",
    "\thtml += \"</ul> </body>\" # the close tags at the bottom\n",
    "\treturn html\n",
    "\n",
    "if __name__ == '__main__':\n",
    "    app.run(host='0.0.0.0')\n",
    "\n"
   ]
  },
  {
   "cell_type": "markdown",
   "metadata": {},
   "source": [
    "- https://factors-example-website-raw-html--misingnoglic.repl.co/\n",
    "- https://factors-example-website-raw-html--misingnoglic.repl.co/factors_raw/100"
   ]
  },
  {
   "cell_type": "code",
   "execution_count": null,
   "metadata": {},
   "outputs": [],
   "source": []
  }
 ],
 "metadata": {
  "kernelspec": {
   "display_name": "Python 3",
   "language": "python",
   "name": "python3"
  },
  "language_info": {
   "codemirror_mode": {
    "name": "ipython",
    "version": 3
   },
   "file_extension": ".py",
   "mimetype": "text/x-python",
   "name": "python",
   "nbconvert_exporter": "python",
   "pygments_lexer": "ipython3",
   "version": "3.7.3"
  }
 },
 "nbformat": 4,
 "nbformat_minor": 2
}
