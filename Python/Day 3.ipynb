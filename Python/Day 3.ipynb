{
 "cells": [
  {
   "cell_type": "code",
   "execution_count": null,
   "metadata": {},
   "outputs": [],
   "source": [
    "def test():\n",
    "  print(\"HI All\")"
   ]
  },
  {
   "cell_type": "code",
   "execution_count": null,
   "metadata": {},
   "outputs": [],
   "source": [
    "#Functions \n",
    "def demo(x,y):\n",
    "    print(x+y)\n",
    "    return(y)\n",
    "demo(21,3)#will return the value that is allowed here it is X"
   ]
  },
  {
   "cell_type": "markdown",
   "metadata": {},
   "source": [
    "### Return() is not mandatory in Python"
   ]
  },
  {
   "cell_type": "code",
   "execution_count": null,
   "metadata": {},
   "outputs": [],
   "source": [
    "def cal(x,y,z):\n",
    "    print(\"sum =\",x+y+z)\n",
    "    print(\"mul=\",x*y*z)\n",
    "cal(3,2,4)\n",
    "cal(8,9,6)\n",
    "cal(7,6,7)"
   ]
  },
  {
   "cell_type": "markdown",
   "metadata": {},
   "source": [
    "### Different variable class can be passed within a function"
   ]
  },
  {
   "cell_type": "code",
   "execution_count": null,
   "metadata": {},
   "outputs": [],
   "source": [
    "def Emp(name=\" \",age=10,f=0.0):\n",
    "  name=input(\"Enter your name\")\n",
    "  age = int(input(\"Enter your age=\"))\n",
    "  exp= float(input(\"Experince=\"))\n",
    "  print(\"Name=%s age=%d Exp=%f\"%(name,age,exp))\n",
    "\n",
    "Emp()"
   ]
  },
  {
   "cell_type": "code",
   "execution_count": null,
   "metadata": {},
   "outputs": [],
   "source": [
    "def data(name=\"\",age=12,Gender=\"F\"):\n",
    "    print(\"Name=%s age=%d Gender=%s\"%(name,age,Gender))\n",
    "data(\"ROY\",12,\"M\")\n",
    "data(\"A\",3,\"F\")"
   ]
  },
  {
   "cell_type": "markdown",
   "metadata": {},
   "source": [
    "### Use math module for mathemathical functions "
   ]
  },
  {
   "cell_type": "code",
   "execution_count": 13,
   "metadata": {},
   "outputs": [
    {
     "name": "stdout",
     "output_type": "stream",
     "text": [
      "Enter any number =45\n"
     ]
    },
    {
     "data": {
      "text/plain": [
       "6.708"
      ]
     },
     "execution_count": 13,
     "metadata": {},
     "output_type": "execute_result"
    }
   ],
   "source": [
    "import math \n",
    "x=int(input(\"Enter any number =\"))\n",
    "math.factorial(x)\n",
    "math.exp(x)\n",
    "math.pow(x,4)\n",
    "math.acosh(x)\n",
    "math.pi\n",
    "math.radians(60)\n",
    "math.sin(1.04719)\n",
    "math.log(100)\n",
    "math.log10(100)\n",
    "math.sqrt(x)\n",
    "round(math.sqrt(x),3)"
   ]
  },
  {
   "cell_type": "markdown",
   "metadata": {},
   "source": [
    "### - Q Write a Python function to sum all the numbers in a list. "
   ]
  },
  {
   "cell_type": "code",
   "execution_count": null,
   "metadata": {},
   "outputs": [],
   "source": [
    "def sum(numbers):\n",
    "    total = 0\n",
    "    for x in numbers:    \n",
    "        total += x\n",
    "    return total\n",
    "#print(sum((12,34,55)))\n",
    "sum((12,12))"
   ]
  },
  {
   "cell_type": "markdown",
   "metadata": {},
   "source": [
    "### - Q Write a Python funtion to check whether a given number is the given range?"
   ]
  },
  {
   "cell_type": "code",
   "execution_count": null,
   "metadata": {},
   "outputs": [],
   "source": [
    "def test_range(n):\n",
    "    if n in range(12,50):\n",
    "        print( \" %s is in the range\"%str(n))\n",
    "    else :\n",
    "        print(\"The number is outside the given range.\")\n",
    "test_range(13)\n"
   ]
  },
  {
   "cell_type": "markdown",
   "metadata": {},
   "source": [
    "### - Q Write a Python function that accepts a string and calculate the number of upper case letters and lower case letters"
   ]
  },
  {
   "cell_type": "code",
   "execution_count": null,
   "metadata": {},
   "outputs": [],
   "source": [
    " d={\"UPPER_CASE\":0, \"LOWER_CASE\":0}\n",
    " d[\"UPPER_CASE\"]+=2\n",
    "d"
   ]
  },
  {
   "cell_type": "code",
   "execution_count": null,
   "metadata": {},
   "outputs": [],
   "source": [
    "def string_test(s):\n",
    "    d={\"UPPER_CASE\":0, \"LOWER_CASE\":0,\"SPACES_\":0}\n",
    "    for c in s:\n",
    "        if c.isupper():\n",
    "           d[\"UPPER_CASE\"]+=1\n",
    "        elif c.islower():\n",
    "           d[\"LOWER_CASE\"]+=1\n",
    "        else:\n",
    "           pass\n",
    "    print (\"Original String : \", s)\n",
    "    print (\"No. of Upper case characters : \", d[\"UPPER_CASE\"])\n",
    "    print (\"No. of Lower case Characters : \", d[\"LOWER_CASE\"])\n",
    "\n",
    "string_test(\"PRACTICE\")\n"
   ]
  },
  {
   "cell_type": "markdown",
   "metadata": {},
   "source": [
    "## Lamba Function\n",
    "ambda function\n",
    "\n",
    "   -  The lambda keyword is used to create anonymous functions\n",
    "    - This function can have any number of arguments but only one expression, which is evaluated and returned.\n",
    "    - One is free to use lambda functions wherever function objects are required.\n",
    "    - You need to keep in your knowledge that lambda functions are syntactically restricted to a single expression.\n"
   ]
  },
  {
   "cell_type": "code",
   "execution_count": null,
   "metadata": {},
   "outputs": [],
   "source": [
    "x=lambda a : a*3\n",
    "print(x(5)) "
   ]
  },
  {
   "cell_type": "code",
   "execution_count": null,
   "metadata": {},
   "outputs": [],
   "source": [
    "a=[1,3,4,6,23,44,56,78,90,54,60]\n",
    "list_odd = list(filter(lambda x:(x %6==0),a))\n",
    "print(list_odd)"
   ]
  },
  {
   "cell_type": "code",
   "execution_count": null,
   "metadata": {},
   "outputs": [],
   "source": [
    "##Lambda functions can take any number of arguments\n",
    "x = lambda a, b : a * b\n",
    "print(x(5, 6)) "
   ]
  },
  {
   "cell_type": "markdown",
   "metadata": {},
   "source": [
    "### Write a Python program to sort a list of tuples using Lambda"
   ]
  },
  {
   "cell_type": "code",
   "execution_count": null,
   "metadata": {},
   "outputs": [],
   "source": [
    "subject_marks = [('English', 88), ('Science', 90), ('Maths', 97), ('Social sciences', 82)]\n",
    "print(\"Original list of tuples:\")\n",
    "print(subject_marks)\n",
    "subject_marks.sort(key = lambda x: x[1])\n",
    "print(\"\\nSorting the List of Tuples:\")\n",
    "print(subject_marks)\n"
   ]
  },
  {
   "cell_type": "markdown",
   "metadata": {},
   "source": [
    "### The power of lambda is better shown when you use them as an anonymous function inside another function."
   ]
  },
  {
   "cell_type": "code",
   "execution_count": 19,
   "metadata": {},
   "outputs": [
    {
     "name": "stdout",
     "output_type": "stream",
     "text": [
      "12\n"
     ]
    }
   ],
   "source": [
    "def my(r):\n",
    "    print(4*r)\n",
    "my(3)\n"
   ]
  },
  {
   "cell_type": "code",
   "execution_count": 28,
   "metadata": {},
   "outputs": [
    {
     "name": "stdout",
     "output_type": "stream",
     "text": [
      "The number: 6\n",
      "1296\n"
     ]
    }
   ],
   "source": [
    "def myfunc(n):\n",
    "  print(\"The number:\",n)\n",
    "  return lambda a : n**a\n",
    "  \n",
    "r = myfunc(6)\n",
    "\n",
    "print(r(4))"
   ]
  },
  {
   "cell_type": "markdown",
   "metadata": {},
   "source": [
    "### def mydata(n):\n",
    "  return lambda a,b:(a+b)*n\n",
    "var = mydata(4)\n",
    "print(var(2,3))"
   ]
  },
  {
   "cell_type": "markdown",
   "metadata": {},
   "source": [
    "## Classes in Python &OO programming"
   ]
  },
  {
   "cell_type": "code",
   "execution_count": null,
   "metadata": {},
   "outputs": [],
   "source": [
    "class  Program1:\n",
    "    \"HI\"   \n",
    "print(Program1)#Tell about status of class.\n",
    "print(60*\"*\")"
   ]
  },
  {
   "cell_type": "code",
   "execution_count": null,
   "metadata": {},
   "outputs": [],
   "source": [
    "class Program2:\n",
    "    name=\"RAM\"\n",
    "    age = 29\n",
    "print(\"NAME is %s and age is %d\"%(Program2.name,Program2.age))\n",
    "print(60*\"*\")"
   ]
  },
  {
   "cell_type": "code",
   "execution_count": null,
   "metadata": {},
   "outputs": [],
   "source": [
    "#Class &Objects\n",
    "class Phone:\n",
    "        Color=\" \"\n",
    "        Price =00\n",
    "        Type=\" \"\n",
    "ob1=Phone()#Creation of objects and assinging it to class phone.\n",
    "ob2=Phone()\n",
    "ob1.Color=\"RED\"\n",
    "ob1.Price=10000\n",
    "ob1.Type=\"Smart\"\n",
    "ob2.Color=\"Black\"\n",
    "ob2.Price=12000\n",
    "ob2.Type=\"Smart\"\n",
    "print(\"This is a %s phone of %s color and its price is %drs\"%(ob1.Type,ob1.Color,ob1.Price))\n",
    "print(\"This is a %s phone of %s color and its price is %drs\"%(ob2.Type,ob2.Color,ob2.Price))\n",
    "print(50*\"*\")"
   ]
  },
  {
   "cell_type": "code",
   "execution_count": null,
   "metadata": {},
   "outputs": [],
   "source": [
    "### Class and Function\n",
    "\n",
    "class X:\n",
    "\t\"Classses and functions\"\n",
    "\tmyroll= 9\n",
    "\tdef  student(self):\n",
    "\t\tprint('This is Science Class')\n",
    "ob = X()\n",
    "print(X.student)\n",
    "print(ob.student)\n",
    "ob.student()\n",
    "print(8*\"*\")\n",
    "class Shop:\n",
    "        \"Things in MYshop\"\n",
    "        Quantity = 10\n",
    "        Type       =   \"\"\n",
    "        price=500.00\n",
    "        def bill(self):\n",
    "            print(\"your bill for  % s dress of %d quantity is %drs:\"%(self.Type,self.Quantity,self.price))\n",
    "coustmer1=Shop()\n",
    "coustmer1.Quantity=5\n",
    "coustmer1.Type=\"saree\"\n",
    "coustmer1.price=20000\n",
    "coustmer1.bill()\n",
    "print(50*\"*\")\n",
    "\n"
   ]
  },
  {
   "cell_type": "code",
   "execution_count": null,
   "metadata": {},
   "outputs": [],
   "source": [
    "# dictionary from an class's fields.\n",
    "class dObj():\n",
    "     def __init__(self):\n",
    "         self.x = 'age'\n",
    "         self.y = 'name'\n",
    "         self.z = 'Gender'\n",
    "     def do(self):\n",
    "         pass\n",
    "d = dObj()\n",
    "print(d.__dict__)\n"
   ]
  },
  {
   "cell_type": "code",
   "execution_count": null,
   "metadata": {},
   "outputs": [],
   "source": []
  }
 ],
 "metadata": {
  "kernelspec": {
   "display_name": "Python 3",
   "language": "python",
   "name": "python3"
  },
  "language_info": {
   "codemirror_mode": {
    "name": "ipython",
    "version": 3
   },
   "file_extension": ".py",
   "mimetype": "text/x-python",
   "name": "python",
   "nbconvert_exporter": "python",
   "pygments_lexer": "ipython3",
   "version": "3.7.4"
  }
 },
 "nbformat": 4,
 "nbformat_minor": 2
}
