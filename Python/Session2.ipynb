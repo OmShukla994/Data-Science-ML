{
 "cells": [
  {
   "cell_type": "markdown",
   "metadata": {},
   "source": [
    "- Errrors \n",
    "- Exceptions\n",
    "- Debugging\n",
    "- Functional Programming\n",
    " \n",
    " \n",
    "\n"
   ]
  },
  {
   "cell_type": "markdown",
   "metadata": {},
   "source": [
    "# Exceptions"
   ]
  },
  {
   "cell_type": "markdown",
   "metadata": {},
   "source": [
    "### Exception Classes classes\n",
    "The following exceptions are used mostly as base classes for other exceptions.\n",
    "\n",
    "exception **BaseException**\n",
    "The base class for all built-in exceptions. It is not meant to be directly inherited by user-defined classes (for that, use Exception). If str() is called on an instance of this class, the representation of the argument(s) to the instance are returned, or the empty string when there were no arguments.\n",
    "\n",
    "**args**\n",
    "The tuple of arguments given to the exception constructor. Some built-in exceptions (like OSError) expect a certain number of arguments and assign a special meaning to the elements of this tuple, while others are usually called only with a single string giving an error message.\n",
    "\n",
    "**with_traceback(tb)**\n",
    "This method sets tb as the new traceback for the exception and returns the exception object. It is usually used in exception handling code.\n",
    "\n",
    "- exception Exception\n",
    "\n",
    "All built-in, non-system-exiting exceptions are derived from this class. All user-defined exceptions should also be derived from this class.\n",
    "\n",
    "- exception ArithmeticError\n",
    "\n",
    "The base class for those built-in exceptions that are raised for various arithmetic errors: OverflowError, ZeroDivisionError, FloatingPointError.\n",
    "\n",
    "- exception BufferError\n",
    "\n",
    "Raised when a buffer related operation cannot be performed.\n",
    "\n",
    "- exception LookupError\n",
    "\n",
    "The base class for the exceptions that are raised when a key or index used on a mapping or sequence is invalid: IndexError, KeyError. This can be raised directly by codecs.lookup()."
   ]
  },
  {
   "cell_type": "code",
   "execution_count": null,
   "metadata": {},
   "outputs": [],
   "source": [
    "a=(1,2,3)\n",
    "a.append(3)"
   ]
  },
  {
   "cell_type": "code",
   "execution_count": null,
   "metadata": {},
   "outputs": [],
   "source": [
    "try:\n",
    "  x=int(input(\"NUMBER = \"))\n",
    "  y=int(input())\n",
    "  print(x+y)\n",
    "  print(x/y)\n",
    "  print(x*y)\n",
    "except ZeroDivisionError:\n",
    "  print(\"Wrong operation :\")\n",
    " \n",
    "finally:\n",
    "  print(\"The 'try except' is finished\")"
   ]
  },
  {
   "cell_type": "code",
   "execution_count": null,
   "metadata": {},
   "outputs": [],
   "source": [
    "try:\n",
    "        x=int(input(\"NUMBER=\"))\n",
    "        y=int(input(\"Number\"))\n",
    "        print(x/y)\n",
    "        \n",
    "except Exception as e:\n",
    "       print('Caught this error: ' + repr(e))"
   ]
  },
  {
   "cell_type": "code",
   "execution_count": null,
   "metadata": {},
   "outputs": [],
   "source": [
    "print(\"Hi all\")\n",
    "name=(\"Enter your name pls\")\n",
    "\n",
    "print(\"End\")"
   ]
  },
  {
   "cell_type": "code",
   "execution_count": null,
   "metadata": {},
   "outputs": [],
   "source": [
    "try:\n",
    "    x=int(input(\"Enter First Number\"))\n",
    "    y=int(input(\"Enter Second Number\"))\n",
    "    print(\"sum is:\", x+y)\n",
    "    print(\"div is:\",x/y)\n",
    "    print(\"product is:\",x*y)\n",
    "except  Exception as e:\n",
    "        if type(e) == ZeroDivisionError:\n",
    "              print(\"oops!!Error either wrong divisior\")\n",
    "        elif type(e)== ValueError:\n",
    "            print(\"Wrong datatype\")\n",
    "        else:\n",
    "            pass"
   ]
  },
  {
   "cell_type": "code",
   "execution_count": null,
   "metadata": {},
   "outputs": [],
   "source": [
    "#ZeroDivisionError\n",
    "#Syntax Error(EOF Error,Indentation Error)\n",
    "#IOError\n",
    "#ImportError\n",
    "#ValueError\n",
    "#NameError\n",
    "#wrong operation :Type ERROR \n",
    "print(\"*****ZeroDivisionError*******\")\n",
    "try:\n",
    "    x=int(input(\"Enter First Number\"))\n",
    "    y=int(input(\"Enter Second Number\"))\n",
    "    print(\"sum is:\", x+y)\n",
    "    print(\"div is:\",x/y)\n",
    "    print(\"product is:\",x*y)\n",
    "except  (ZeroDivisionError,ValueError)  as e:\n",
    "        print(\"oops!!Error either wrong division or wrong data type entered\")\n",
    "        print(\"ReEnter:\")\n",
    "        x=int(input(\"Enter First Number\"))\n",
    "        y=int(input(\"Enter Second  Number\"))\n",
    "        print(\"sum is:\", x+y)\n",
    "        print(\"answer is:\",x/y)\n",
    "        print(\"product is:\",x*y)      \n",
    "\n",
    "print(\"****Module Error*****\")\n",
    "try:\n",
    "    import time\n",
    "    t=time.strftime(\"%c\")\n",
    "    print(t)\n",
    "except ImportError as e:\n",
    "    print(\"OOps you have imported wrong module\")\n",
    "print(\"****IOE Error*****\")\n",
    "try:\n",
    "      a=input(\"Enter file name you want to read\")\n",
    "      f=open(a,\"r\")\n",
    "      x=f.read()\n",
    "      print(x)\n",
    "except IOError as e:\n",
    "      print(\"you have entered wrong file name\")\n",
    "      a=input(\"ReEnter file name\")\n",
    "      f=open(a,\"r\")\n",
    "      x=f.read()\n",
    "      print(x)\n",
    "print(\"Name Error\")\n",
    "x=6\n",
    "try:\n",
    " print(\"the square of x is\",(k*k))\n",
    "except NameError as e:\n",
    " print(\"youn have entered unknow variable\")\n",
    "      \n"
   ]
  },
  {
   "cell_type": "markdown",
   "metadata": {},
   "source": [
    "### Concrete exceptions¶\n",
    "The following exceptions are the exceptions that are usually raised.\n",
    "\n",
    "- exception AssertionError\n",
    "Raised when an assert statement fails.\n",
    "\n",
    "- exception AttributeError\n",
    "Raised when an attribute reference (see Attribute references) or assignment fails. (When an object does not support attribute references or attribute assignments at all, TypeError is raised.)\n",
    "\n",
    "- exception EOFError\n",
    "Raised when the input() function hits an end-of-file condition (EOF) without reading any data. (N.B.: the io.IOBase.read() and io.IOBase.readline() methods return an empty string when they hit EOF.)\n",
    "\n",
    "- exception FloatingPointError\n",
    "Not currently used.\n",
    "\n",
    "- exception GeneratorExit\n",
    "Raised when a generator or coroutine is closed; see generator.close() and coroutine.close(). It directly inherits from BaseException instead of Exception since it is technically not an error.\n",
    "\n",
    "- exception ImportError\n",
    "Raised when the import statement has troubles trying to load a module. Also raised when the “from list” in from ... import has a name that cannot be found.\n",
    "\n",
    "### What is Assertion?\n",
    "Assertions are statements that assert or state a fact confidently in your program. For example, while writing a division function, you're confident the divisor shouldn't be zero, you assert divisor is not equal to zero.\n",
    "\n",
    "- Assertions are simply boolean expressions that checks if the conditions return true or not. If it is true, the program does nothing and move to the next line of code. However, if it's false, the program stops and throws an error\n",
    "- Python's assert statement is a debugging aid that tests a condition. If the condition is true, it does nothing and your program just continues to execute. But if the assert condition evaluates to false, it raises an AssertionError exception with an optional error message.\n",
    "\n",
    "### Python assert Statement\n",
    "Python has built-in assert statement to use assertion condition in the program. assert statement has a condition or expression which is supposed to be always true. If the condition is false assert halts the program and gives an AssertionError."
   ]
  },
  {
   "cell_type": "code",
   "execution_count": null,
   "metadata": {},
   "outputs": [],
   "source": [
    "# Without  Error message\n",
    "def avg(marks):\n",
    "        assert len(marks) != 0\n",
    "        return sum(marks)/len(marks)\n",
    "try:        \n",
    "        mark2=  []\n",
    "        print(\"Average of mark1:\",avg(mark2))\n",
    "except  AssertionError as e:\n",
    "        print(\"Marks cannt be empty\")\n"
   ]
  },
  {
   "cell_type": "code",
   "execution_count": null,
   "metadata": {},
   "outputs": [],
   "source": [
    "# With error message\n",
    "def avg(marks):\n",
    "    assert len(marks) != 0 ,\"List is empty.\"\n",
    "    return sum(marks)/len(marks)\n",
    "\n",
    "mark2 = [30,40]\n",
    "print(\"Average of mark2:\",avg(mark2))\n",
    "\n",
    "mark1 = []\n",
    "print(\"Average of mark1:\",avg(mark1))"
   ]
  },
  {
   "cell_type": "markdown",
   "metadata": {},
   "source": [
    "### Log Generation \n",
    "Logging is a means of tracking events that happen when some software runs. Logging is important for software developing, debugging and running. If you don’t have any logging record and your program crashes, there are very little chances that you detect the cause of the problem. \n",
    "\n",
    "There are two built-in levels of the log message.\n",
    "\n",
    "- Debug : These are used to give Detailed information, typically of interest only when diagnosing problems.\n",
    "- Info : These are used to Confirm that things are working as expected\n",
    "- Warning : These are used an indication that something unexpected happened, or indicative of some problem in the near future\n",
    "- Error : This tells that due to a more serious problem, the software has not been able to perform some function\n",
    "- Critical : This tells serious error, indicating that the program itself may be unable to continue running\n",
    "\n",
    "Logging module is packed with several features. It has several constants, classes, and methods. The items with all caps are constant, the capitalize items are classes and the items which start with lowercase letters are methods.\n",
    "There are several logger objects offered by the module itself.\n",
    "\n",
    "- Logger.info(msg) : This will log a message with level INFO on this logger.\n",
    "- Logger.warning(msg) : This will log a message with level WARNING on this logger.\n",
    "- Logger.error(msg) : This will log a message with level ERROR on this logger.\n",
    "- Logger.critical(msg) : This will log a message with level CRITICAL on this logger.\n",
    "- Logger.log(lvl,msg) : This will Logs a message with integer level lvl on this logger.\n",
    "- Logger.exception(msg) : This will log a message with level ERROR on this logger.\n",
    "- Logger.setLevel(lvl) : This function sets the threshold of this logger to lvl. This means that all the messages below this level will be ignored.\n",
    "- Logger.addFilter(filt) : This adds a specific filter filt to the to this logger.\n",
    "- Logger.removeFilter(filt) : This removes a specific filter filt to the to this logger.\n"
   ]
  },
  {
   "cell_type": "code",
   "execution_count": null,
   "metadata": {},
   "outputs": [],
   "source": [
    "#importing module \n",
    "\n",
    "#importing module \n",
    "import logging \n",
    "\n",
    "#Create and configure logger \n",
    "logging.basicConfig(filename=\"1.log\", \n",
    "\t\t\t\t\tformat='%(asctime)s %(message)s', \n",
    "\t\t\t\t\tfilemode='w') \n",
    "\n",
    "#Creating an object \n",
    "logger=logging.getLogger() \n",
    "\n",
    "#Setting the threshold of logger to DEBUG \n",
    "logger.setLevel(logging.DEBUG) \n",
    "\n",
    "#Test messages \n",
    "logger.debug(\"Harmless debug Message\") \n",
    "logger.info(\"Just an information\") \n",
    "logger.warning(\"Its a Warning\") \n",
    "logger.error(\"Did you try to divide by zero\") \n",
    "logger.critical(\"Internet is down\") \n"
   ]
  },
  {
   "cell_type": "markdown",
   "metadata": {},
   "source": [
    "### Debugging\n",
    "Python has a debugger, which is available as a module called pdb (for “Python DeBugger”, naturally)"
   ]
  },
  {
   "cell_type": "code",
   "execution_count": 1,
   "metadata": {},
   "outputs": [],
   "source": [
    "y=\"ashi\""
   ]
  },
  {
   "cell_type": "code",
   "execution_count": 9,
   "metadata": {},
   "outputs": [
    {
     "name": "stdout",
     "output_type": "stream",
     "text": [
      "Your Name\th\n",
      "--Return--\n",
      "> <ipython-input-9-f11c12cf4054>(4)<module>()->None\n",
      "-> pdb.set_trace()\n",
      "(Pdb) h\n",
      "\n",
      "Documented commands (type help <topic>):\n",
      "========================================\n",
      "EOF    c          d        h         list      q        rv       undisplay\n",
      "a      cl         debug    help      ll        quit     s        unt      \n",
      "alias  clear      disable  ignore    longlist  r        source   until    \n",
      "args   commands   display  interact  n         restart  step     up       \n",
      "b      condition  down     j         next      return   tbreak   w        \n",
      "break  cont       enable   jump      p         retval   u        whatis   \n",
      "bt     continue   exit     l         pp        run      unalias  where    \n",
      "\n",
      "Miscellaneous help topics:\n",
      "==========================\n",
      "exec  pdb\n",
      "\n",
      "(Pdb) help\n",
      "\n",
      "Documented commands (type help <topic>):\n",
      "========================================\n",
      "EOF    c          d        h         list      q        rv       undisplay\n",
      "a      cl         debug    help      ll        quit     s        unt      \n",
      "alias  clear      disable  ignore    longlist  r        source   until    \n",
      "args   commands   display  interact  n         restart  step     up       \n",
      "b      condition  down     j         next      return   tbreak   w        \n",
      "break  cont       enable   jump      p         retval   u        whatis   \n",
      "bt     continue   exit     l         pp        run      unalias  where    \n",
      "\n",
      "Miscellaneous help topics:\n",
      "==========================\n",
      "exec  pdb\n",
      "\n",
      "(Pdb) c\n",
      "AutoDesk\n"
     ]
    }
   ],
   "source": [
    "# epdb1.py -- experiment with the Python debugger, pdb\n",
    "import pdb\n",
    "x=input(\"Your Name\\t\")\n",
    "pdb.set_trace()\n",
    "a= \"Auto\"\n",
    "b = \"Desk\"\n",
    "c =  a + b\n",
    "print (c)"
   ]
  },
  {
   "cell_type": "markdown",
   "metadata": {},
   "source": [
    "## Functional Programming\n",
    "\n",
    "- Functional programming is a programming paradigm, a style of building the structure and elements of computer programs, that treats computation as the evaluation of mathematical functions and avoids changing-state and mutable data.\n",
    "\n",
    "- In simple words Functional programming focus on task.\n",
    "\n",
    "### Outlines for functional programming\n",
    "- Pure functions\n",
    "- Ways and constructs to limit the use of for loops\n",
    "- Good support for recursion\n",
    "\n",
    "### Functions as first class objects in python"
   ]
  },
  {
   "cell_type": "code",
   "execution_count": 10,
   "metadata": {},
   "outputs": [
    {
     "name": "stdout",
     "output_type": "stream",
     "text": [
      "19\n"
     ]
    }
   ],
   "source": [
    "x=9\n",
    "y=10\n",
    "print(x+y)"
   ]
  },
  {
   "cell_type": "code",
   "execution_count": 14,
   "metadata": {},
   "outputs": [
    {
     "name": "stdout",
     "output_type": "stream",
     "text": [
      "3\tA\n",
      "-7\tB\n",
      "16\tC\n"
     ]
    }
   ],
   "source": [
    "def d(x,y=\"\"):\n",
    "    print(x,y,sep=\"\\t\")\n",
    "d(3,\"A\")\n",
    "d(-7,\"B\")\n",
    "d(16,\"C\")"
   ]
  },
  {
   "cell_type": "code",
   "execution_count": 15,
   "metadata": {},
   "outputs": [
    {
     "data": {
      "text/plain": [
       "[1, 3, 5, 7, 9, 11, 13, 15, 17, 19]"
      ]
     },
     "execution_count": 15,
     "metadata": {},
     "output_type": "execute_result"
    }
   ],
   "source": [
    " def is_odd(n):\n",
    "    return (n % 2) != 0\n",
    "list(filter(is_odd, range(20)))"
   ]
  },
  {
   "cell_type": "code",
   "execution_count": 16,
   "metadata": {},
   "outputs": [
    {
     "data": {
      "text/plain": [
       "[1, 3, 5, 7, 9, 11, 13, 15, 17, 19]"
      ]
     },
     "execution_count": 16,
     "metadata": {},
     "output_type": "execute_result"
    }
   ],
   "source": [
    "## Same using List Comprephension\n",
    "list(i for i in range(20) if is_odd(i))"
   ]
  },
  {
   "cell_type": "code",
   "execution_count": 24,
   "metadata": {},
   "outputs": [
    {
     "data": {
      "text/plain": [
       "8"
      ]
     },
     "execution_count": 24,
     "metadata": {},
     "output_type": "execute_result"
    }
   ],
   "source": [
    "s=lambda x,y:(2*x)+y\n",
    "s(3,2)"
   ]
  },
  {
   "cell_type": "code",
   "execution_count": 19,
   "metadata": {},
   "outputs": [
    {
     "name": "stdout",
     "output_type": "stream",
     "text": [
      "36\n",
      "-72\n"
     ]
    }
   ],
   "source": [
    "#Lamda Function : One line functions\n",
    "#lambda argument_list: expression \n",
    "mul = lambda x, y,z : x * y*z\n",
    "mul(3,6,2)\n",
    "mul(3,4,-6)"
   ]
  },
  {
   "cell_type": "markdown",
   "metadata": {},
   "source": [
    "### Map : map() function returns a list of the results after applying the given function to each item of a given iterable.\n",
    "\n",
    "map(fun, iter) : Syntax\n",
    "\n",
    "- fun : It is a function to which map passes each element of given iterable.\n",
    "- iter : It is a iterable which is to be mapped.\n",
    "\n",
    "NOTE : You can pass one or more iterable to the map() function.\n"
   ]
  },
  {
   "cell_type": "code",
   "execution_count": 29,
   "metadata": {},
   "outputs": [
    {
     "name": "stdout",
     "output_type": "stream",
     "text": [
      "[36, 4, 0, 0.16000000000000003, 25]\n"
     ]
    }
   ],
   "source": [
    "\n",
    "# Return square of n \n",
    "def square(n): \n",
    "    return n * n \n",
    "\n",
    "# We double all numbers using map() \n",
    "numbers = (6, -2, 0, 0.4,5) \n",
    "result = map(square, numbers) \n",
    "print(list(result))"
   ]
  },
  {
   "cell_type": "code",
   "execution_count": null,
   "metadata": {},
   "outputs": [],
   "source": [
    "2(x*x)\n",
    "n=(-9,11,13)"
   ]
  },
  {
   "cell_type": "code",
   "execution_count": 43,
   "metadata": {},
   "outputs": [
    {
     "name": "stdout",
     "output_type": "stream",
     "text": [
      "[0, 4]\n"
     ]
    }
   ],
   "source": [
    "# Double all numbers using map and lambda \n",
    "\n",
    "numbers =(0, 2 )\n",
    "result = map(lambda x: x * x, numbers) \n",
    "print(list(result)) \n",
    "#result"
   ]
  },
  {
   "cell_type": "code",
   "execution_count": 50,
   "metadata": {},
   "outputs": [
    {
     "data": {
      "text/plain": [
       "[1, 2, 3, -9, 4, 5, 6, -6]"
      ]
     },
     "execution_count": 50,
     "metadata": {},
     "output_type": "execute_result"
    }
   ],
   "source": [
    "L1 = [1, 2, 3,-9] \n",
    "L2 = [4, 5, 6,-6] \n",
    "L1+L2"
   ]
  },
  {
   "cell_type": "code",
   "execution_count": 47,
   "metadata": {},
   "outputs": [
    {
     "name": "stdout",
     "output_type": "stream",
     "text": [
      "[0.25, 0.4, 0.5, 1.5]\n"
     ]
    }
   ],
   "source": [
    "# Multiplying lists using map and lambda \n",
    "\n",
    "L1 = [1, 2, 3,-9] \n",
    "L2 = [4, 5, 6,-6] \n",
    "\n",
    "result = map(lambda x, y: x / y, L1, L2) \n",
    "print(list(result)) \n"
   ]
  },
  {
   "cell_type": "code",
   "execution_count": 51,
   "metadata": {},
   "outputs": [
    {
     "name": "stdout",
     "output_type": "stream",
     "text": [
      "[['s', 'a', 't'], ['f', 'r', 'i'], ['t', 'h', 'r', 'u'], ['w', 'e', 'd']]\n"
     ]
    }
   ],
   "source": [
    "# List of strings \n",
    "l = ['sat', 'fri', 'thru', 'wed'] \n",
    "\n",
    "# map() can listify the list of strings individually \n",
    "test = list(map(list, l)) \n",
    "print(test) \n"
   ]
  },
  {
   "cell_type": "code",
   "execution_count": 52,
   "metadata": {},
   "outputs": [
    {
     "data": {
      "text/plain": [
       "269.5"
      ]
     },
     "execution_count": 52,
     "metadata": {},
     "output_type": "execute_result"
    }
   ],
   "source": [
    "eval(\"273+44/8-9\")\n",
    "#To create output for an quadratic equation.(x3-x2-3x-1),x value user input"
   ]
  },
  {
   "cell_type": "markdown",
   "metadata": {},
   "source": [
    "### Python Recursion:\n",
    "\n",
    "Recursion is a method of breaking a problem into subproblems which are essentially of the same type as the original problem. You solve the base problems and then combine the results. Usually this involves the function calling itself.A recursive function has to fulfil an important condition to be used in a program: it has to terminate. A recursive function terminates, if with every recursive call the solution of the problem is downsized and moves towards a base case."
   ]
  },
  {
   "cell_type": "code",
   "execution_count": null,
   "metadata": {},
   "outputs": [],
   "source": [
    "def factorial(n):\n",
    "    print(\"factorial for n = \" + str(n))\n",
    "    if n == 1:\n",
    "        return 1\n",
    "    else:\n",
    "        res = n * factorial(n-1)\n",
    "        print(\"intermediate result for \", n, \" * factorial(\" ,n-1, \"): \",res)\n",
    "        return res\n",
    "\n",
    "print(factorial(5))"
   ]
  },
  {
   "cell_type": "markdown",
   "metadata": {},
   "source": [
    "## Process management and process automation (3hrs)¶\n",
    "\n",
    "- Python subprocess.check_output() function\n",
    "\n",
    "Using subprocess.check_output() function we can store the output in a variable.\n",
    "\n",
    "- Using os.system, os.popen, os.fork, os.exec functions\n",
    "- Using the commands module\n",
    "- Using the subprocess module\n",
    "- Managing processes using various functions in os module"
   ]
  },
  {
   "cell_type": "code",
   "execution_count": null,
   "metadata": {},
   "outputs": [],
   "source": [
    "import os\n",
    "\n",
    "cmd = \"git --version\"\n",
    "\n",
    "returned_value = os.system(cmd)  # returns the exit code in unix\n",
    "print('returned value:', returned_value)\n"
   ]
  },
  {
   "cell_type": "code",
   "execution_count": null,
   "metadata": {},
   "outputs": [],
   "source": [
    "# process path to current working directory\n",
    "import os\n",
    "\n",
    "print ('Starting:', os.getcwd())\n",
    "\n",
    "print ('Moving up one:', os.pardir)\n",
    "os.chdir(os.pardir)\n",
    "\n",
    "print ('After move:', os.getcwd())"
   ]
  },
  {
   "cell_type": "markdown",
   "metadata": {},
   "source": [
    " - popen():It creates a new process running the command given and attaches a single stream to the input or output of that process, depending on the mode argument. While popen() functions work on Windows, some of these examples assume a Unix-like shell."
   ]
  },
  {
   "cell_type": "markdown",
   "metadata": {},
   "source": [
    "- stdin - The “standard input” stream for a process (file descriptor 0) is readable by the process. This is usually where terminal input goes.\n",
    "- stdout - The “standard output” stream for a process (file descriptor 1) is writable by the process, and is used for displaying regular output to the user.\n",
    "- stderr - The “standard error” stream for a process (file descriptor 2) is writable by the process, and is used for conveying error messages."
   ]
  },
  {
   "cell_type": "code",
   "execution_count": null,
   "metadata": {},
   "outputs": [],
   "source": [
    "import os\n",
    "\n",
    "print ('popen, read:')\n",
    "pipe_stdout = os.popen('echo \"to stdout\"', 'r')\n",
    "try:\n",
    "    stdout_value = pipe_stdout.read()\n",
    "finally:\n",
    "    pipe_stdout.close()\n",
    "print ('\\tstdout:', repr(stdout_value))\n",
    "\n",
    "print ('\\npopen, write:')\n",
    "pipe_stdin = os.popen('cat -', 'w')\n",
    "try:\n",
    "    pipe_stdin.write('\\tstdin: to stdin\\n')\n",
    "finally:\n",
    "    pipe_stdin.close()"
   ]
  },
  {
   "cell_type": "markdown",
   "metadata": {},
   "source": [
    "- The subprocess module present in Python(both 2.x and 3.x) is used to run new applications or programs through Python code by creating new processes.\n",
    "- The subprocess module allows you to spawn new processes, connect to their input/output/error pipes, and obtain their return codes. This module intends to replace several older modules and functions"
   ]
  },
  {
   "cell_type": "code",
   "execution_count": null,
   "metadata": {},
   "outputs": [],
   "source": [
    "import subprocess\n",
    "\n",
    "#cmd = \"git --version\"\n",
    "\n",
    "returned_value = subprocess.call(cmd, shell=True)  # returns the exit code in unix\n",
    "print('returned value:', returned_value)\n"
   ]
  },
  {
   "cell_type": "code",
   "execution_count": null,
   "metadata": {},
   "outputs": [],
   "source": []
  }
 ],
 "metadata": {
  "kernelspec": {
   "display_name": "Python 3",
   "language": "python",
   "name": "python3"
  },
  "language_info": {
   "codemirror_mode": {
    "name": "ipython",
    "version": 3
   },
   "file_extension": ".py",
   "mimetype": "text/x-python",
   "name": "python",
   "nbconvert_exporter": "python",
   "pygments_lexer": "ipython3",
   "version": "3.7.1"
  }
 },
 "nbformat": 4,
 "nbformat_minor": 2
}
