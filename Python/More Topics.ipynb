{
 "cells": [
  {
   "cell_type": "markdown",
   "metadata": {},
   "source": [
    "## 1. Garbage Collection in python\n",
    "- Python’s memory allocation and deallocation method is automatic. The user does not have to preallocate or deallocate memory similar to using dynamic memory allocation in languages such as C or C++.\n",
    "\n",
    "#### Python uses two strategies for memory allocation:\n",
    "\n",
    "- Reference counting\n",
    "- Garbage collection\n",
    "\n",
    "### Automatic Garbage Collection of Cycles\n",
    "\n",
    "Because reference cycles take computational work to discover, garbage collection must be a scheduled activity. Python schedules garbage collection based upon a threshold of object allocations and object deallocations. When the number of allocations minus the number of deallocations is greater than the threshold number, the garbage collector is run. One can inspect the threshold for new objects (objects in Python known as generation 0 objects) by importing the gc module and asking for garbage collection thresholds\n"
   ]
  },
  {
   "cell_type": "code",
   "execution_count": 1,
   "metadata": {},
   "outputs": [
    {
     "name": "stdout",
     "output_type": "stream",
     "text": [
      "Garbage collection thresholds: (700, 10, 10)\n"
     ]
    }
   ],
   "source": [
    "# loading gc \n",
    "import gc \n",
    "\n",
    "# get the current collection \n",
    "# thresholds as a tuple \n",
    "print(\"Garbage collection thresholds:\", \n",
    "\t\t\t\t\tgc.get_threshold()) \n"
   ]
  },
  {
   "cell_type": "markdown",
   "metadata": {},
   "source": [
    "Here, the default threshold on the above system is 700. This means when the number of allocations vs. the number of deallocations is greater than 700 the automatic garbage collector will run. Thus any portion of your code which frees up large blocks of memory is a good candidate for running manual garbage collection.\n",
    "\n",
    "### Manual Garbage Collection\n",
    "\n",
    "Invoking the garbage collector manually during the execution of a program can be a good idea on how to handle memory being consumed by reference cycles.\n",
    "The garbage collection can be invoked manually in the following way"
   ]
  },
  {
   "cell_type": "code",
   "execution_count": 2,
   "metadata": {},
   "outputs": [
    {
     "name": "stdout",
     "output_type": "stream",
     "text": [
      "Garbage collector: collected 0 objects.\n"
     ]
    }
   ],
   "source": [
    "# Importing gc module \n",
    "import gc \n",
    "\n",
    "# Returns the number of \n",
    "# objects it has collected \n",
    "# and deallocated \n",
    "collected = gc.collect() \n",
    "\n",
    "# Prints Garbage collector \n",
    "# as 0 object \n",
    "print(\"Garbage collector: collected\", \n",
    "\t\t\"%d objects.\" % collected) \n"
   ]
  },
  {
   "cell_type": "code",
   "execution_count": 5,
   "metadata": {},
   "outputs": [
    {
     "name": "stdout",
     "output_type": "stream",
     "text": [
      "Garbage collector: collected 41 objects.\n",
      "Creating cycles...\n",
      "{1: {...}}\n",
      "{2: {...}}\n",
      "{3: {...}}\n",
      "{4: {...}}\n",
      "{5: {...}}\n",
      "{6: {...}}\n",
      "{7: {...}}\n",
      "{8: {...}}\n",
      "{9: {...}}\n",
      "{10: {...}}\n",
      "Garbage collector: collected 10 objects.\n"
     ]
    }
   ],
   "source": [
    "import gc \n",
    "i = 0\n",
    "\n",
    "# create a cycle and on each iteration x as a dictionary \n",
    "# assigned to 1 \n",
    "def create_cycle(): \n",
    "\tx = { } \n",
    "\tx[i+1] = x \n",
    "\tprint(x )\n",
    "\n",
    "# lists are cleared whenever a full collection or \n",
    "# collection of the highest generation (2) is run \n",
    "collected = gc.collect() # or gc.collect(2) \n",
    "print (\"Garbage collector: collected %d objects.\" % (collected) )\n",
    "\n",
    "print (\"Creating cycles...\")\n",
    "for i in range(10): \n",
    "\tcreate_cycle() \n",
    "\n",
    "collected = gc.collect() \n",
    "\n",
    "print (\"Garbage collector: collected %d objects.\" % (collected) )\n"
   ]
  },
  {
   "cell_type": "markdown",
   "metadata": {},
   "source": [
    "## 2. API Invocation(SOAP)\n",
    "\n",
    "#### What is SOAP ?\n",
    "Without entering to much into details, SOAP is an RPC (Remote Procedure Call) object-oriented protocol used by web services. In contrary to the REST architecture, SOAP allows applications to call functions directly. One of its disadvantages is that it uses a verbose XML format, so first it's slower than using simple JSON, and then SOAP support within Python is not as strong as within Java or .NET. \n",
    "\n",
    "\n",
    "### Weather SOAP Service using plain requests lib"
   ]
  },
  {
   "cell_type": "code",
   "execution_count": 10,
   "metadata": {},
   "outputs": [
    {
     "name": "stdout",
     "output_type": "stream",
     "text": [
      "b'<?xml version=\"1.0\" encoding=\"utf-8\"?><soap:Envelope xmlns:soap=\"http://schemas.xmlsoap.org/soap/envelope/\" xmlns:xsi=\"http://www.w3.org/2001/XMLSchema-instance\" xmlns:xsd=\"http://www.w3.org/2001/XMLSchema\"><soap:Body><soap:Fault><faultcode>soap:Server</faultcode><faultstring>Server was unable to process request. ---&gt; A network-related or instance-specific error occurred while establishing a connection to SQL Server. The server was not found or was not accessible. Verify that the instance name is correct and that SQL Server is configured to allow remote connections. (provider: Named Pipes Provider, error: 40 - Could not open a connection to SQL Server)</faultstring><detail /></soap:Fault></soap:Body></soap:Envelope>'\n"
     ]
    }
   ],
   "source": [
    "import requests\n",
    "url=\"http://wsf.cdyne.com/WeatherWS/Weather.asmx?WSDL\"\n",
    "#headers = {'content-type': 'application/soap+xml'}\n",
    "headers = {'content-type': 'text/xml'}\n",
    "body = \"\"\"<?xml version=\"1.0\" encoding=\"UTF-8\"?>\n",
    "         <SOAP-ENV:Envelope xmlns:ns0=\"http://ws.cdyne.com/WeatherWS/\" xmlns:ns1=\"http://schemas.xmlsoap.org/soap/envelope/\" \n",
    "            xmlns:xsi=\"http://www.w3.org/2001/XMLSchema-instance\" xmlns:SOAP-ENV=\"http://schemas.xmlsoap.org/soap/envelope/\">\n",
    "            <SOAP-ENV:Header/>\n",
    "              <ns1:Body><ns0:GetWeatherInformation/></ns1:Body>\n",
    "         </SOAP-ENV:Envelope>\"\"\"\n",
    "\n",
    "response = requests.post(url,data=body,headers=headers)\n",
    "print (response.content)\n"
   ]
  },
  {
   "cell_type": "markdown",
   "metadata": {},
   "source": [
    "# Secure Shell (SSH)\n",
    "\n",
    "\n",
    "SSH, also known as Secure Shell or Secure Socket Shell, is a network protocol that gives users, particularly system administrators, a secure way to access a computer over an unsecured network. SSH also refers to the suite of utilities that implement the SSH protocol. Secure Shell provides strong authentication and encrypted data communications between two computers connecting over an open network such as the internet. SSH is widely used by network administrators for managing systems and applications remotely, allowing them to log into another computer over a network, execute commands and move files from one computer to another.\n",
    "\n",
    "In python SSH is implemented by using the python library called fabric. It can be used to issue commands remotely over SSH.\n",
    "\n",
    "### In the below example we connect to a host and issue the command to identify the host type. We capture the result in and display it as a formatted text.\n",
    "first install : conda install -c conda-forge fabric"
   ]
  },
  {
   "cell_type": "code",
   "execution_count": null,
   "metadata": {},
   "outputs": [],
   "source": [
    "from fabric import Connection\n",
    "result = Connection('xyz.com').run('uname -s')\n",
    "msg = \"Ran {.command!r} on {.connection.host}, got stdout:\\n{.stdout}\"\n",
    "print(msg.format(result))"
   ]
  },
  {
   "cell_type": "markdown",
   "metadata": {},
   "source": [
    "### SSH ,Paramiko & FTP\n",
    "Paramiko is a Python (2.7, 3.4+) implementation of the SSHv2 protocol, providing both client and server functionality. While it leverages a Python C extension for low level cryptography (Cryptography), Paramiko itself is a pure Python interface around SSH networking concepts.\n",
    "\n",
    "install : $ pip install paramiko --user\n",
    "\n",
    "###  Paramiko to execute Remote Commands:\n",
    "- We will use paramiko module in python to execute a command on our remote server.\n",
    "\n",
    "- Client side will be referenced as (side-a) and Server side will be referenced as (side-b"
   ]
  },
  {
   "cell_type": "code",
   "execution_count": null,
   "metadata": {},
   "outputs": [],
   "source": [
    "## python code\n",
    "import paramiko\n",
    "\n",
    "ssh = paramiko.SSHClient()\n",
    "ssh.set_missing_host_key_policy(paramiko.AutoAddPolicy())\n",
    "ssh.connect(hostname='192.168.10.10', username='ubuntu', key_filename='/home/ubuntu/.ssh/mykey.pem')\n",
    "\n",
    "stdin, stdout, stderr = ssh.exec_command('lsb_release -a')\n",
    "\n",
    "for line in stdout.read().splitlines():\n",
    "    print(line)\n",
    "\n",
    "ssh.close()"
   ]
  },
  {
   "cell_type": "markdown",
   "metadata": {},
   "source": [
    "### Execute our Command Remotely:\n",
    "Now attempt to establish the ssh connection from side-a, then run lsb_release -a on our remote server, side-b : by following command\n",
    "- $ python execute.py\n"
   ]
  },
  {
   "cell_type": "markdown",
   "metadata": {},
   "source": [
    "## FTP\n",
    "The ftplib module in Python allows you to write Python programs that perform a\n",
    "variety of automated FTP jobs. You can easily connect to a FTP server to retrieve\n",
    "files and process them locally.\n",
    "Steps :\n",
    "- To use the ftplib module in Python, you first have to import it into your script.\n",
    "- Open a Connection :\n",
    "To \"open\" a connection to the FTP Server, you have to create the object.\n",
    "\n",
    "- Once the connection is made (opened), you can use the methods in the ftplib module.\n",
    "\n",
    "### Example \n",
    "This program will first connect to a FTP server (ftp.cwi.nl) and then list thefiles and directories in the FTP server root directory using the LIST() method."
   ]
  },
  {
   "cell_type": "code",
   "execution_count": null,
   "metadata": {},
   "outputs": [],
   "source": [
    "from ftplib import FTP\n",
    "\n",
    "ftp = FTP('ftp.cwi.nl')   # connect to host, default port\n",
    "\n",
    "ftp.login()               # user anonymous, passwd anonymous@\n",
    "\n",
    "ftp.retrlines('LIST')     # list directory contents "
   ]
  },
  {
   "cell_type": "markdown",
   "metadata": {},
   "source": [
    "- Our second program opens a connection to 'ftp.sunet.se' as the user 'default' with an email address of 'default@sunet.se'\n",
    "- It then lists the files and directories on the FTP server by using the dir()method.\n",
    "- The output is saved to the 'files' variable. \n",
    "- use print to see the files on screen. \n",
    "- To change directoryjust use ftp.cwd(path).\n",
    "- To close the FTP connection, use the quit() method.  "
   ]
  },
  {
   "cell_type": "code",
   "execution_count": null,
   "metadata": {},
   "outputs": [],
   "source": [
    "import ftplib\n",
    "\n",
    "ftp = ftplib.FTP('ftp.sunet.se', 'default', 'default@sunet.se')\n",
    "\n",
    "print \"File List: \"\n",
    "\n",
    "files = ftp.dir()\n",
    "\n",
    "print files\n",
    "\n",
    "ftp.cwd(\"/pub/unix\") #changing to /pub/unix"
   ]
  },
  {
   "cell_type": "markdown",
   "metadata": {},
   "source": [
    "## Meta characters in python & re module , matching\n",
    "- Regular expressions (called REs, or regexes, or regex patterns) are essentially a tiny, highly specialized programming language embedded inside Python and made available through the **re module**.\n",
    "-  Using this little language, you specify the rules for the set of possible strings that you want to match; this set might contain English sentences, or e-mail addresses, or TeX commands, or anything you like.\n",
    "- Here’s a complete list of the metacharacters :  ^ $ * + ? { } [ ] \\ | ( )\n",
    "\n",
    "- The first metacharacters we’ll look at are [ and ]. They’re used for specifying a character class, which is a set of characters that you wish to match. Characters can be listed individually, or a range of characters can be indicated by giving two characters and separating them by a '-'. For example, [abc] will match any of the characters a, b, or c; this is the same as [a-c], which uses a range to express the same set of characters. If you wanted to match only lowercase letters, your RE would be [a-z].\n",
    "\n",
    "Metacharacters are not active inside classes. For example, [akm$] will match any of the characters 'a', 'k', 'm', or '$'; '$' is usually a metacharacter, but inside a character class it’s stripped of its special nature.\n",
    "\n",
    "You can match the characters not listed within the class by complementing the set. This is indicated by including a '^' as the first character of the class. For example, [^5] will match any character except '5'. If the caret appears elsewhere in a character class, it does not have special meaning. For example: [5^] will match either a '5' or a '^'.\n",
    "\n",
    "Perhaps the most important metacharacter is the backslash, \\. As in Python string literals, the backslash can be followed by various characters to signal various special sequences. It’s also used to escape all the metacharacters so you can still match them in patterns; for example, if you need to match a [ or \\, you can precede them with a backslash to remove their special meaning: \\[ or \\\\.\n",
    "\n",
    "Some of the special sequences beginning with '\\' represent predefined sets of characters that are often useful, such as the set of digits, the set of letters, or the set of anything that isn’t whitespace.\n",
    "\n",
    "\n",
    "### Matching Characters\n",
    "Most letters and characters will simply match themselves. For example, the regular expression test will match the string test exactly. (You can enable a case-insensitive mode that would let this RE match Test or TEST as well; more about this later.)\n",
    "\n",
    "There are exceptions to this rule; some characters are special metacharacters, and don’t match themselves. Instead, they signal that some out-of-the-ordinary thing should be matched, or they affect other portions of the RE by repeating them or changing their meaning.\n",
    "\n",
    "### Compliling regular expressions using re module"
   ]
  },
  {
   "cell_type": "code",
   "execution_count": 13,
   "metadata": {},
   "outputs": [
    {
     "data": {
      "text/plain": [
       "re.compile(r'ab*', re.UNICODE)"
      ]
     },
     "execution_count": 13,
     "metadata": {},
     "output_type": "execute_result"
    }
   ],
   "source": [
    "import re\n",
    "p = re.compile('ab*')\n",
    "p"
   ]
  },
  {
   "cell_type": "markdown",
   "metadata": {},
   "source": [
    "### re.compile() also accepts an optional flags argument, used to enable various special features and syntax variations"
   ]
  },
  {
   "cell_type": "code",
   "execution_count": 14,
   "metadata": {},
   "outputs": [],
   "source": [
    "p = re.compile('ab*', re.IGNORECASE)"
   ]
  },
  {
   "cell_type": "markdown",
   "metadata": {},
   "source": [
    "####  matching various strings against the RE [a-z]+. An empty string shouldn’t match at all, since + means ‘one or more repetitions’. match() should return None in this case, which will cause the interpreter to print no output. You can explicitly print the result of match() to make this clear."
   ]
  },
  {
   "cell_type": "code",
   "execution_count": 15,
   "metadata": {},
   "outputs": [
    {
     "data": {
      "text/plain": [
       "re.compile(r'[a-z]+', re.UNICODE)"
      ]
     },
     "execution_count": 15,
     "metadata": {},
     "output_type": "execute_result"
    }
   ],
   "source": [
    "import re\n",
    "p = re.compile('[a-z]+')\n",
    "p"
   ]
  },
  {
   "cell_type": "code",
   "execution_count": 16,
   "metadata": {},
   "outputs": [
    {
     "name": "stdout",
     "output_type": "stream",
     "text": [
      "None\n"
     ]
    }
   ],
   "source": [
    "p.match(\"\")\n",
    "print(p.match(\"\"))"
   ]
  },
  {
   "cell_type": "markdown",
   "metadata": {},
   "source": [
    "##### let’s try it on a string that it should match, such as tempo. In this case, match() will return a match object, so you should store the result in a variable for later use."
   ]
  },
  {
   "cell_type": "code",
   "execution_count": 17,
   "metadata": {},
   "outputs": [
    {
     "data": {
      "text/plain": [
       "<re.Match object; span=(0, 5), match='tempo'>"
      ]
     },
     "execution_count": 17,
     "metadata": {},
     "output_type": "execute_result"
    }
   ],
   "source": [
    "m = p.match('tempo')\n",
    "m"
   ]
  },
  {
   "cell_type": "markdown",
   "metadata": {},
   "source": [
    "### Function Polymorphism\n",
    "Polymorphism in Python\n",
    "The word polymorphism means having many forms. In programming, polymorphism means same function name (but different signatures) being uses for different type."
   ]
  },
  {
   "cell_type": "code",
   "execution_count": 18,
   "metadata": {},
   "outputs": [
    {
     "name": "stdout",
     "output_type": "stream",
     "text": [
      "12\n",
      "3\n"
     ]
    }
   ],
   "source": [
    "# Python program to demonstrate in-built poly- \n",
    "# morphic functions \n",
    "\n",
    "# len() being used for a string \n",
    "print(len(\"Data Science\")) \n",
    "\n",
    "# len() being used for a list \n",
    "print(len([10, 20, 30])) \n"
   ]
  },
  {
   "cell_type": "code",
   "execution_count": 19,
   "metadata": {},
   "outputs": [
    {
     "name": "stdout",
     "output_type": "stream",
     "text": [
      "5\n",
      "9\n"
     ]
    }
   ],
   "source": [
    "# A simple Python function to demonstrate \n",
    "# Polymorphism \n",
    "\n",
    "def add(x, y, z = 0): \n",
    "\treturn x + y+z \n",
    "\n",
    "# Driver code \n",
    "print(add(2, 3)) \n",
    "print(add(2, 3, 4)) \n"
   ]
  },
  {
   "cell_type": "markdown",
   "metadata": {},
   "source": [
    "### Polymorphism with class methods\n",
    "Below code shows how python can use two different class types, in the same way. We create a for loop that iterates through a tuple of objects. Then call the methods without being concerned about which class type each object is"
   ]
  },
  {
   "cell_type": "code",
   "execution_count": 20,
   "metadata": {},
   "outputs": [
    {
     "name": "stdout",
     "output_type": "stream",
     "text": [
      "New Delhi is the capital of India.\n",
      "Hindi the primary language of India.\n",
      "India is a developing country.\n",
      "Washington, D.C. is the capital of USA.\n",
      "English is the primary language of USA.\n",
      "USA is a developed country.\n"
     ]
    }
   ],
   "source": [
    "class India(): \n",
    "\tdef capital(self): \n",
    "\t\tprint(\"New Delhi is the capital of India.\") \n",
    "\n",
    "\tdef language(self): \n",
    "\t\tprint(\"Hindi the primary language of India.\") \n",
    "\n",
    "\tdef type(self): \n",
    "\t\tprint(\"India is a developing country.\") \n",
    "\n",
    "class USA(): \n",
    "\tdef capital(self): \n",
    "\t\tprint(\"Washington, D.C. is the capital of USA.\") \n",
    "\n",
    "\tdef language(self): \n",
    "\t\tprint(\"English is the primary language of USA.\") \n",
    "\n",
    "\tdef type(self): \n",
    "\t\tprint(\"USA is a developed country.\") \n",
    "\n",
    "obj_ind = India() \n",
    "obj_usa = USA() \n",
    "for country in (obj_ind, obj_usa): \n",
    "\tcountry.capital() \n",
    "\tcountry.language() \n",
    "\tcountry.type() \n"
   ]
  },
  {
   "cell_type": "markdown",
   "metadata": {},
   "source": [
    "### Polymorphism with Inheritance: Overidding\n",
    "In Python, Polymorphism lets us define methods in the child class that have the same name as the methods in the parent class. In inheritance, the child class inherits the methods from the parent class. However, it is possible to modify a method in a child class that it has inherited from the parent class. This is particularly useful in cases where the method inherited from the parent class doesn’t quite fit the child class. In such cases, we re-implement the method in the child class. This process of re-implementing a method in the child class is known as Method Overriding."
   ]
  },
  {
   "cell_type": "code",
   "execution_count": 23,
   "metadata": {},
   "outputs": [
    {
     "name": "stdout",
     "output_type": "stream",
     "text": [
      "There are many types of birds.\n",
      "Most of the birds can fly but some cannot.\n",
      "There are many types of birds.\n",
      "Sparrows can fly.\n",
      "There are many types of birds.\n",
      "Ostriches cannot fly.\n"
     ]
    }
   ],
   "source": [
    "class Bird: \n",
    " def intro(self): \n",
    "    print(\"There are many types of birds.\") \n",
    " def flight(self): \n",
    "    print(\"Most of the birds can fly but some cannot.\") \n",
    "class sparrow(Bird): \n",
    " def flight(self): \n",
    "    print(\"Sparrows can fly.\") \n",
    "\n",
    "class ostrich(Bird): \n",
    " def flight(self): \n",
    "    print(\"Ostriches cannot fly.\") \n",
    "\n",
    "obj_bird = Bird() \n",
    "obj_spr = sparrow() \n",
    "obj_ost = ostrich() \n",
    "\n",
    "obj_bird.intro() \n",
    "obj_bird.flight() \n",
    "\n",
    "obj_spr.intro() \n",
    "obj_spr.flight() \n",
    "\n",
    "obj_ost.intro() \n",
    "obj_ost.flight() \n"
   ]
  },
  {
   "cell_type": "markdown",
   "metadata": {},
   "source": [
    "#### Method Overloading\n",
    "Like other languages (for example method overloading in C++) do, python does not supports method overloading. We may overload the methods but can only use the latest defined method"
   ]
  },
  {
   "cell_type": "code",
   "execution_count": 24,
   "metadata": {},
   "outputs": [
    {
     "name": "stdout",
     "output_type": "stream",
     "text": [
      "100\n"
     ]
    }
   ],
   "source": [
    "# First product method. \n",
    "# Takes two argument and print their \n",
    "# product \n",
    "def product(a, b): \n",
    "\tp = a * b \n",
    "\tprint(p) \n",
    "\t\n",
    "# Second product method \n",
    "# Takes three argument and print their \n",
    "# product \n",
    "def product(a, b, c): \n",
    "\tp = a * b*c \n",
    "\tprint(p) \n",
    "\n",
    "# Uncommenting the below line shows an error\t \n",
    "# product(4, 5) \n",
    "\n",
    "# This line will call the second product method \n",
    "product(4, 5, 5) \n"
   ]
  },
  {
   "cell_type": "markdown",
   "metadata": {},
   "source": [
    "### Class & Instance Attributes in Python\n",
    "\n",
    "#### Class attributes\n",
    "Class attributes belong to the class itself they will be shared by all the instances. Such attributes are defined in the class body parts usually at the top, for legibility."
   ]
  },
  {
   "cell_type": "code",
   "execution_count": 26,
   "metadata": {},
   "outputs": [
    {
     "name": "stdout",
     "output_type": "stream",
     "text": [
      "1\n",
      "2\n",
      "2\n"
     ]
    }
   ],
   "source": [
    "# Write Python code here \n",
    "class sampleclass: \n",
    "\tcount = 0\t # class attribute \n",
    "\n",
    "\tdef increase(self): \n",
    "\t\tsampleclass.count += 1\n",
    "\n",
    "# Calling increase() on an object \n",
    "s1 = sampleclass() \n",
    "s1.increase()\t\t \n",
    "print (s1.count )\n",
    "\n",
    "# Calling increase on one more \n",
    "# object \n",
    "s2 = sampleclass() \n",
    "s2.increase() \n",
    "print (s2.count )\n",
    "\n",
    "print (sampleclass.count )\n"
   ]
  },
  {
   "cell_type": "markdown",
   "metadata": {},
   "source": [
    "### Instance Attributes\n",
    "\n",
    "Unlike class attributes, instance attributes are not shared by objects. Every object has its own copy of the instance attribute (In case of class attributes all object refer to single copy).\n",
    "To list the attributes of an instance/object, we have two functions:-\n",
    "1. vars()- This function displays the attribute of an instance in the form of an dictionary.\n",
    "2. dir()- This function displays more attributes than vars function,as it is not limited to instance. It displays the class attributes as well."
   ]
  },
  {
   "cell_type": "code",
   "execution_count": 30,
   "metadata": {},
   "outputs": [
    {
     "name": "stdout",
     "output_type": "stream",
     "text": [
      "Dictionary form : {'name': 'xyz', 'salary': 4000}\n",
      "['__class__', '__delattr__', '__dict__', '__dir__', '__doc__', '__eq__', '__format__', '__ge__', '__getattribute__', '__gt__', '__hash__', '__init__', '__init_subclass__', '__le__', '__lt__', '__module__', '__ne__', '__new__', '__reduce__', '__reduce_ex__', '__repr__', '__setattr__', '__sizeof__', '__str__', '__subclasshook__', '__weakref__', 'name', 'salary', 'show']\n"
     ]
    }
   ],
   "source": [
    "# Python program to demonstrate \n",
    "# instance attributes. \n",
    "class emp: \n",
    "\tdef __init__(self): \n",
    "\t\tself.name = 'xyz'\n",
    "\t\tself.salary = 4000\n",
    "\n",
    "\tdef show(self): \n",
    "\t\tprint (self.name )\n",
    "\t\tprint (self.salary )\n",
    "\n",
    "e1 = emp() \n",
    "print (\"Dictionary form :\", vars(e1) )\n",
    "print (dir(e1) )\n"
   ]
  },
  {
   "cell_type": "markdown",
   "metadata": {},
   "source": [
    "### Using third party modules – Boto3,pysnow\n",
    "\n",
    "- https://pysnow.readthedocs.io/en/latest/ : pynow module\n",
    "- https://boto3.amazonaws.com/v1/documentation/api/latest/py-modindex.html : Boto3"
   ]
  },
  {
   "cell_type": "markdown",
   "metadata": {},
   "source": [
    "### An overview on __builtin and __future__ modules\n",
    "\n",
    "You can use future to help to port your code from Python 2 to Python 3 today – and still have it run on Python 2.If you already have Python 3 code, you can instead use future to offer Python 2 compatibility with almost no extra work.\n",
    "The easiest way is to start each new module with these lines:\n",
    "\n",
    "from __future__ import (absolute_import, division,\n",
    "\n",
    "                        print_function, unicode_literals)\n",
    "\n",
    "from builtins import *\n",
    "\n",
    "link for built in modules : https://www.tutorialsteacher.com/python/python-builtin-modules"
   ]
  },
  {
   "cell_type": "markdown",
   "metadata": {},
   "source": [
    "## Recursive directory iteration using os.walk\n",
    "When you use a scripting language like Python, one thing you will find yourself doing over and over again is walking a directory tree, and processing files. While there are many ways to do this, Python offers a built-in function that makes this process a breeze.\n",
    "\n",
    "###  example that walks a directory tree, printing out the name of each directory and the files contained :\n",
    "\n",
    "os.walk takes care of the details, and on every pass of the loop, it gives us three things:\n",
    "\n",
    "- dirName: The next directory it found.\n",
    "- subdirList: A list of sub-directories in the current directory.\n",
    "- fileList: A list of files in the current directory."
   ]
  },
  {
   "cell_type": "code",
   "execution_count": 31,
   "metadata": {},
   "outputs": [
    {
     "name": "stdout",
     "output_type": "stream",
     "text": [
      "Found directory: .\n",
      "\t1.log\n",
      "\tAdvanced_IP_Scanner_2.5.3646.exe\n",
      "\tDAY 1Basic Implementation in Python.ipynb\n",
      "\tDAY 2.ipynb\n",
      "\tDay 3.ipynb\n",
      "\tDay 4.ipynb\n",
      "\tDay5.ipynb\n",
      "\tdemo.txt\n",
      "\tdemo.xml\n",
      "\tFew Topics.ipynb\n",
      "\tfibo.py\n",
      "Found directory: .\\.ipynb_checkpoints\n",
      "\tDAY 1Basic Implementation in Python-checkpoint.ipynb\n",
      "\tDAY 2-checkpoint.ipynb\n",
      "\tDay 3-checkpoint.ipynb\n",
      "\tDay 4-checkpoint.ipynb\n",
      "\tDay5-checkpoint.ipynb\n",
      "\tFew Topics-checkpoint.ipynb\n",
      "Found directory: .\\Flask\n",
      "Found directory: .\\Flask_App\n",
      "\tapp.py.ipynb\n",
      "Found directory: .\\Flask_App\\.ipynb_checkpoints\n",
      "\tapp.py-checkpoint.ipynb\n",
      "Found directory: .\\Flask_App\\templates\n",
      "\tapp.py.ipynb\n",
      "\tmain.py.ipynb\n",
      "\tnew.html\n",
      "Found directory: .\\Flask_App\\templates\\.ipynb_checkpoints\n",
      "\tapp.py-checkpoint.ipynb\n",
      "\tmain.py-checkpoint.ipynb\n",
      "Found directory: .\\__pycache__\n",
      "\tfibo.cpython-37.pyc\n",
      "\tM.cpython-37.pyc\n"
     ]
    }
   ],
   "source": [
    "# Import the os module, for the os.walk function\n",
    "import os\n",
    " \n",
    "# Set the directory you want to start from\n",
    "rootDir = '.'\n",
    "for dirName, subdirList, fileList in os.walk(rootDir):\n",
    "    print('Found directory: %s' % dirName)\n",
    "    for fname in fileList:\n",
    "        print('\\t%s' % fname)\n",
    "        \n",
    "        \n"
   ]
  },
  {
   "cell_type": "markdown",
   "metadata": {},
   "source": [
    "### Changing the Way the Directory Tree is Traversed\n",
    "By default, Python will walk the directory tree in a top-down order (a directory will be passed to you for processing), then Python will descend into any sub-directories. We can see this behaviour in the output above; the parent directory (.) was printed first, then its 2 sub-directories.\n",
    "\n",
    "Sometimes we want to traverse the directory tree bottom-up (files at the very bottom of the directory tree are processed first), then we work our way up the directories. We can tell os.walk to do this via the topdown parameter:"
   ]
  },
  {
   "cell_type": "code",
   "execution_count": 32,
   "metadata": {},
   "outputs": [
    {
     "name": "stdout",
     "output_type": "stream",
     "text": [
      "Found directory: .\\.ipynb_checkpoints\n",
      "\tDAY 1Basic Implementation in Python-checkpoint.ipynb\n",
      "\tDAY 2-checkpoint.ipynb\n",
      "\tDay 3-checkpoint.ipynb\n",
      "\tDay 4-checkpoint.ipynb\n",
      "\tDay5-checkpoint.ipynb\n",
      "\tFew Topics-checkpoint.ipynb\n",
      "Found directory: .\\Flask\n",
      "Found directory: .\\Flask_App\\.ipynb_checkpoints\n",
      "\tapp.py-checkpoint.ipynb\n",
      "Found directory: .\\Flask_App\\templates\\.ipynb_checkpoints\n",
      "\tapp.py-checkpoint.ipynb\n",
      "\tmain.py-checkpoint.ipynb\n",
      "Found directory: .\\Flask_App\\templates\n",
      "\tapp.py.ipynb\n",
      "\tmain.py.ipynb\n",
      "\tnew.html\n",
      "Found directory: .\\Flask_App\n",
      "\tapp.py.ipynb\n",
      "Found directory: .\\__pycache__\n",
      "\tfibo.cpython-37.pyc\n",
      "\tM.cpython-37.pyc\n",
      "Found directory: .\n",
      "\t1.log\n",
      "\tAdvanced_IP_Scanner_2.5.3646.exe\n",
      "\tDAY 1Basic Implementation in Python.ipynb\n",
      "\tDAY 2.ipynb\n",
      "\tDay 3.ipynb\n",
      "\tDay 4.ipynb\n",
      "\tDay5.ipynb\n",
      "\tdemo.txt\n",
      "\tdemo.xml\n",
      "\tFew Topics.ipynb\n",
      "\tfibo.py\n"
     ]
    }
   ],
   "source": [
    "import os\n",
    " \n",
    "rootDir = '.'\n",
    "for dirName, subdirList, fileList in os.walk(rootDir, topdown=False):\n",
    "    print('Found directory: %s' % dirName)\n",
    "    for fname in fileList:\n",
    "        print('\\t%s' % fname)"
   ]
  },
  {
   "cell_type": "code",
   "execution_count": null,
   "metadata": {},
   "outputs": [],
   "source": []
  }
 ],
 "metadata": {
  "kernelspec": {
   "display_name": "Python 3",
   "language": "python",
   "name": "python3"
  },
  "language_info": {
   "codemirror_mode": {
    "name": "ipython",
    "version": 3
   },
   "file_extension": ".py",
   "mimetype": "text/x-python",
   "name": "python",
   "nbconvert_exporter": "python",
   "pygments_lexer": "ipython3",
   "version": "3.7.1"
  }
 },
 "nbformat": 4,
 "nbformat_minor": 2
}
