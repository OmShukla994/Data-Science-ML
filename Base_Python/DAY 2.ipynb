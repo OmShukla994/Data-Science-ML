{
 "cells": [
  {
   "cell_type": "code",
   "execution_count": null,
   "metadata": {},
   "outputs": [],
   "source": [
    "#Program to seggreggate even and odd from a list \n",
    "\n",
    "n=int(input(\"Enter the no of values in the list\"))\n",
    "i=0\n",
    "li=[]\n",
    "while(i < n):\n",
    "  e=int(input(\"Enter no on %d\\n\"%i))\n",
    "  li.insert(i,e)\n",
    "  i=i+1\n",
    "print (li)\n",
    "i=0\n",
    "lieven=[]\n",
    "liodd=[]\n",
    "while(i < len(li)):\n",
    "  if li[i]%2==0:\n",
    "    inp_even=li[i]\n",
    "    lieven.insert(i,inp_even)\n",
    "  else:\n",
    "    inp_odd=li[i]\n",
    "    liodd.insert(i,inp_odd)\n",
    "  i=i+1\n",
    "\n",
    "print (lieven) \n",
    "print (liodd)"
   ]
  },
  {
   "cell_type": "markdown",
   "metadata": {},
   "source": [
    "### b=[[1,2,3],[2,2,3],[4,5,6]]\n",
    "b[0][2]"
   ]
  },
  {
   "cell_type": "code",
   "execution_count": null,
   "metadata": {},
   "outputs": [],
   "source": [
    "### Multi dimensional lists\n",
    "a=[[1,2],[3,4]]\n",
    "a[0][1]\n"
   ]
  },
  {
   "cell_type": "code",
   "execution_count": null,
   "metadata": {},
   "outputs": [],
   "source": [
    "for j in b: \n",
    "    print(j) "
   ]
  },
  {
   "cell_type": "code",
   "execution_count": null,
   "metadata": {},
   "outputs": [],
   "source": [
    "b+b"
   ]
  },
  {
   "cell_type": "code",
   "execution_count": null,
   "metadata": {},
   "outputs": [],
   "source": [
    "print(a[1][1])"
   ]
  },
  {
   "cell_type": "code",
   "execution_count": null,
   "metadata": {},
   "outputs": [],
   "source": [
    "n=[[\"abc\",29],[\"def\",28]]\n",
    "n"
   ]
  },
  {
   "cell_type": "code",
   "execution_count": null,
   "metadata": {},
   "outputs": [],
   "source": [
    "n[0]\n",
    "n[1][1]"
   ]
  },
  {
   "cell_type": "markdown",
   "metadata": {},
   "source": [
    "##  Python’s Tuples (1 hr) \n",
    " - Immutable \n",
    " - Common Tuples Methods \n",
    " - Tuples Operations \n",
    " - Tuples Indexing \n",
    " - Tuples Slicing \n",
    " - Tuples Iteration \n",
    " - Multi-Dimensional Tuples (Matrices) "
   ]
  },
  {
   "cell_type": "code",
   "execution_count": null,
   "metadata": {},
   "outputs": [],
   "source": [
    "a=(1,2,3,-9,0)\n",
    "a[1:3]#it will include a[1]& a[2]"
   ]
  },
  {
   "cell_type": "code",
   "execution_count": null,
   "metadata": {},
   "outputs": [],
   "source": [
    "#operations\n",
    "b=(\"red\",\"blue\")\n",
    "a+b\n",
    "c=3*b"
   ]
  },
  {
   "cell_type": "code",
   "execution_count": null,
   "metadata": {},
   "outputs": [],
   "source": [
    "d=(\"c\",\"b\",\"d\",\"a\",\"A\")\n",
    "del d"
   ]
  },
  {
   "cell_type": "code",
   "execution_count": null,
   "metadata": {},
   "outputs": [],
   "source": [
    "a[3]=9 # Will show error as tuple are immutable\n",
    "del a[3]"
   ]
  },
  {
   "cell_type": "code",
   "execution_count": null,
   "metadata": {},
   "outputs": [],
   "source": [
    "min(a) \n",
    "max(a)"
   ]
  },
  {
   "cell_type": "code",
   "execution_count": null,
   "metadata": {},
   "outputs": [],
   "source": [
    "len(a)"
   ]
  },
  {
   "cell_type": "code",
   "execution_count": null,
   "metadata": {},
   "outputs": [],
   "source": [
    "b=(\"a\",\"b\",\"c\",\"d\",\"e\",\"f\") #concadination\n",
    "c=a+b\n",
    "c"
   ]
  },
  {
   "cell_type": "code",
   "execution_count": null,
   "metadata": {},
   "outputs": [],
   "source": [
    "z=(1,2,3)\n",
    "x=z[0]\n",
    "x"
   ]
  },
  {
   "cell_type": "code",
   "execution_count": null,
   "metadata": {},
   "outputs": [],
   "source": [
    "x,y = (7, 10) #sequence unpacking\n",
    "print(\"Value of x is {}, the value of y is {}.\".format(x, y))"
   ]
  },
  {
   "cell_type": "markdown",
   "metadata": {},
   "source": [
    "## Indexing & Slicing"
   ]
  },
  {
   "cell_type": "code",
   "execution_count": null,
   "metadata": {},
   "outputs": [],
   "source": [
    "#c[1]\n",
    "#c[:1] #before index position 1\n",
    "#c[1:] #before index position 1(includes index 1 also)\n",
    "#c[2:4] \n",
    "c[2:9:3] #start:stop:diff\n"
   ]
  },
  {
   "cell_type": "markdown",
   "metadata": {},
   "source": [
    "## Iteration"
   ]
  },
  {
   "cell_type": "code",
   "execution_count": null,
   "metadata": {},
   "outputs": [],
   "source": [
    "for i in a: #iterating over tuple\n",
    "    print(i)\n",
    "    print(a)"
   ]
  },
  {
   "cell_type": "code",
   "execution_count": null,
   "metadata": {},
   "outputs": [],
   "source": [
    "## Type conversion\n",
    "a=[1,2,3]\n",
    "tuple(a)\n"
   ]
  },
  {
   "cell_type": "code",
   "execution_count": null,
   "metadata": {},
   "outputs": [],
   "source": [
    "x=[\"a\",1,2,\"E\"]\n",
    "tuple(x)"
   ]
  },
  {
   "cell_type": "code",
   "execution_count": null,
   "metadata": {},
   "outputs": [],
   "source": [
    "### l=[]\n",
    "number = int(input(\"how many value you want in a list: \"))\n",
    "for i in range(0,number):\n",
    "   e = int(input(\"enter your choice number:\"))\n",
    "   l.append(e)\n",
    "   n=tuple(b) \n",
    " \n",
    "print(n)"
   ]
  },
  {
   "cell_type": "markdown",
   "metadata": {},
   "source": [
    "### Enumerate\n",
    "The enumerate function returns a tuple containing a count(index) for every iteration (from start which defaults to 0) and the values obtained from iterating over a sequence."
   ]
  },
  {
   "cell_type": "code",
   "execution_count": null,
   "metadata": {},
   "outputs": [],
   "source": [
    "course = ('IoT', 'Data Science', 'Data Analytics', 'Machine Learning')\n",
    "for index, course in enumerate(course):\n",
    "    print(index,course)"
   ]
  },
  {
   "cell_type": "markdown",
   "metadata": {},
   "source": [
    "## Tuples are faster than list"
   ]
  },
  {
   "cell_type": "code",
   "execution_count": null,
   "metadata": {},
   "outputs": [],
   "source": [
    "import timeit \n",
    "print(timeit.timeit('a=(1,2,3,4,5,6,7,8,9,10,11,12)', number=2000000))\n",
    "print(timeit.timeit('b=[1,2,3,4,5,6,7,8,9,10,11,12]', number=2000000))"
   ]
  },
  {
   "cell_type": "code",
   "execution_count": null,
   "metadata": {},
   "outputs": [],
   "source": [
    "a=((6,7,3),(8,9,0),(7,3,3))\n",
    "a"
   ]
  },
  {
   "cell_type": "code",
   "execution_count": null,
   "metadata": {},
   "outputs": [],
   "source": [
    "a[2][1]"
   ]
  },
  {
   "cell_type": "code",
   "execution_count": null,
   "metadata": {},
   "outputs": [],
   "source": [
    "for i in a:\n",
    "    print(i)"
   ]
  },
  {
   "cell_type": "markdown",
   "metadata": {},
   "source": [
    "## Python Dictionaries (2 hr) \n",
    " -  Python Dictionaries \n",
    " - Assigning Values to Dictionaries \n",
    " - Dictionary Methods \n",
    " - Dictionaries vs Lists & Tuples \n",
    " - Dictionary Indexing \n",
    " - Dictionary Iteration \n",
    " - Stack – Pop, Push \n",
    " \n",
    " "
   ]
  },
  {
   "cell_type": "code",
   "execution_count": null,
   "metadata": {},
   "outputs": [],
   "source": [
    "d={}\n",
    "d={\"a\":2,\"b\":3,\"c\":3}\n",
    "d\n",
    "#d[\"a\"]\n",
    "#d.keys()\n",
    "#d.values()"
   ]
  },
  {
   "cell_type": "code",
   "execution_count": null,
   "metadata": {},
   "outputs": [],
   "source": [
    "max(d.values())"
   ]
  },
  {
   "cell_type": "code",
   "execution_count": null,
   "metadata": {},
   "outputs": [],
   "source": [
    "\n",
    "d.clear()\n",
    "\n",
    "print(d)"
   ]
  },
  {
   "cell_type": "code",
   "execution_count": null,
   "metadata": {},
   "outputs": [],
   "source": [
    "details = {\n",
    "  \"brand\": \"Ford\",\n",
    "  \"model\": \"Mustang\",\n",
    "  \"year\": 1964\n",
    "}\n",
    "\n",
    "details.pop(\"model\") #removes model\n",
    "\n",
    "print(details)"
   ]
  },
  {
   "cell_type": "code",
   "execution_count": null,
   "metadata": {},
   "outputs": [],
   "source": [
    "details.update({\"color\": \"White\"})\n",
    "\n",
    "print(car)"
   ]
  },
  {
   "cell_type": "code",
   "execution_count": null,
   "metadata": {},
   "outputs": [],
   "source": [
    "for i in details:\n",
    "    print(i)"
   ]
  },
  {
   "cell_type": "code",
   "execution_count": null,
   "metadata": {
    "scrolled": true
   },
   "outputs": [],
   "source": [
    "#Code to generate & print dictonary\n",
    "n=int(input(\"Input a number \"))\n",
    "d = {}\n",
    "for x in range(1,n+1):\n",
    "    d[x]=x*x #value is square of number\n",
    "print(d) \n",
    "print(\"*\"*20)"
   ]
  },
  {
   "cell_type": "code",
   "execution_count": null,
   "metadata": {},
   "outputs": [],
   "source": [
    "#sort (ascending and descending) a dictionary by value.\n",
    "import operator\n",
    "d = {1: -2, 3: 4, 4: 3, 2: 1, 0: 0}\n",
    "print('Original  ',d)\n",
    "sorted_d = sorted(d.items(), key=operator.itemgetter(0))\n",
    "print('Dictionary in ascending order by value : ',sorted_d)\n",
    "sorted_d = sorted(d.items(), key=operator.itemgetter(0),reverse=True)\n",
    "print('Dictionary in descending order by value : ',sorted_d)\n",
    "print(\"*\"*20)"
   ]
  },
  {
   "cell_type": "code",
   "execution_count": null,
   "metadata": {},
   "outputs": [],
   "source": [
    "#merge two dict\n",
    "d1 = {'a': 1, 'b': 2}\n",
    "d2 = {'a': 3, 'd': 4}\n",
    "#d = d1.copy()\n",
    "d1.update(d2)\n",
    "print(d1)"
   ]
  },
  {
   "cell_type": "code",
   "execution_count": null,
   "metadata": {},
   "outputs": [],
   "source": [
    "#Map two list into dictionaries\n",
    "keys = ['red', 'green', 'blue']\n",
    "values = [0,1,2]\n",
    "d1 = dict(zip(keys, values))\n",
    "print(d1)\n",
    "print(\"*\"*20)"
   ]
  },
  {
   "cell_type": "code",
   "execution_count": null,
   "metadata": {},
   "outputs": [],
   "source": [
    "\n",
    "#add a key to a dictionary.\n",
    "d = {0:10, 1:20,3:30}\n",
    "print(d)\n",
    "d.update({2:40})\n",
    "print(d)\n",
    "print(\"*\"*20)\n",
    "#Concatenate two dictinaries\n",
    "dic1={'a':1, 'b':2}\n",
    "dic2={'c':3, 'd':4}\n",
    "dic3={'e':5,'f':6,'g':7}\n",
    "dic4 = {}\n",
    "for d in (dic1, dic2, dic3): dic4.update(d)\n",
    "print(dic4)\n",
    "print(\"*\"*20)\n",
    "#Sum all values in a dict\n",
    "my_d = {'d1':100,'d2':-4,'d3':12}\n",
    "print( \"sum=\",sum(my_d.values()))\n",
    "print(\"*\"*20)    \n",
    "#Map two list into dictionaries\n",
    "k = ['red', 'green', 'blue']\n",
    "v = [0,1,2]\n",
    "d1 = dict(zip(k, v))\n",
    "print(d1)\n",
    "print(\"*\"*20)\n",
    "\n"
   ]
  },
  {
   "cell_type": "code",
   "execution_count": null,
   "metadata": {},
   "outputs": [],
   "source": [
    "#iterate dictinary over loop\n",
    "d = {'name' : 00, 'ash': 1, 'ashi': 2, 'sid': 3} \n",
    "for dict_key, dict_value in d.items():\n",
    "    print(dict_key,':',dict_value)\n",
    "print(\"*\"*20) "
   ]
  },
  {
   "cell_type": "markdown",
   "metadata": {},
   "source": [
    "## SETS"
   ]
  },
  {
   "cell_type": "code",
   "execution_count": null,
   "metadata": {},
   "outputs": [],
   "source": [
    "s1={1,1,2,3,4,5,8}\n",
    "s2={1,4,8,-1,0}\n",
    "s2^s1"
   ]
  },
  {
   "cell_type": "code",
   "execution_count": null,
   "metadata": {},
   "outputs": [],
   "source": [
    "s1={\"ashi\",\"ram\"}\n",
    "s2={\"ashi\",\"ram\",\"ravi\"}\n",
    "type(s1)"
   ]
  },
  {
   "cell_type": "code",
   "execution_count": null,
   "metadata": {},
   "outputs": [],
   "source": [
    "set1={10,20,30,40}\n",
    "set2={11,12,30}\n",
    "print(\"union of set1 & set2\")\n",
    "print(set1|set2)\n",
    "print(\"Intersection of set1 & set2\")\n",
    "print(set1&set2)\n",
    "print(\"difference between set1 & 2\")\n",
    "print(set1-set2)\n",
    "print(\"symmettric diffrernce set 1 & 2\",set1^set2)"
   ]
  },
  {
   "cell_type": "code",
   "execution_count": null,
   "metadata": {},
   "outputs": [],
   "source": [
    "for i in s1:\n",
    "    print(i)"
   ]
  },
  {
   "cell_type": "code",
   "execution_count": null,
   "metadata": {},
   "outputs": [],
   "source": [
    "#s[0]=\"new\"\n",
    "len(s1)\n"
   ]
  },
  {
   "cell_type": "code",
   "execution_count": null,
   "metadata": {},
   "outputs": [],
   "source": [
    "set1.add(60)\n",
    "set1\n",
    "c=set1.copy()\n",
    "c\n",
    "set1.discard(10)#similary set1.remove\n",
    "set1\n"
   ]
  },
  {
   "cell_type": "code",
   "execution_count": null,
   "metadata": {},
   "outputs": [],
   "source": [
    "x = {\"apple\", \"banana\", \"cherry\"}\n",
    "y = {\"google\", \"microsoft\", \"apple\"}\n",
    "\n",
    "x.update(y) \n",
    "\n",
    "print(x)"
   ]
  },
  {
   "cell_type": "code",
   "execution_count": null,
   "metadata": {},
   "outputs": [],
   "source": [
    "fs = frozenset({1,2,3,4}) # set assignment\n",
    "print(\"set=\",fs)\n",
    "print(\"Type=\",type(fs))\n"
   ]
  },
  {
   "cell_type": "code",
   "execution_count": null,
   "metadata": {},
   "outputs": [],
   "source": [
    "fs.add(6)"
   ]
  },
  {
   "cell_type": "code",
   "execution_count": null,
   "metadata": {},
   "outputs": [],
   "source": [
    "## Remove duplicate items from a list\n",
    "a = [10,20,30,20,10,50,60,40,80,50,40]\n",
    "\n",
    "b=set(a)\n",
    "b\n"
   ]
  },
  {
   "cell_type": "markdown",
   "metadata": {},
   "source": [
    "## loops\n"
   ]
  },
  {
   "cell_type": "code",
   "execution_count": null,
   "metadata": {},
   "outputs": [],
   "source": [
    "i = 1\n",
    "while i < 6:\n",
    "  print(i)\n",
    "  i += 1"
   ]
  },
  {
   "cell_type": "markdown",
   "metadata": {},
   "source": [
    "## Creating Python Function (2hrs) \n",
    "  - Function Basics \n",
    " - Defining Functions \n",
    " - Function Polymorphism \n",
    " - Argument Defaults \n",
    " - Lambdas \n",
    " - Local Variables \n",
    " - Understanding __builtin   \n",
    " - Preventing Variable Modifications \n",
    " - Argument Matching Methods \n",
    " - Keyword Argument Methods "
   ]
  },
  {
   "cell_type": "code",
   "execution_count": null,
   "metadata": {},
   "outputs": [],
   "source": [
    "def new(x,y):\n",
    "    s=x+y\n",
    "    \n",
    "    return x+y\n",
    "new(3,4)"
   ]
  },
  {
   "cell_type": "code",
   "execution_count": null,
   "metadata": {},
   "outputs": [],
   "source": [
    "def sub(x,y):\n",
    "    diff=x+y\n",
    "    return diff\n",
    "sub(4,5.0)"
   ]
  },
  {
   "cell_type": "code",
   "execution_count": null,
   "metadata": {},
   "outputs": [],
   "source": [
    "def data(name=\"\",x=0,y=0,z=0):\n",
    "    print(\" %s  ::  %d years old.\" %(name,age))\n",
    "\n",
    "data(\"SID\",32)\n",
    "data(\"ash\",28)\n"
   ]
  },
  {
   "cell_type": "code",
   "execution_count": null,
   "metadata": {},
   "outputs": [],
   "source": [
    "## function to multiply all the numbers in a list\n",
    "def multiply(numbers):  \n",
    "    total = 1\n",
    "    for x in numbers:\n",
    "        total *= x  \n",
    "    return total  \n",
    "print(multiply((8, 2, 3, -1, 7)))\n"
   ]
  },
  {
   "cell_type": "code",
   "execution_count": null,
   "metadata": {},
   "outputs": [],
   "source": []
  },
  {
   "cell_type": "markdown",
   "metadata": {},
   "source": [
    "### A lambda function can take any number of arguments, but can only have one expression.\n",
    "\n"
   ]
  },
  {
   "cell_type": "code",
   "execution_count": null,
   "metadata": {},
   "outputs": [],
   "source": [
    " ##lambda function that adds 10 to the number passed in as an argument, and print the result:\n",
    "\n",
    "x = lambda a : a*a\n",
    "print(x(132))"
   ]
  },
  {
   "cell_type": "code",
   "execution_count": null,
   "metadata": {},
   "outputs": [],
   "source": [
    "## A lambda function that multiplies argument a with argument b and print the result:\n",
    "\n",
    "x = lambda a, b,c : a * b*c\n",
    "print(x(5, 6,8))"
   ]
  },
  {
   "cell_type": "markdown",
   "metadata": {},
   "source": [
    "## The Python interpreter has a number of functions and types built into it that are always available.\n",
    "\n",
    "1. abs()\n",
    "\n",
    "The abs() is one of the most popular Python built-in functions, which returns the absolute value of a number. A negative value’s absolute is that value is positive."
   ]
  },
  {
   "cell_type": "code",
   "execution_count": null,
   "metadata": {},
   "outputs": [],
   "source": [
    "abs(-89)"
   ]
  },
  {
   "cell_type": "code",
   "execution_count": null,
   "metadata": {},
   "outputs": [],
   "source": [
    "#bin() converts an integer to a binary string\n",
    "bin(5)\n",
    "##bin(0.7)#not works on float"
   ]
  },
  {
   "cell_type": "code",
   "execution_count": null,
   "metadata": {},
   "outputs": [],
   "source": [
    "## bool() converts a value to Boolean.\n",
    "bool(2)\n",
    "#bool(\"a\")\n",
    "#bool(\"\")"
   ]
  },
  {
   "cell_type": "code",
   "execution_count": null,
   "metadata": {},
   "outputs": [],
   "source": [
    "## complex() function creates a complex number\n",
    "complex(.8)"
   ]
  },
  {
   "cell_type": "code",
   "execution_count": null,
   "metadata": {},
   "outputs": [],
   "source": [
    "#eval() Function takes a string as an argument, which is parsed as an expression\n",
    "X=9\n",
    "eval(\"3*X/X+6+(3**8)\")"
   ]
  },
  {
   "cell_type": "code",
   "execution_count": null,
   "metadata": {},
   "outputs": [],
   "source": [
    "## hex() Python built-in functions, converts an integer to hexadecimal\n",
    "hex(17)"
   ]
  },
  {
   "cell_type": "code",
   "execution_count": null,
   "metadata": {},
   "outputs": [],
   "source": [
    "#To get details about any module, keyword, symbol, or topic, we use the help() function.\n",
    "help()"
   ]
  },
  {
   "cell_type": "markdown",
   "metadata": {},
   "source": [
    "### Errors & Exceptions\n",
    "#ZeroDivisionError\n",
    "#Syntax Error(EOF Error,Indentation Error)\n",
    "#IOError\n",
    "#ImportError\n",
    "#ValueError\n",
    "#NameError\n",
    "#wrong operation :Type ERROR "
   ]
  },
  {
   "cell_type": "markdown",
   "metadata": {},
   "source": [
    "## Classses & Objects\n"
   ]
  },
  {
   "cell_type": "code",
   "execution_count": 1,
   "metadata": {},
   "outputs": [
    {
     "name": "stdout",
     "output_type": "stream",
     "text": [
      "This is a Smart phone of RED color and its price is 10000rs\n",
      "This is a Smart phone of Black color and its price is 12000rs\n",
      "********************************************************************************\n"
     ]
    }
   ],
   "source": [
    "class Phone:\n",
    "        Color=\" \"\n",
    "        Price =00\n",
    "        Type=\" \"\n",
    "ob1=Phone()#Creation of objects and assinging it to class phone.\n",
    "ob2=Phone()\n",
    "ob1.Color=\"RED\"\n",
    "ob1.Price=10000\n",
    "ob1.Type=\"Smart\"\n",
    "ob2.Color=\"Black\"\n",
    "ob2.Price=12000\n",
    "ob2.Type=\"Smart\"\n",
    "print(\"This is a %s phone of %s color and its price is %drs\"%(ob1.Type,ob1.Color,ob1.Price))\n",
    "print(\"This is a %s phone of %s color and its price is %drs\"%(ob2.Type,ob2.Color,ob2.Price))\n",
    "print(80*\"*\")"
   ]
  },
  {
   "cell_type": "code",
   "execution_count": 10,
   "metadata": {},
   "outputs": [
    {
     "data": {
      "text/plain": [
       "100000"
      ]
     },
     "execution_count": 10,
     "metadata": {},
     "output_type": "execute_result"
    }
   ],
   "source": [
    "class Shop:\n",
    "        \"Things in MYshop\"\n",
    "        Quantity = 10\n",
    "        Type       =   \"\"\n",
    "        price=500.00\n",
    "        def bill(x):\n",
    "            t=x.price*x.Quantity\n",
    "            #print(\"your bill for  % s dress of %d quantity = %frs:\"%(x.Type,x.Quantity,t))\n",
    "            return t\n",
    "coustmer1=Shop()\n",
    "coustmer1.Quantity=5\n",
    "coustmer1.Type=\"saree\"\n",
    "coustmer1.price=20000\n",
    "coustmer1.bill()"
   ]
  },
  {
   "cell_type": "markdown",
   "metadata": {},
   "source": [
    "- All classes have a function called __init__(), which is always executed when the class is being initiated.\n",
    "- This type of function is also called constructors"
   ]
  },
  {
   "cell_type": "code",
   "execution_count": 6,
   "metadata": {},
   "outputs": [
    {
     "name": "stdout",
     "output_type": "stream",
     "text": [
      "John\n",
      "36\n"
     ]
    }
   ],
   "source": [
    "class Person:\n",
    "  def __init__(self, name, age):\n",
    "    self.name = name\n",
    "    self.age = age\n",
    "\n",
    "p1 = Person(\"John\", 36)\n",
    "\n",
    "print(p1.name)\n",
    "print(p1.age)"
   ]
  },
  {
   "cell_type": "markdown",
   "metadata": {},
   "source": [
    "- Inheritance allows us to define a class that inherits all the methods and properties from another class.\n",
    "\n",
    "- Parent class is the class being inherited from, also called base class.\n",
    "\n",
    "- Child class is the class that inherits from another class, also called derived class."
   ]
  },
  {
   "cell_type": "code",
   "execution_count": null,
   "metadata": {},
   "outputs": [],
   "source": [
    "## Inheritance\n",
    "class Person:\n",
    "  def __init__(self, fname, lname):\n",
    "    self.firstname = fname\n",
    "    self.lastname = lname\n",
    "\n",
    "  def printname(self):\n",
    "    print(self.firstname, self.lastname)\n",
    "\n",
    "#Use the Person class to create an object, and then execute the printname method:\n",
    "\n",
    "x = Person(\"John\", \"Doe\")\n",
    "x.printname()"
   ]
  },
  {
   "cell_type": "code",
   "execution_count": 11,
   "metadata": {},
   "outputs": [
    {
     "ename": "IndentationError",
     "evalue": "expected an indented block (<ipython-input-11-30b865ef42a3>, line 3)",
     "output_type": "error",
     "traceback": [
      "\u001b[1;36m  File \u001b[1;32m\"<ipython-input-11-30b865ef42a3>\"\u001b[1;36m, line \u001b[1;32m3\u001b[0m\n\u001b[1;33m    x = Student(\"Mike\", \"Olsen\")\u001b[0m\n\u001b[1;37m    ^\u001b[0m\n\u001b[1;31mIndentationError\u001b[0m\u001b[1;31m:\u001b[0m expected an indented block\n"
     ]
    }
   ],
   "source": [
    "class Student(Person):\n",
    "    pass\n",
    "x = Student(\"Mike\", \"Olsen\")\n",
    "x.printname()"
   ]
  },
  {
   "cell_type": "code",
   "execution_count": null,
   "metadata": {},
   "outputs": [],
   "source": [
    "#ZeroDivisionError\n",
    "#Syntax Error(EOF Error,Indentation Error)\n",
    "#IOError\n",
    "#ImportError\n",
    "#ValueError\n",
    "#NameError\n",
    "#wrong operation :Type ERROR \n",
    "print(\"*****ZeroDivisionError*******\")\n",
    "try:\n",
    "    x=int(input(\"Enter First Number\"))\n",
    "    y=int(input(\"Enter Second Number\"))\n",
    "    print(\"sum is:\", x+y)\n",
    "    print(\"div is:\",x/y)\n",
    "    print(\"product is:\",x*y)\n",
    "except  (ZeroDivisionError,ValueError)  as e:\n",
    "        print(\"oops!!Error either wrong division or wrong data type entered\")\n",
    "        print(\"ReEnter:\")\n",
    "        x=int(input(\"Enter First Number\"))\n",
    "        y=int(input(\"Enter Second  Number\"))\n",
    "        print(\"sum is:\", x+y)\n",
    "        print(\"answer is:\",x/y)\n",
    "        print(\"product is:\",x*y)      \n",
    "\n",
    "print(\"****Module Error*****\")\n",
    "try:\n",
    "    import time\n",
    "    t=time.strftime(\"%c\")\n",
    "    print(t)\n",
    "except ImportError as e:\n",
    "    print(\"OOps you have imported wrong module\")\n",
    "print(\"****IOE Error*****\")\n",
    "try:\n",
    "      a=input(\"Enter file name you want to read\")\n",
    "      f=open(a,\"r\")\n",
    "      x=f.read()\n",
    "      print(x)\n",
    "except IOError as e:\n",
    "      print(\"you have entered wrong file name\")\n",
    "      a=input(\"ReEnter file name\")\n",
    "      f=open(a,\"r\")\n",
    "      x=f.read()\n",
    "      print(x)\n",
    "print(\"Name Error\")\n",
    "x=6\n",
    "try:\n",
    " print(\"the square of x is\",(k*k))\n",
    "except NameError as e:\n",
    " print(\"youn have entered unknow variable\")\n",
    "      \n"
   ]
  },
  {
   "cell_type": "markdown",
   "metadata": {},
   "source": [
    "## Regular Expression in Python (1 hr) \n",
    " - Meta Characters \n",
    " - re module \n",
    " - Search \n",
    " - Match"
   ]
  },
  {
   "cell_type": "markdown",
   "metadata": {},
   "source": [
    "## Hands On\n",
    " \n",
    "1. Script merge two list to create a dictionary \n",
    "2. Script that creates a user input list & later on converts it to immortal data set. \n",
    "3. Script to make a chain of function decorators (bold, italic, underline etc.). \n",
    "4. Script to remove leading zeros from an IP address "
   ]
  },
  {
   "cell_type": "code",
   "execution_count": null,
   "metadata": {},
   "outputs": [],
   "source": [
    "## Script merge two list to create a dictionary\n",
    "keys = ['red', 'green', 'blue']\n",
    "values = ['Apple','Grapes', 'Berry']\n",
    "color_dictionary = dict(zip(keys, values))\n",
    "print(color_dictionary)"
   ]
  },
  {
   "cell_type": "code",
   "execution_count": null,
   "metadata": {},
   "outputs": [],
   "source": [
    "## Script that creates a user input list & later on converts it to immortal data set.\n",
    "lst = [ ] \n",
    "n = int(input(\"Enter number of elements : \")) \n",
    "  \n",
    "for i in range(0, n): \n",
    "    ele = [input(), int(input())] \n",
    "    lst.append(ele) \n",
    "      \n",
    "print(lst) \n",
    "\n",
    "## Conversion to tuple(immortal data set)\n",
    "imm=tuple(lst)\n",
    "print(\"The immortal dataset=\",imm)\n"
   ]
  },
  {
   "cell_type": "code",
   "execution_count": null,
   "metadata": {},
   "outputs": [],
   "source": [
    "## Script to make a chain of function decorators (bold, italic, underline etc.).\n",
    "def make_bold(fn):\n",
    "    def wrapped():\n",
    "        return \"<b>\" + fn() + \"</b>\"\n",
    "    return wrapped\n",
    "\n",
    "def make_italic(fn):\n",
    "    def wrapped():\n",
    "        return \"<i>\" + fn() + \"</i>\"\n",
    "    return wrapped\n",
    "\n",
    "def make_underline(fn):\n",
    "    def wrapped():\n",
    "        return \"<u>\" + fn() + \"</u>\"\n",
    "    return wrapped\n",
    "@make_bold\n",
    "@make_italic\n",
    "@make_underline\n",
    "def hello():\n",
    "    return \"hello world\"\n",
    "print(hello()) ## returns \"<b><i><u>hello world</u></i></b>\"\n"
   ]
  },
  {
   "cell_type": "code",
   "execution_count": null,
   "metadata": {},
   "outputs": [],
   "source": [
    "##Script to remove leading zeros from an IP address\n",
    "def removeZeros(ip): \n",
    "      \n",
    "    # splits the ip by \".\" \n",
    "    # converts the words to integeres to remove leading removeZeros  \n",
    "    # convert back the integer to string and join them back to a string \n",
    "    new_ip = \".\".join([str(int(i)) for i in ip.split(\".\")])   \n",
    "    return new_ip ; \n",
    "      \n",
    "   \n",
    "##example2\n",
    "ip =\"100.020.003.400\"  \n",
    "print(removeZeros(ip)) \n",
    "  \n",
    "  #example2 \n",
    "ip =\"001.200.001.004\"\n",
    "print(removeZeros(ip))"
   ]
  },
  {
   "cell_type": "markdown",
   "metadata": {},
   "source": [
    "### Project\n",
    " \n",
    "#### Developing a project to apply revision of salary to the Employees based on set of rules. "
   ]
  },
  {
   "cell_type": "code",
   "execution_count": null,
   "metadata": {},
   "outputs": [],
   "source": [
    "totalsalary = 0\n",
    "salaryhigh = 0\n",
    "salarylow = 10000000\n",
    "employee = 0  \n",
    "p1=p2=p3=p4=0\n",
    "total_emp=int(input(\"Enter number of employees in your company\"))\n",
    "for employee in range(0, total_emp):\n",
    "    for i in range(1,total_emp):\n",
    "        print(\"EMP  %d details= \" %(i))\n",
    "        salary=int(input(\"Emp Current Salary\"))\n",
    "        years=int(input(\"Emp Total Years in company\"))\n",
    "        rating=input(\"Overall rating of emp\")\n",
    "        contri = input(\"Contribution rating of emp\")\n",
    "        if (years >=5 && <=10):\n",
    "            if rating ==\"Excellent\":\n",
    "                if contri==\"Excellent\":\n",
    "                    if salary <= 200000:\n",
    "                        print(\"Salary Raise =\",(.15*salary))\n",
    "                    elif>200000:\n",
    "                        print(\"Salary Raise = \",(.10*salary))\n",
    "                elif contri==\"Good\":\n",
    "                    if salary <= 200000:\n",
    "                        print(\"Salary Raise =\",(.10*salary))\n",
    "                    elif>200000:\n",
    "                        print(\"Salary Raise = \",(.8*salary))\n",
    "                        \n",
    "                elif contri==\"Average\":\n",
    "                    if salary <= 200000:\n",
    "                        print(\"Salary Raise =\",(.8*salary))\n",
    "                    elif>200000:\n",
    "                        print(\"Salary Raise = \",(.5*salary))\n",
    "                elif contri==\"Poor\":\n",
    "                    if salary <= 200000:\n",
    "                        print(\"Salary Raise =\",(.5*salary))\n",
    "                    elif>200000:\n",
    "                        print(\"Salary Raise = \",(.2*salary))\n",
    "                else :\n",
    "                    pass\n",
    "            else :\n",
    "                pass\n",
    "        else:\n",
    "            pass\n",
    "                        \n",
    "        \n",
    "        \n",
    "    "
   ]
  },
  {
   "cell_type": "markdown",
   "metadata": {},
   "source": []
  }
 ],
 "metadata": {
  "kernelspec": {
   "display_name": "Python 3",
   "language": "python",
   "name": "python3"
  },
  "language_info": {
   "codemirror_mode": {
    "name": "ipython",
    "version": 3
   },
   "file_extension": ".py",
   "mimetype": "text/x-python",
   "name": "python",
   "nbconvert_exporter": "python",
   "pygments_lexer": "ipython3",
   "version": "3.7.1"
  }
 },
 "nbformat": 4,
 "nbformat_minor": 2
}
