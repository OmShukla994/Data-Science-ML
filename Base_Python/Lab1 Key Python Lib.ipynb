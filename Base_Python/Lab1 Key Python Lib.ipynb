{
 "cells": [
  {
   "cell_type": "markdown",
   "metadata": {},
   "source": [
    "Q1- ## Analyze given data set using Key Python Libraries (Company Details)\n",
    "- Check data shape \n",
    "- Describe data\n",
    "- Check for null values and drop null values or replace it\n",
    "- Drop colums that you find unnecessary\n",
    "- What is revenue distribution for Bekins in 2005 \n",
    "- What is the growth% for Data/Technology in 2006\n",
    "- What is the Revenue distribution for Education in 2005\n",
    "- What is number of companies in Each industry \n",
    "- Draw a correlation plot to check on feature realtionship. "
   ]
  },
  {
   "cell_type": "markdown",
   "metadata": {},
   "source": [
    "## Q2 Simple Linear Regression\n",
    "\n",
    "###Lets assume that the two variables are linearly related.\n",
    "\n",
    "    Find a linear function that predicts the response value(y) as accurately as possible as a function of the feature or independent variable(x).\n",
    "\n",
    "    x = [9, 10, 11, 12, 10, 9, 9, 10, 12, 11]\n",
    "    y = [10, 11, 14, 13, 15, 11, 12, 11, 13, 15]\n",
    "\n",
    "x as feature vector, i.e x = [x_1, x_2, …., x_n],\n",
    "\n",
    "y as response vector, i.e y = [y_1, y_2, …., y_n]\n",
    "\n",
    "for n observations (in above example, n=10).\n"
   ]
  },
  {
   "cell_type": "code",
   "execution_count": null,
   "metadata": {},
   "outputs": [],
   "source": []
  }
 ],
 "metadata": {
  "kernelspec": {
   "display_name": "Python 3",
   "language": "python",
   "name": "python3"
  },
  "language_info": {
   "codemirror_mode": {
    "name": "ipython",
    "version": 3
   },
   "file_extension": ".py",
   "mimetype": "text/x-python",
   "name": "python",
   "nbconvert_exporter": "python",
   "pygments_lexer": "ipython3",
   "version": "3.8.5"
  }
 },
 "nbformat": 4,
 "nbformat_minor": 4
}
