{
 "cells": [
  {
   "cell_type": "markdown",
   "metadata": {},
   "source": [
    "## Classes and Objects"
   ]
  },
  {
   "cell_type": "code",
   "execution_count": null,
   "metadata": {},
   "outputs": [],
   "source": [
    "class  P1:\n",
    "    x=\"HI\"   \n",
    "print(P1.x)#Tell about status of class.\n"
   ]
  },
  {
   "cell_type": "code",
   "execution_count": null,
   "metadata": {},
   "outputs": [],
   "source": [
    "#Class variables\n",
    "class P2:\n",
    "    name=\"RAM\"\n",
    "    age = 29\n",
    "print(\"NAME is %s and age is %d\"%(P2.name,P2.age))"
   ]
  },
  {
   "cell_type": "code",
   "execution_count": null,
   "metadata": {},
   "outputs": [],
   "source": [
    "#Class &Objects\n",
    "class Phone():\n",
    "        Color=\" \"\n",
    "        Price =00\n",
    "        Type=\" \"\n",
    "ob1=Phone()#Creation of objects and assinging it to class phone.\n",
    "ob2=Phone()\n",
    "ob1.Color=\"RED\"\n",
    "ob1.Price=10000\n",
    "ob1.Type=\"Nokia\"\n",
    "ob2.Color=\"Black\"\n",
    "ob2.Price=12000\n",
    "ob2.Type=\"Asus\"\n",
    "print(\"This is a %s phone of %s color and its price is %drs\"%(ob1.Type,ob1.Color,ob1.Price))\n",
    "print(\"This is a %s phone of %s color and its price is %drs\"%(ob2.Type,ob2.Color,ob2.Price))\n"
   ]
  },
  {
   "cell_type": "code",
   "execution_count": null,
   "metadata": {},
   "outputs": [],
   "source": [
    "\n",
    "class X:\n",
    "    def __init__(self,name,age):\n",
    "      self.name=name\n",
    "      self.age=age\n",
    "ob=X(\"ran\",18)\n",
    "print(ob.name , ob.age)\n",
    "\n"
   ]
  },
  {
   "cell_type": "code",
   "execution_count": null,
   "metadata": {},
   "outputs": [],
   "source": [
    "# dictionary from an class's fields.\n",
    "class dObj():\n",
    "     def __init__(self):\n",
    "         self.x = 'age'\n",
    "         self.y = 'name'\n",
    "         self.z = 'Gender'\n",
    "     def do(self):\n",
    "         pass\n",
    "d = dObj()\n",
    "print(d.__dict__)\n"
   ]
  },
  {
   "cell_type": "code",
   "execution_count": null,
   "metadata": {},
   "outputs": [],
   "source": []
  }
 ],
 "metadata": {
  "kernelspec": {
   "display_name": "Python 3",
   "language": "python",
   "name": "python3"
  },
  "language_info": {
   "codemirror_mode": {
    "name": "ipython",
    "version": 3
   },
   "file_extension": ".py",
   "mimetype": "text/x-python",
   "name": "python",
   "nbconvert_exporter": "python",
   "pygments_lexer": "ipython3",
   "version": "3.7.1"
  }
 },
 "nbformat": 4,
 "nbformat_minor": 2
}
