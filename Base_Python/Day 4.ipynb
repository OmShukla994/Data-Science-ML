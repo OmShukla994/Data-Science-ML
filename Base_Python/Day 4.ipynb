{
 "cells": [
  {
   "cell_type": "markdown",
   "metadata": {},
   "source": [
    "## Exceptions (3hr) \n",
    " - About Exceptions \n",
    " - Python's Default Exception Handler \n",
    " -  Using Try/Except/Else/Finally Exceptions \n",
    " - Generating User Defined Exceptions \n",
    " - More on Exceptions \n",
    " -  Using Asserts \n",
    " - Exception Classes \n",
    " - Raise Exceptions \n",
    " - Log Generation \n",
    " -  Debug \n",
    " \n",
    "## Process management and process automation (3hrs) \n",
    "- Using os.system, os.popen, os.fork, os.exec functions   \n",
    "- Using the commands module   \n",
    "- Using the subprocess module   \n",
    "- Managing processes using various functions in os module   \n",
    " \n",
    "## Python with Databases (2hr) \n",
    " -  Connection to a database server MySQL and other databases, \n",
    " -  Connection Create Close \n",
    " -  Run query towards DB \n",
    " -  Deal with Query Output \n",
    " \n",
    " \n",
    " \n",
    "### Hands-on          \n",
    "1.   Script to handle multiple exceptions         \n",
    "2. Script that selects latitudes and longitudes from an SQLite database stored in a file called         \n",
    "3. Script to generate Address of given location using google API Integration        \n",
    "4. Script to treat MYSQL data \n"
   ]
  },
  {
   "cell_type": "markdown",
   "metadata": {},
   "source": [
    "# Exceptions"
   ]
  },
  {
   "cell_type": "markdown",
   "metadata": {},
   "source": [
    "### Exception Classes classes\n",
    "The following exceptions are used mostly as base classes for other exceptions.\n",
    "\n",
    "exception **BaseException**\n",
    "The base class for all built-in exceptions. It is not meant to be directly inherited by user-defined classes (for that, use Exception). If str() is called on an instance of this class, the representation of the argument(s) to the instance are returned, or the empty string when there were no arguments.\n",
    "\n",
    "**args**\n",
    "The tuple of arguments given to the exception constructor. Some built-in exceptions (like OSError) expect a certain number of arguments and assign a special meaning to the elements of this tuple, while others are usually called only with a single string giving an error message.\n",
    "\n",
    "**with_traceback(tb)**\n",
    "This method sets tb as the new traceback for the exception and returns the exception object. It is usually used in exception handling code.\n",
    "\n",
    "- exception Exception\n",
    "\n",
    "All built-in, non-system-exiting exceptions are derived from this class. All user-defined exceptions should also be derived from this class.\n",
    "\n",
    "- exception ArithmeticError\n",
    "\n",
    "The base class for those built-in exceptions that are raised for various arithmetic errors: OverflowError, ZeroDivisionError, FloatingPointError.\n",
    "\n",
    "- exception BufferError\n",
    "\n",
    "Raised when a buffer related operation cannot be performed.\n",
    "\n",
    "- exception LookupError\n",
    "\n",
    "The base class for the exceptions that are raised when a key or index used on a mapping or sequence is invalid: IndexError, KeyError. This can be raised directly by codecs.lookup()."
   ]
  },
  {
   "cell_type": "code",
   "execution_count": null,
   "metadata": {},
   "outputs": [],
   "source": [
    "with open (\"c.txt\",\"r\") as f:\n",
    "    f.read(0)\n"
   ]
  },
  {
   "cell_type": "code",
   "execution_count": null,
   "metadata": {},
   "outputs": [],
   "source": [
    "try:\n",
    "  x=int(input(\"NUMBER = \"))\n",
    "except ValueError:\n",
    "  print(\"Entered wrong data type\")\n",
    "  x=int(input(\"NUMBER = \"))\n",
    "finally:\n",
    "  print(\"The 'try except' is finished\")"
   ]
  },
  {
   "cell_type": "code",
   "execution_count": 3,
   "metadata": {},
   "outputs": [
    {
     "name": "stdout",
     "output_type": "stream",
     "text": [
      "NUMBER=2\n",
      "Number0\n",
      "Caught this error: ZeroDivisionError('division by zero')\n"
     ]
    }
   ],
   "source": [
    "try:\n",
    "        x=int(input(\"NUMBER=\"))\n",
    "        y=int(input(\"Number\"))\n",
    "        print(x/y)\n",
    "        raise ValueError('Represents a hidden bug, do not catch this')\n",
    "        raise Exception('This is the exception you expect to handle')\n",
    "        \n",
    "except Exception as error:\n",
    "       print('Caught this error: ' + repr(error))"
   ]
  },
  {
   "cell_type": "code",
   "execution_count": null,
   "metadata": {},
   "outputs": [],
   "source": [
    "ZeroDivisionError\n",
    "#Syntax Error(EOF Error,Indentation Error)\n",
    "#IOError\n",
    "#ImportError\n",
    "#ValueError\n",
    "#NameError\n",
    "#wrong operation :Type ERROR \n",
    "print(\"*****ZeroDivisionError*******\")\n",
    "try:\n",
    "    x=int(input(\"Enter First Number\"))\n",
    "    y=int(input(\"Enter Second Number\"))\n",
    "    print(\"sum is:\", x+y)\n",
    "    print(\"div is:\",x/y)\n",
    "    print(\"product is:\",x*y)\n",
    "except  (ZeroDivisionError,ValueError)  as e:\n",
    "        print(\"oops!!Error either wrong division or wrong data type entered\")\n",
    "        print(\"ReEnter:\")\n",
    "        x=int(input(\"Enter First Number\"))\n",
    "        y=int(input(\"Enter Second  Number\"))\n",
    "        print(\"sum is:\", x+y)\n",
    "        print(\"answer is:\",x/y)\n",
    "        print(\"product is:\",x*y)      \n",
    "\n",
    "print(\"****Module Error*****\")\n",
    "try:\n",
    "    import time\n",
    "    t=time.strftime(\"%c\")\n",
    "    print(t)\n",
    "except ImportError as e:\n",
    "    print(\"OOps you have imported wrong module\")\n",
    "print(\"****IOE Error*****\")\n",
    "try:\n",
    "      a=input(\"Enter file name you want to read\")\n",
    "      f=open(a,\"r\")\n",
    "      x=f.read()\n",
    "      print(x)\n",
    "except IOError as e:\n",
    "      print(\"you have entered wrong file name\")\n",
    "      a=input(\"ReEnter file name\")\n",
    "      f=open(a,\"r\")\n",
    "      x=f.read()\n",
    "      print(x)\n",
    "print(\"Name Error\")\n",
    "x=6\n",
    "try:\n",
    " print(\"the square of x is\",(k*k))\n",
    "except NameError as e:\n",
    " print(\"youn have entered unknow variable\")\n",
    "      \n"
   ]
  },
  {
   "cell_type": "markdown",
   "metadata": {},
   "source": [
    "### Concrete exceptions¶\n",
    "The following exceptions are the exceptions that are usually raised.\n",
    "\n",
    "- exception AssertionError\n",
    "Raised when an assert statement fails.\n",
    "\n",
    "- exception AttributeError\n",
    "Raised when an attribute reference (see Attribute references) or assignment fails. (When an object does not support attribute references or attribute assignments at all, TypeError is raised.)\n",
    "\n",
    "- exception EOFError\n",
    "Raised when the input() function hits an end-of-file condition (EOF) without reading any data. (N.B.: the io.IOBase.read() and io.IOBase.readline() methods return an empty string when they hit EOF.)\n",
    "\n",
    "- exception FloatingPointError\n",
    "Not currently used.\n",
    "\n",
    "- exception GeneratorExit\n",
    "Raised when a generator or coroutine is closed; see generator.close() and coroutine.close(). It directly inherits from BaseException instead of Exception since it is technically not an error.\n",
    "\n",
    "- exception ImportError\n",
    "Raised when the import statement has troubles trying to load a module. Also raised when the “from list” in from ... import has a name that cannot be found.\n",
    "\n",
    "### What is Assertion?\n",
    "Assertions are statements that assert or state a fact confidently in your program. For example, while writing a division function, you're confident the divisor shouldn't be zero, you assert divisor is not equal to zero.\n",
    "\n",
    "- Assertions are simply boolean expressions that checks if the conditions return true or not. If it is true, the program does nothing and move to the next line of code. However, if it's false, the program stops and throws an error\n",
    "- Python's assert statement is a debugging aid that tests a condition. If the condition is true, it does nothing and your program just continues to execute. But if the assert condition evaluates to false, it raises an AssertionError exception with an optional error message.\n",
    "\n",
    "### Python assert Statement\n",
    "Python has built-in assert statement to use assertion condition in the program. assert statement has a condition or expression which is supposed to be always true. If the condition is false assert halts the program and gives an AssertionError."
   ]
  },
  {
   "cell_type": "code",
   "execution_count": 5,
   "metadata": {},
   "outputs": [
    {
     "ename": "AssertionError",
     "evalue": "",
     "output_type": "error",
     "traceback": [
      "\u001b[1;31m---------------------------------------------------------------------------\u001b[0m",
      "\u001b[1;31mAssertionError\u001b[0m                            Traceback (most recent call last)",
      "\u001b[1;32m<ipython-input-5-bde8efdebeac>\u001b[0m in \u001b[0;36m<module>\u001b[1;34m()\u001b[0m\n\u001b[0;32m      5\u001b[0m \u001b[1;33m\u001b[0m\u001b[0m\n\u001b[0;32m      6\u001b[0m \u001b[0mmark1\u001b[0m \u001b[1;33m=\u001b[0m \u001b[1;33m[\u001b[0m\u001b[1;33m]\u001b[0m\u001b[1;33m\u001b[0m\u001b[1;33m\u001b[0m\u001b[0m\n\u001b[1;32m----> 7\u001b[1;33m \u001b[0mprint\u001b[0m\u001b[1;33m(\u001b[0m\u001b[1;34m\"Average of mark1:\"\u001b[0m\u001b[1;33m,\u001b[0m\u001b[0mavg\u001b[0m\u001b[1;33m(\u001b[0m\u001b[0mmark1\u001b[0m\u001b[1;33m)\u001b[0m\u001b[1;33m)\u001b[0m\u001b[1;33m\u001b[0m\u001b[1;33m\u001b[0m\u001b[0m\n\u001b[0m",
      "\u001b[1;32m<ipython-input-5-bde8efdebeac>\u001b[0m in \u001b[0;36mavg\u001b[1;34m(marks)\u001b[0m\n\u001b[0;32m      1\u001b[0m \u001b[1;31m# Without  Error message\u001b[0m\u001b[1;33m\u001b[0m\u001b[1;33m\u001b[0m\u001b[1;33m\u001b[0m\u001b[0m\n\u001b[0;32m      2\u001b[0m \u001b[1;32mdef\u001b[0m \u001b[0mavg\u001b[0m\u001b[1;33m(\u001b[0m\u001b[0mmarks\u001b[0m\u001b[1;33m)\u001b[0m\u001b[1;33m:\u001b[0m\u001b[1;33m\u001b[0m\u001b[1;33m\u001b[0m\u001b[0m\n\u001b[1;32m----> 3\u001b[1;33m     \u001b[1;32massert\u001b[0m \u001b[0mlen\u001b[0m\u001b[1;33m(\u001b[0m\u001b[0mmarks\u001b[0m\u001b[1;33m)\u001b[0m \u001b[1;33m!=\u001b[0m \u001b[1;36m0\u001b[0m\u001b[1;33m\u001b[0m\u001b[1;33m\u001b[0m\u001b[0m\n\u001b[0m\u001b[0;32m      4\u001b[0m     \u001b[1;32mreturn\u001b[0m \u001b[0msum\u001b[0m\u001b[1;33m(\u001b[0m\u001b[0mmarks\u001b[0m\u001b[1;33m)\u001b[0m\u001b[1;33m/\u001b[0m\u001b[0mlen\u001b[0m\u001b[1;33m(\u001b[0m\u001b[0mmarks\u001b[0m\u001b[1;33m)\u001b[0m\u001b[1;33m\u001b[0m\u001b[1;33m\u001b[0m\u001b[0m\n\u001b[0;32m      5\u001b[0m \u001b[1;33m\u001b[0m\u001b[0m\n",
      "\u001b[1;31mAssertionError\u001b[0m: "
     ]
    }
   ],
   "source": [
    "# Without  Error message\n",
    "def avg(marks):\n",
    "    assert len(marks) != 0\n",
    "    return sum(marks)/len(marks)\n",
    "\n",
    "mark1 = []\n",
    "print(\"Average of mark1:\",avg(mark1))"
   ]
  },
  {
   "cell_type": "code",
   "execution_count": 7,
   "metadata": {},
   "outputs": [
    {
     "ename": "AssertionError",
     "evalue": "List is empty.",
     "output_type": "error",
     "traceback": [
      "\u001b[1;31m---------------------------------------------------------------------------\u001b[0m",
      "\u001b[1;31mAssertionError\u001b[0m                            Traceback (most recent call last)",
      "\u001b[1;32m<ipython-input-7-64fe5245f8a9>\u001b[0m in \u001b[0;36m<module>\u001b[1;34m()\u001b[0m\n\u001b[0;32m      5\u001b[0m \u001b[1;33m\u001b[0m\u001b[0m\n\u001b[0;32m      6\u001b[0m \u001b[0mmark2\u001b[0m \u001b[1;33m=\u001b[0m \u001b[1;33m[\u001b[0m\u001b[1;33m]\u001b[0m\u001b[1;33m\u001b[0m\u001b[1;33m\u001b[0m\u001b[0m\n\u001b[1;32m----> 7\u001b[1;33m \u001b[0mprint\u001b[0m\u001b[1;33m(\u001b[0m\u001b[1;34m\"Average of mark2:\"\u001b[0m\u001b[1;33m,\u001b[0m\u001b[0mavg\u001b[0m\u001b[1;33m(\u001b[0m\u001b[0mmark2\u001b[0m\u001b[1;33m)\u001b[0m\u001b[1;33m)\u001b[0m\u001b[1;33m\u001b[0m\u001b[1;33m\u001b[0m\u001b[0m\n\u001b[0m\u001b[0;32m      8\u001b[0m \u001b[1;33m\u001b[0m\u001b[0m\n\u001b[0;32m      9\u001b[0m \u001b[0mmark1\u001b[0m \u001b[1;33m=\u001b[0m \u001b[1;33m[\u001b[0m\u001b[1;36m12\u001b[0m\u001b[1;33m,\u001b[0m\u001b[1;36m12\u001b[0m\u001b[1;33m,\u001b[0m\u001b[1;36m1\u001b[0m\u001b[1;33m,\u001b[0m\u001b[1;36m2\u001b[0m\u001b[1;33m]\u001b[0m\u001b[1;33m\u001b[0m\u001b[1;33m\u001b[0m\u001b[0m\n",
      "\u001b[1;32m<ipython-input-7-64fe5245f8a9>\u001b[0m in \u001b[0;36mavg\u001b[1;34m(marks)\u001b[0m\n\u001b[0;32m      1\u001b[0m \u001b[1;31m# With error message\u001b[0m\u001b[1;33m\u001b[0m\u001b[1;33m\u001b[0m\u001b[1;33m\u001b[0m\u001b[0m\n\u001b[0;32m      2\u001b[0m \u001b[1;32mdef\u001b[0m \u001b[0mavg\u001b[0m\u001b[1;33m(\u001b[0m\u001b[0mmarks\u001b[0m\u001b[1;33m)\u001b[0m\u001b[1;33m:\u001b[0m\u001b[1;33m\u001b[0m\u001b[1;33m\u001b[0m\u001b[0m\n\u001b[1;32m----> 3\u001b[1;33m     \u001b[1;32massert\u001b[0m \u001b[0mlen\u001b[0m\u001b[1;33m(\u001b[0m\u001b[0mmarks\u001b[0m\u001b[1;33m)\u001b[0m \u001b[1;33m!=\u001b[0m \u001b[1;36m0\u001b[0m\u001b[1;33m,\u001b[0m\u001b[1;34m\"List is empty.\"\u001b[0m\u001b[1;33m\u001b[0m\u001b[1;33m\u001b[0m\u001b[0m\n\u001b[0m\u001b[0;32m      4\u001b[0m     \u001b[1;32mreturn\u001b[0m \u001b[0msum\u001b[0m\u001b[1;33m(\u001b[0m\u001b[0mmarks\u001b[0m\u001b[1;33m)\u001b[0m\u001b[1;33m/\u001b[0m\u001b[0mlen\u001b[0m\u001b[1;33m(\u001b[0m\u001b[0mmarks\u001b[0m\u001b[1;33m)\u001b[0m\u001b[1;33m\u001b[0m\u001b[1;33m\u001b[0m\u001b[0m\n\u001b[0;32m      5\u001b[0m \u001b[1;33m\u001b[0m\u001b[0m\n",
      "\u001b[1;31mAssertionError\u001b[0m: List is empty."
     ]
    }
   ],
   "source": [
    "# With error message\n",
    "def avg(marks):\n",
    "    assert len(marks) != 0,\"List is empty.\"\n",
    "    return sum(marks)/len(marks)\n",
    "\n",
    "mark2 = []\n",
    "print(\"Average of mark2:\",avg(mark2))\n",
    "\n",
    "mark1 = [12,12,1,2]\n",
    "print(\"Average of mark1:\",avg(mark1))"
   ]
  },
  {
   "cell_type": "markdown",
   "metadata": {},
   "source": [
    "### Log Generation \n",
    "Logging is a means of tracking events that happen when some software runs. Logging is important for software developing, debugging and running. If you don’t have any logging record and your program crashes, there are very little chances that you detect the cause of the problem. \n",
    "\n",
    "There are two built-in levels of the log message.\n",
    "\n",
    "- Debug : These are used to give Detailed information, typically of interest only when diagnosing problems.\n",
    "- Info : These are used to Confirm that things are working as expected\n",
    "- Warning : These are used an indication that something unexpected happened, or indicative of some problem in the near future\n",
    "- Error : This tells that due to a more serious problem, the software has not been able to perform some function\n",
    "- Critical : This tells serious error, indicating that the program itself may be unable to continue running\n",
    "\n",
    "Logging module is packed with several features. It has several constants, classes, and methods. The items with all caps are constant, the capitalize items are classes and the items which start with lowercase letters are methods.\n",
    "There are several logger objects offered by the module itself.\n",
    "\n",
    "- Logger.info(msg) : This will log a message with level INFO on this logger.\n",
    "- Logger.warning(msg) : This will log a message with level WARNING on this logger.\n",
    "- Logger.error(msg) : This will log a message with level ERROR on this logger.\n",
    "- Logger.critical(msg) : This will log a message with level CRITICAL on this logger.\n",
    "- Logger.log(lvl,msg) : This will Logs a message with integer level lvl on this logger.\n",
    "- Logger.exception(msg) : This will log a message with level ERROR on this logger.\n",
    "- Logger.setLevel(lvl) : This function sets the threshold of this logger to lvl. This means that all the messages below this level will be ignored.\n",
    "- Logger.addFilter(filt) : This adds a specific filter filt to the to this logger.\n",
    "- Logger.removeFilter(filt) : This removes a specific filter filt to the to this logger.\n"
   ]
  },
  {
   "cell_type": "code",
   "execution_count": 9,
   "metadata": {},
   "outputs": [],
   "source": [
    "#importing module \n",
    "\n",
    "#importing module \n",
    "import logging \n",
    "\n",
    "#Create and configure logger \n",
    "logging.basicConfig(filename=\"1.log\", \n",
    "\t\t\t\t\tformat='%(asctime)s %(message)s', \n",
    "\t\t\t\t\tfilemode='w') \n",
    "\n",
    "#Creating an object \n",
    "logger=logging.getLogger() \n",
    "\n",
    "#Setting the threshold of logger to DEBUG \n",
    "logger.setLevel(logging.DEBUG) \n",
    "\n",
    "#Test messages \n",
    "logger.debug(\"Harmless debug Message\") \n",
    "logger.info(\"Just an information\") \n",
    "logger.warning(\"Its a Warning\") \n",
    "logger.error(\"Did you try to divide by zero\") \n",
    "logger.critical(\"Internet is down\") \n"
   ]
  },
  {
   "cell_type": "markdown",
   "metadata": {},
   "source": [
    "### Python has a debugger, which is available as a module called pdb (for “Python DeBugger”, naturally)"
   ]
  },
  {
   "cell_type": "code",
   "execution_count": null,
   "metadata": {},
   "outputs": [],
   "source": [
    "# epdb1.py -- experiment with the Python debugger, pdb\n",
    "import pdb\n",
    "x=input(\"Your Name\\t\")\n",
    "pdb.set_trace()\n",
    "b = \"Auto\"\n",
    "c = \"Desk\"\n",
    "final = a + b + c\n",
    "print (final)"
   ]
  },
  {
   "cell_type": "markdown",
   "metadata": {},
   "source": [
    "## Process management and process automation (3hrs)¶\n",
    "\n",
    "- Python subprocess.check_output() function\n",
    "\n",
    "Using subprocess.check_output() function we can store the output in a variable.\n",
    "\n",
    "- Using os.system, os.popen, os.fork, os.exec functions\n",
    "- Using the commands module\n",
    "- Using the subprocess module\n",
    "- Managing processes using various functions in os module"
   ]
  },
  {
   "cell_type": "code",
   "execution_count": 11,
   "metadata": {},
   "outputs": [
    {
     "name": "stdout",
     "output_type": "stream",
     "text": [
      "returned value: 0\n"
     ]
    }
   ],
   "source": [
    "import os\n",
    "\n",
    "cmd = \"git --version\"\n",
    "\n",
    "returned_value = os.system(cmd)  # returns the exit code in unix\n",
    "print('returned value:', returned_value)\n"
   ]
  },
  {
   "cell_type": "code",
   "execution_count": 13,
   "metadata": {},
   "outputs": [
    {
     "name": "stdout",
     "output_type": "stream",
     "text": [
      "Starting: C:\\Users\\HP\\Downloads\\Python(POC)\n",
      "Moving up one: ..\n",
      "After move: C:\\Users\\HP\\Downloads\n"
     ]
    }
   ],
   "source": [
    "# process path to current working directory\n",
    "import os\n",
    "\n",
    "print ('Starting:', os.getcwd())\n",
    "\n",
    "print ('Moving up one:', os.pardir)\n",
    "os.chdir(os.pardir)\n",
    "\n",
    "print ('After move:', os.getcwd())"
   ]
  },
  {
   "cell_type": "markdown",
   "metadata": {},
   "source": [
    " - popen():It creates a new process running the command given and attaches a single stream to the input or output of that process, depending on the mode argument. While popen() functions work on Windows, some of these examples assume a Unix-like shell."
   ]
  },
  {
   "cell_type": "markdown",
   "metadata": {},
   "source": [
    "- stdin - The “standard input” stream for a process (file descriptor 0) is readable by the process. This is usually where terminal input goes.\n",
    "- stdout - The “standard output” stream for a process (file descriptor 1) is writable by the process, and is used for displaying regular output to the user.\n",
    "- stderr - The “standard error” stream for a process (file descriptor 2) is writable by the process, and is used for conveying error messages."
   ]
  },
  {
   "cell_type": "code",
   "execution_count": null,
   "metadata": {},
   "outputs": [],
   "source": [
    "import os\n",
    "\n",
    "print ('popen, read:')\n",
    "pipe_stdout = os.popen('echo \"to stdout\"', 'r')\n",
    "try:\n",
    "    stdout_value = pipe_stdout.read()\n",
    "finally:\n",
    "    pipe_stdout.close()\n",
    "print ('\\tstdout:', repr(stdout_value))\n",
    "\n",
    "print ('\\npopen, write:')\n",
    "pipe_stdin = os.popen('cat -', 'w')\n",
    "try:\n",
    "    pipe_stdin.write('\\tstdin: to stdin\\n')\n",
    "finally:\n",
    "    pipe_stdin.close()"
   ]
  },
  {
   "cell_type": "markdown",
   "metadata": {},
   "source": [
    "- The subprocess module present in Python(both 2.x and 3.x) is used to run new applications or programs through Python code by creating new processes.\n",
    "- The subprocess module allows you to spawn new processes, connect to their input/output/error pipes, and obtain their return codes. This module intends to replace several older modules and functions"
   ]
  },
  {
   "cell_type": "code",
   "execution_count": 12,
   "metadata": {},
   "outputs": [
    {
     "name": "stdout",
     "output_type": "stream",
     "text": [
      "returned value: 0\n"
     ]
    }
   ],
   "source": [
    "import subprocess\n",
    "\n",
    "#cmd = \"git --version\"\n",
    "\n",
    "returned_value = subprocess.call(cmd, shell=True)  # returns the exit code in unix\n",
    "print('returned value:', returned_value)\n"
   ]
  },
  {
   "cell_type": "code",
   "execution_count": null,
   "metadata": {},
   "outputs": [],
   "source": []
  }
 ],
 "metadata": {
  "kernelspec": {
   "display_name": "Python 3",
   "language": "python",
   "name": "python3"
  },
  "language_info": {
   "codemirror_mode": {
    "name": "ipython",
    "version": 3
   },
   "file_extension": ".py",
   "mimetype": "text/x-python",
   "name": "python",
   "nbconvert_exporter": "python",
   "pygments_lexer": "ipython3",
   "version": "3.7.1"
  }
 },
 "nbformat": 4,
 "nbformat_minor": 2
}
