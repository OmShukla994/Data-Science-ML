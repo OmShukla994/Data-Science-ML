{
 "cells": [
  {
   "cell_type": "code",
   "execution_count": null,
   "metadata": {},
   "outputs": [],
   "source": [
    "import socket\n",
    "import sys\n",
    " \n",
    "# Create a TCP/IP socket\n",
    "sock = socket.socket(socket.AF_INET, socket.SOCK_STREAM)\n",
    " \n",
    "# Define host\n",
    "host = 'localhost'\n",
    " \n",
    "# define the communication port\n",
    "port = 8080\n",
    " \n",
    "# Bind the socket to the port\n",
    "sock.bind((host, port))\n",
    "# Listen for incoming connections\n",
    "sock.listen(1)\n",
    " \n",
    "# Wait for a connection\n",
    "print( 'waiting for a connection')\n",
    "connection, client = sock.accept()\n",
    " \n",
    "print (client, 'connected')\n",
    " \n",
    "# Receive the data in small chunks and retransmit it\n",
    " \n",
    "data = connection.recv(16)\n",
    "print ('received \"%s\"' % data)\n",
    "if data:\n",
    " \n",
    "    connection.sendall(data)\n",
    "else:\n",
    "    print ('no data from', client)\n",
    "# Close the connection\n",
    "connection.close()"
   ]
  },
  {
   "cell_type": "code",
   "execution_count": null,
   "metadata": {},
   "outputs": [],
   "source": [
    "import socket\n",
    "\n",
    "s = socket.socket(socket.AF_INET, socket.SOCK_STREAM)\n",
    "host =\"localhost\"\n",
    "port =8000\n",
    "s.connect((host,port))\n",
    "\n",
    "def ts(str):\n",
    "   s.send('f'.encode()) \n",
    "   data = ''\n",
    "   data = s.recv(1024).decode()\n",
    "   print (data)\n",
    "\n",
    "while 2:\n",
    "   r = input('enter')\n",
    "   ts(s)\n",
    "\n",
    "s.close ()"
   ]
  },
  {
   "cell_type": "code",
   "execution_count": null,
   "metadata": {},
   "outputs": [],
   "source": []
  }
 ],
 "metadata": {
  "kernelspec": {
   "display_name": "Python 3",
   "language": "python",
   "name": "python3"
  },
  "language_info": {
   "codemirror_mode": {
    "name": "ipython",
    "version": 3
   },
   "file_extension": ".py",
   "mimetype": "text/x-python",
   "name": "python",
   "nbconvert_exporter": "python",
   "pygments_lexer": "ipython3",
   "version": "3.7.1"
  }
 },
 "nbformat": 4,
 "nbformat_minor": 2
}
