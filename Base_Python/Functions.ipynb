{
 "cells": [
  {
   "cell_type": "code",
   "execution_count": 1,
   "metadata": {},
   "outputs": [
    {
     "name": "stdout",
     "output_type": "stream",
     "text": [
      "Enter your Emp ID1234\n"
     ]
    }
   ],
   "source": [
    "#Function Without Arguments\n",
    "def EmpID():\n",
    "    x=input(\"Enter your Emp ID\")\n",
    "    \n",
    "EmpID()\n"
   ]
  },
  {
   "cell_type": "code",
   "execution_count": 4,
   "metadata": {},
   "outputs": [
    {
     "name": "stdout",
     "output_type": "stream",
     "text": [
      "SAI\t34\n"
     ]
    }
   ],
   "source": [
    "def details (name, age):\n",
    "    print(name,age,sep=\"\\t\")\n",
    "details(\"SAI\",34)"
   ]
  },
  {
   "cell_type": "raw",
   "metadata": {},
   "source": [
    "#Create a funtion named cali , add,sub,mul,div \n",
    "choice=+(add),-(sub),mul(*),div(/)"
   ]
  },
  {
   "cell_type": "code",
   "execution_count": 18,
   "metadata": {},
   "outputs": [
    {
     "name": "stdout",
     "output_type": "stream",
     "text": [
      "input 1= 2\n",
      "input 2= 34\n",
      "Enter your choice*\n",
      "prod= 68\n"
     ]
    }
   ],
   "source": [
    "#Functions with Arguments\n",
    "x=int(input(\"input 1= \"))\n",
    "y=int(input(\"input 2= \"))\n",
    "def cal(x,y):\n",
    "    choice=input(\"Enter your choice\")\n",
    "    if choice==\"+\":\n",
    "        print(\"sum=\",x+y)\n",
    "    elif choice==\"-\":\n",
    "        print(\"sub=\",x-y)\n",
    "    elif choice==\"*\":\n",
    "        print(\"prod=\",x*y)\n",
    "    else:\n",
    "        print(\"option not aviliable\")\n",
    "cal(x,y)"
   ]
  },
  {
   "cell_type": "markdown",
   "metadata": {},
   "source": [
    "### Return() is not mandatory in Python\n",
    "- To let a function return a value, use the return statement:"
   ]
  },
  {
   "cell_type": "code",
   "execution_count": 10,
   "metadata": {},
   "outputs": [
    {
     "data": {
      "text/plain": [
       "1.1428571428571428"
      ]
     },
     "execution_count": 10,
     "metadata": {},
     "output_type": "execute_result"
    }
   ],
   "source": [
    "def te(x,y):\n",
    "    s=x+y\n",
    "    return x/y\n",
    "\n",
    "    \n",
    "te(8,7)"
   ]
  },
  {
   "cell_type": "markdown",
   "metadata": {},
   "source": [
    "### Different variable class can be passed within a function"
   ]
  },
  {
   "cell_type": "code",
   "execution_count": null,
   "metadata": {},
   "outputs": [],
   "source": [
    "def Emp(name,age,f):\n",
    "   print(name,age,f,sep=\"\\t\")\n",
    "\n",
    "Emp(\"Ashi\",2,6)\n",
    "Emp(1,2,3)"
   ]
  },
  {
   "cell_type": "code",
   "execution_count": 14,
   "metadata": {},
   "outputs": [
    {
     "name": "stdout",
     "output_type": "stream",
     "text": [
      "The oldest employee is: er3\n",
      "The oldest employee is: B\n",
      "The oldest employee is: man\n"
     ]
    }
   ],
   "source": [
    "def dex(*emp):\n",
    "    print(\"The oldest employee is: \" + emp[-1])\n",
    "    \n",
    "dex(\"Abc\",\"ab12\",\"er3\")\n",
    "dex(\"A\",\"B\")\n",
    "dex (\"ram\",\"sam\",\"lam\",\"man\")"
   ]
  },
  {
   "cell_type": "code",
   "execution_count": null,
   "metadata": {},
   "outputs": [],
   "source": [
    "# create a function to return largest member from a list(names)\n"
   ]
  },
  {
   "cell_type": "code",
   "execution_count": 19,
   "metadata": {},
   "outputs": [
    {
     "name": "stdout",
     "output_type": "stream",
     "text": [
      "kiwi\n",
      "apple\n",
      "pie\n",
      "abc\n"
     ]
    }
   ],
   "source": [
    "def food(fruit):\n",
    "    for i in fruit:\n",
    "        print(i)\n",
    "\n",
    "fruits=[\"kiwi\",\"apple\",\"pie\",\"abc\"]\n",
    "\n",
    "food(fruits)\n",
    "    "
   ]
  },
  {
   "cell_type": "markdown",
   "metadata": {},
   "source": [
    "## lambda - one line function which can take any number of argumnets:"
   ]
  },
  {
   "cell_type": "code",
   "execution_count": 20,
   "metadata": {},
   "outputs": [
    {
     "data": {
      "text/plain": [
       "24.0"
      ]
     },
     "execution_count": 20,
     "metadata": {},
     "output_type": "execute_result"
    }
   ],
   "source": [
    "z= lambda a,b,c:a*b/c\n",
    "z(8,9,3)"
   ]
  },
  {
   "cell_type": "code",
   "execution_count": 22,
   "metadata": {},
   "outputs": [
    {
     "data": {
      "text/plain": [
       "729"
      ]
     },
     "execution_count": 22,
     "metadata": {},
     "output_type": "execute_result"
    }
   ],
   "source": [
    "## Create a lamba function that returns cube of a number.\n",
    "z = lambda s:s*s*s\n",
    "z(9)"
   ]
  },
  {
   "cell_type": "code",
   "execution_count": 27,
   "metadata": {},
   "outputs": [
    {
     "data": {
      "text/plain": [
       "[2, 4, 4, 6, 8, 44, 20]"
      ]
     },
     "execution_count": 27,
     "metadata": {},
     "output_type": "execute_result"
    }
   ],
   "source": [
    "a=[2,4,-9,4,6,8,44,20,33]\n",
    "\n",
    "even_list = list(filter(lambda x:(x%2 == 0),a))\n",
    "even_list"
   ]
  },
  {
   "cell_type": "code",
   "execution_count": 29,
   "metadata": {},
   "outputs": [],
   "source": [
    "## Date Time Module \n",
    "import time "
   ]
  },
  {
   "cell_type": "markdown",
   "metadata": {},
   "source": [
    "### Write a Python script to display the various Date Time formats.\n",
    "\n",
    "- a) Current date and time\n",
    "- b) Current year\n",
    "- c) Month of year\n",
    "- d) Week number of the year\n",
    "- e) Weekday of the week\n",
    "- f) Day of year\n",
    "- g) Day of the month\n",
    "- h) Day of week"
   ]
  },
  {
   "cell_type": "code",
   "execution_count": 31,
   "metadata": {},
   "outputs": [
    {
     "name": "stdout",
     "output_type": "stream",
     "text": [
      "Current date and time:  2021-02-01 16:53:32.344239\n"
     ]
    }
   ],
   "source": [
    "import datetime as d\n",
    "print(\"Current date and time: \" , d.datetime.now())"
   ]
  },
  {
   "cell_type": "code",
   "execution_count": 30,
   "metadata": {},
   "outputs": [
    {
     "name": "stdout",
     "output_type": "stream",
     "text": [
      "Hi\n",
      "Welcome\n"
     ]
    }
   ],
   "source": [
    "import time \n",
    "## Provide delay in a program\n",
    "print(\"Hi\")\n",
    "time.sleep(2)\n",
    "print(\"Welcome\")"
   ]
  },
  {
   "cell_type": "markdown",
   "metadata": {},
   "source": [
    "## Python code to check time of execution of a program"
   ]
  },
  {
   "cell_type": "code",
   "execution_count": null,
   "metadata": {},
   "outputs": [],
   "source": [
    "\n",
    "# starting time\n",
    "start = time.time()\n",
    "\n",
    "# program body starts\n",
    "for i in range(10):\n",
    "    print(i)\n",
    "\n",
    "# sleeping for 1 sec to get 10 sec runtime\n",
    "time.sleep(1)\n",
    "\n",
    "# program body ends\n",
    "\n",
    "# end time\n",
    "end = time.time()\n",
    "\n",
    "# total time taken\n",
    "print(f\"Runtime of the program is {end - start}\")"
   ]
  },
  {
   "cell_type": "markdown",
   "metadata": {},
   "source": [
    "### - Q Write a Python function to sum all the numbers in a list. "
   ]
  },
  {
   "cell_type": "code",
   "execution_count": null,
   "metadata": {},
   "outputs": [],
   "source": [
    "def sum(numbers):\n",
    "    total = 0\n",
    "    for x in numbers:    \n",
    "        total += x\n",
    "    return total\n",
    "#print(sum((12,34,55)))\n",
    "sum((12,12))"
   ]
  },
  {
   "cell_type": "markdown",
   "metadata": {},
   "source": [
    "### - Q Write a Python funtion to check whether a given number is the given range?"
   ]
  },
  {
   "cell_type": "code",
   "execution_count": null,
   "metadata": {},
   "outputs": [],
   "source": [
    "def test_range(n):\n",
    "    if n in range(12,50):\n",
    "        print( \" %s is in the range\"%str(n))\n",
    "    else :\n",
    "        print(\"The number is outside the given range.\")\n",
    "test_range(13)\n"
   ]
  },
  {
   "cell_type": "markdown",
   "metadata": {},
   "source": [
    "### - Q Write a Python function that accepts a string and calculate the number of upper case letters and lower case letters"
   ]
  },
  {
   "cell_type": "code",
   "execution_count": null,
   "metadata": {},
   "outputs": [],
   "source": [
    "def string_test(s):\n",
    "    d={\"UPPER_CASE\":0, \"LOWER_CASE\":0,\"SPACES_\":0}\n",
    "    for c in s:\n",
    "        if c.isupper():\n",
    "           d[\"UPPER_CASE\"]+=1\n",
    "        elif c.islower():\n",
    "           d[\"LOWER_CASE\"]+=1\n",
    "        else:\n",
    "           pass\n",
    "    print (\"Original String : \", s)\n",
    "    print (\"No. of Upper case characters : \", d[\"UPPER_CASE\"])\n",
    "    print (\"No. of Lower case Characters : \", d[\"LOWER_CASE\"])\n",
    "\n",
    "string_test(\"PRACTICE More\")\n"
   ]
  },
  {
   "cell_type": "markdown",
   "metadata": {},
   "source": [
    "## Lamba Function\n",
    "ambda function\n",
    "\n",
    "   -  The lambda keyword is used to create anonymous functions\n",
    "    - This function can have any number of arguments but only one expression, which is evaluated and returned.\n",
    "    - One is free to use lambda functions wherever function objects are required.\n",
    "    - You need to keep in your knowledge that lambda functions are syntactically restricted to a single expression.\n"
   ]
  },
  {
   "cell_type": "code",
   "execution_count": null,
   "metadata": {},
   "outputs": [],
   "source": [
    "z=[1,2,3,4]\n",
    "x=list(map(lambda y:(y+2),z))\n",
    "print(x)"
   ]
  },
  {
   "cell_type": "code",
   "execution_count": null,
   "metadata": {},
   "outputs": [],
   "source": [
    "x=lambda a : a**3\n",
    "print(x(3)) "
   ]
  },
  {
   "cell_type": "code",
   "execution_count": null,
   "metadata": {},
   "outputs": [],
   "source": [
    "a=[1,3,4,6,23,44,56,78,90,54,60]\n",
    "list_div6= list(filter(lambda x:(x %6==0),a))\n",
    "print(list_div6)"
   ]
  },
  {
   "cell_type": "code",
   "execution_count": null,
   "metadata": {},
   "outputs": [],
   "source": [
    "##Lambda functions can take any number of arguments\n",
    "x = lambda a, b,c : a**2+b*3+c\n",
    "print(x(5, 6,7)) "
   ]
  },
  {
   "cell_type": "markdown",
   "metadata": {},
   "source": [
    "### Write a Python program to sort a list of tuples using Lambda"
   ]
  },
  {
   "cell_type": "code",
   "execution_count": null,
   "metadata": {},
   "outputs": [],
   "source": [
    "subject_marks = [('English', 88), ('Science', 90), ('Maths', 97), ('Social sciences', 82)]\n",
    "print(\"Original list of tuples:\")\n",
    "print(subject_marks)\n",
    "subject_marks.sort(key = lambda x: x[1])\n",
    "print(\"\\nSorting the List of Tuples:\")\n",
    "print(subject_marks)\n"
   ]
  },
  {
   "cell_type": "markdown",
   "metadata": {},
   "source": [
    "### The power of lambda is better shown when you use them as an anonymous function inside another function."
   ]
  },
  {
   "cell_type": "code",
   "execution_count": null,
   "metadata": {},
   "outputs": [],
   "source": [
    "def my(r):\n",
    "    print(4*r)\n",
    "my(3)\n"
   ]
  },
  {
   "cell_type": "code",
   "execution_count": null,
   "metadata": {},
   "outputs": [],
   "source": [
    "def myfunc(n):\n",
    "  print(\"The number:\",n)\n",
    "  return lambda a : n**a\n",
    "  \n",
    "r = myfunc(6)\n",
    "\n",
    "print(r(4))"
   ]
  },
  {
   "cell_type": "code",
   "execution_count": null,
   "metadata": {},
   "outputs": [],
   "source": [
    "def mydata(n):\n",
    "  return lambda a,b:(a+b)*n\n",
    "var = mydata(4)\n",
    "print(var(2,3))"
   ]
  },
  {
   "cell_type": "markdown",
   "metadata": {},
   "source": [
    "## Classes in Python &OO programming"
   ]
  },
  {
   "cell_type": "code",
   "execution_count": null,
   "metadata": {},
   "outputs": [],
   "source": [
    "class  Program1:\n",
    "    \"HI\"   \n",
    "print(Program1)#Tell about status of class.\n",
    "print(60*\"*\")"
   ]
  },
  {
   "cell_type": "code",
   "execution_count": null,
   "metadata": {},
   "outputs": [],
   "source": [
    "class Program1:\n",
    "    name=\"RAM\"\n",
    "    age = 29\n",
    "print(\"NAME is %s and age is %d\"%(Program1.name,Program1.age))\n",
    "print(60*\"*\")\n"
   ]
  },
  {
   "cell_type": "code",
   "execution_count": null,
   "metadata": {},
   "outputs": [],
   "source": [
    "# Create a class name mobile store, Price=0.0,Type=\"\",Brand, Three \n",
    "class Program1:\n",
    "    name=\"RAM\"\n",
    "    age = 29\n",
    "Emp1= Program1()\n",
    "Emp2 = Program1()\n",
    "Emp3 = Program1()\n",
    "Emp1.name =\"A\"\n",
    "Emp1.age = 9\n",
    "Emp2.name = \"B\"\n",
    "Emp2.age = 32    \n",
    "Emp3.name= \"C\"\n",
    "Emp3.age = 47\n",
    "#print(\" %s   %d \"%(Emp1.name,Emp1.age))\n",
    "#print(\" %s   %d \"%(Emp2.name,Emp2.age))\n",
    "#print(\" %s   %d \"%(Emp3.name,Emp3.age))\n",
    "for x in range(1,4):\n",
    "        print(eval(\"Emp%d.name\"%(x)), eval(\"Emp%d.age\"%(x)))"
   ]
  },
  {
   "cell_type": "code",
   "execution_count": null,
   "metadata": {},
   "outputs": [],
   "source": [
    "x=6\n",
    "eval(\"x**x*x+98+x\")"
   ]
  },
  {
   "cell_type": "code",
   "execution_count": null,
   "metadata": {},
   "outputs": [],
   "source": [
    "#Class &Objects\n",
    "class Phone:\n",
    "        Color=\" \"\n",
    "        Price =00\n",
    "        Type=\" \"\n",
    "ob1=Phone()#Creation of objects and assinging it to class phone.\n",
    "ob2=Phone()\n",
    "ob1.Color=\"RED\"\n",
    "ob1.Price=10000\n",
    "ob1.Type=\"Smart\"\n",
    "ob2.Color=\"Black\"\n",
    "ob2.Price=12000\n",
    "ob2.Type=\"Smart\"\n",
    "print(\"This is a %s phone of %s color and its price is %drs\"%(ob1.Type,ob1.Color,ob1.Price))\n",
    "print(\"This is a %s phone of %s color and its price is %drs\"%(ob2.Type,ob2.Color,ob2.Price))\n",
    "print(50*\"*\")"
   ]
  },
  {
   "cell_type": "markdown",
   "metadata": {},
   "source": [
    "### - self is used to represent the instance of the class. With this keyword, you can access the attributes and methods class in python. it helps to bind attributes with the given arguments. \n",
    "#### - In Python we have methods that make the intance to be passed automatically, but not received automatically. "
   ]
  },
  {
   "cell_type": "code",
   "execution_count": null,
   "metadata": {},
   "outputs": [],
   "source": [
    "class X:\n",
    "    \"Classses and functions\"\n",
    "    myroll= 9\n",
    "    def  student(self):\n",
    "        print('This is Science Class')\n",
    "ob = X()\n",
    "print(X.student)\n",
    "print(ob.student)\n",
    "ob.student()\n",
    "print(8*\"*\")"
   ]
  },
  {
   "cell_type": "markdown",
   "metadata": {},
   "source": [
    "Class name calci , compute sum, sub, divsion using a fucntion called finalo/p. "
   ]
  },
  {
   "cell_type": "code",
   "execution_count": null,
   "metadata": {},
   "outputs": [],
   "source": [
    "class Y:\n",
    "     a = 9\n",
    "     b = 3.3\n",
    "     c = 23.4\n",
    "     d = 0.0\n",
    "     def details(r):\n",
    "        r.c= r.a * r.b \n",
    "        r.d = r.a/r.b\n",
    "        t=round(r.d,3)\n",
    "        print(r.c,t,sep=\",\")\n",
    "cal1=Y()\n",
    "cal2= Y()\n",
    "cal1.a=5\n",
    "cal1.b=4.7\n",
    "cal1.details()\n",
    "        "
   ]
  },
  {
   "cell_type": "code",
   "execution_count": null,
   "metadata": {},
   "outputs": [],
   "source": [
    "### Class and Function\n",
    "\n",
    "\n",
    "class Shop:\n",
    "        \"Things in MYshop\"\n",
    "        Quantity = 10\n",
    "        Type       =   \"\"\n",
    "        price=500.00\n",
    "        def bill(self):\n",
    "            print(\"your bill for  % s dress of %d quantity is %drs:\"%(self.Type,self.Quantity,self.price))\n",
    "coustmer1=Shop()\n",
    "coustmer1.Quantity=5\n",
    "coustmer1.Type=\"saree\"\n",
    "coustmer1.price=20000\n",
    "coustmer1.bill()\n",
    "print(50*\"*\")\n",
    "\n"
   ]
  },
  {
   "cell_type": "code",
   "execution_count": null,
   "metadata": {},
   "outputs": [],
   "source": [
    "# dictionary from an class's fields.\n",
    "class dObj():\n",
    "     def __init__(self):\n",
    "         self.x = 'age'\n",
    "         self.y = 'name'\n",
    "         self.z = 'Gender'\n",
    "     def do(self):\n",
    "         pass\n",
    "d = dObj()\n",
    "print(d.__dict__)\n"
   ]
  },
  {
   "cell_type": "code",
   "execution_count": null,
   "metadata": {},
   "outputs": [],
   "source": []
  }
 ],
 "metadata": {
  "kernelspec": {
   "display_name": "Python 3",
   "language": "python",
   "name": "python3"
  },
  "language_info": {
   "codemirror_mode": {
    "name": "ipython",
    "version": 3
   },
   "file_extension": ".py",
   "mimetype": "text/x-python",
   "name": "python",
   "nbconvert_exporter": "python",
   "pygments_lexer": "ipython3",
   "version": "3.8.5"
  }
 },
 "nbformat": 4,
 "nbformat_minor": 2
}
