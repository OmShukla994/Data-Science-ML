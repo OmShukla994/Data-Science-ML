{
 "cells": [
  {
   "cell_type": "raw",
   "metadata": {},
   "source": [
    "np.vstack, np.hstack\n",
    "\n",
    "apply and applymap\n",
    "\n",
    "pd.cut\n",
    "\n",
    "numpy : ndarray\n",
    "pandas : Series (apply), DataFrame (apply)\n",
    "    \n",
    "np.where\n",
    "\n",
    "warnings and sometimes errors"
   ]
  },
  {
   "cell_type": "code",
   "execution_count": 4,
   "metadata": {},
   "outputs": [],
   "source": [
    "import pandas as pd\n",
    "import numpy as np"
   ]
  },
  {
   "cell_type": "code",
   "execution_count": 9,
   "metadata": {},
   "outputs": [],
   "source": [
    "stores = pd.read_csv('D:/SampleData/stores.csv')"
   ]
  },
  {
   "cell_type": "code",
   "execution_count": 23,
   "metadata": {},
   "outputs": [
    {
     "data": {
      "text/plain": [
       "0    160.0\n",
       "1    160.0\n",
       "2    108.0\n",
       "3    258.0\n",
       "4    360.0\n",
       "Name: TotalSales, dtype: float64"
      ]
     },
     "execution_count": 23,
     "metadata": {},
     "output_type": "execute_result"
    }
   ],
   "source": [
    "stores.TotalSales.head()"
   ]
  },
  {
   "cell_type": "code",
   "execution_count": 24,
   "metadata": {},
   "outputs": [
    {
     "data": {
      "text/plain": [
       "0    (100.0, 300.0]\n",
       "1    (100.0, 300.0]\n",
       "2    (100.0, 300.0]\n",
       "3    (100.0, 300.0]\n",
       "4    (300.0, 473.0]\n",
       "Name: TotalSales, dtype: category\n",
       "Categories (3, interval[float64]): [(70.1, 100.0] < (100.0, 300.0] < (300.0, 473.0]]"
      ]
     },
     "execution_count": 24,
     "metadata": {},
     "output_type": "execute_result"
    }
   ],
   "source": [
    "pd.cut(stores.TotalSales, [stores.TotalSales.min() - 1, 100, 300, stores.TotalSales.max() + 1]).head()"
   ]
  },
  {
   "cell_type": "code",
   "execution_count": 28,
   "metadata": {},
   "outputs": [
    {
     "data": {
      "text/plain": [
       "StoreCode          32\n",
       "StoreName          32\n",
       "StoreType          32\n",
       "Location           32\n",
       "OperatingCost      32\n",
       "Staff_Cnt          32\n",
       "TotalSales         32\n",
       "Total_Customers    32\n",
       "AcqCostPercust     29\n",
       "BasketSize         32\n",
       "ProfitPercust      32\n",
       "OwnStore           32\n",
       "OnlinePresence     32\n",
       "Tenure             32\n",
       "StoreSegment       32\n",
       "dtype: int64"
      ]
     },
     "execution_count": 28,
     "metadata": {},
     "output_type": "execute_result"
    }
   ],
   "source": [
    "stores.count()"
   ]
  },
  {
   "cell_type": "raw",
   "metadata": {},
   "source": [
    "Inferrtial stats:\n",
    "-----------------------------------------------"
   ]
  },
  {
   "cell_type": "raw",
   "metadata": {},
   "source": [
    "Central tendency\n",
    "    mean, median, mode\n",
    "\n",
    "Dispersion\n",
    "    range(min max), VAR, STD\n",
    "    \n",
    "CV - Coff of variance\n",
    "    SD / mean"
   ]
  },
  {
   "cell_type": "raw",
   "metadata": {},
   "source": [
    "Normal Distribution:\n",
    "    1> Bell shaped curve\n",
    "    2> Symetric around the center\n",
    "        mean = median = mode\n",
    "    3> mean +/- 1SD = 68.3%\n",
    "       mean +/- 2SD = 95.4%\n",
    "       mean +/- 3SD = 99.7%\n",
    "    \n",
    "Standard Normal Distribution:\n",
    "    mean = 0\n",
    "    STD = 1\n",
    "    \n",
    "    z = (X - u)/SD"
   ]
  },
  {
   "cell_type": "code",
   "execution_count": null,
   "metadata": {},
   "outputs": [],
   "source": []
  }
 ],
 "metadata": {
  "kernelspec": {
   "display_name": "Python 3",
   "language": "python",
   "name": "python3"
  },
  "language_info": {
   "codemirror_mode": {
    "name": "ipython",
    "version": 3
   },
   "file_extension": ".py",
   "mimetype": "text/x-python",
   "name": "python",
   "nbconvert_exporter": "python",
   "pygments_lexer": "ipython3",
   "version": "3.7.4"
  }
 },
 "nbformat": 4,
 "nbformat_minor": 2
}
