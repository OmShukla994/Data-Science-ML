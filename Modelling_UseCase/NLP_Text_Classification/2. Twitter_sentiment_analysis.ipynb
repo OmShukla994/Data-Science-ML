{
 "cells": [
  {
   "cell_type": "code",
   "execution_count": 1,
   "metadata": {},
   "outputs": [],
   "source": [
    "#Concept of Textblob\n",
    "from textblob import TextBlob"
   ]
  },
  {
   "cell_type": "code",
   "execution_count": 2,
   "metadata": {},
   "outputs": [],
   "source": [
    "review = 'Camera quality is not very good'\n",
    "review1 = 'camera have excellent features'"
   ]
  },
  {
   "cell_type": "code",
   "execution_count": 3,
   "metadata": {},
   "outputs": [],
   "source": [
    "analysis = TextBlob(review1) "
   ]
  },
  {
   "cell_type": "code",
   "execution_count": 4,
   "metadata": {},
   "outputs": [
    {
     "data": {
      "text/plain": [
       "1.0"
      ]
     },
     "execution_count": 4,
     "metadata": {},
     "output_type": "execute_result"
    }
   ],
   "source": [
    "analysis.polarity"
   ]
  },
  {
   "cell_type": "markdown",
   "metadata": {},
   "source": [
    "### Sentimental Analysis on Twitter Data\n",
    "    - To find out the positive vs negitive tweet"
   ]
  },
  {
   "cell_type": "code",
   "execution_count": 7,
   "metadata": {},
   "outputs": [],
   "source": [
    "import re \n",
    "import tweepy #!pip install tweepy\n",
    "from tweepy import OAuthHandler  # twitter app authentication\n",
    "\n",
    "from textblob import TextBlob \n",
    "import pandas as pd\n",
    "import matplotlib.pyplot as plt\n",
    "%matplotlib inline\n"
   ]
  },
  {
   "cell_type": "code",
   "execution_count": 8,
   "metadata": {},
   "outputs": [],
   "source": [
    "# Get the below strings/api codes from developer.twitter.com\n",
    "# Step 1: Login to twitter and visit the developer site\n",
    "# Step 2 : Navigate to \"Create a new App\"\n",
    "# Step 3 : fill the details accordingly\n",
    "# Step 4 : api keys are now generated\n",
    "# keys and tokens from the Twitter Dev Console \n",
    "\n",
    "consumer_key = 'VJFZEdGk7cyzbbKVPaPaAIPgs'\n",
    "consumer_secret = 'WcA3PZ0ZYNuad524X3qUx97ExiEmI0gULZ3JcMMwmxn920xxC7'\n",
    "access_token = '3257684406-kh5gJuLncLMe9o1kQVKS60FH47XmITXMUgo4qmB'\n",
    "access_token_secret = 'BPg3GA7pSj86qvFqzmCXPCBGQeaSuPXRKdkP2UC1W85A1'"
   ]
  },
  {
   "cell_type": "code",
   "execution_count": 9,
   "metadata": {},
   "outputs": [],
   "source": [
    "# attempt authentication \n",
    "\n",
    "# create OAuthHandler object \n",
    "auth = OAuthHandler(consumer_key, consumer_secret) \n",
    "    \n",
    "# set access token and secret \n",
    "auth.set_access_token(access_token, access_token_secret) \n",
    "    \n",
    "# create tweepy API object to fetch tweets \n",
    "api = tweepy.API(auth,wait_on_rate_limit=True) #wait_on_rate_limit need to be True becoz connection should not be disconnected \n",
    "                                                #even if data is not loading "
   ]
  },
  {
   "cell_type": "code",
   "execution_count": 10,
   "metadata": {},
   "outputs": [],
   "source": [
    "# 1. removing @username\n",
    "# 2. tabs \n",
    "# 3. non words and other spaces\n",
    "def clean_tweet(tweet): \n",
    "    ''' \n",
    "        Utility function to clean tweet text by removing links, special characters \n",
    "        using simple regex statements. \n",
    "    '''\n",
    "    return ' '.join(re.sub(\"(@[A-Za-z0-9]+)|([^0-9A-Za-z \\t])|(\\w+:\\/\\/\\S+)\", \"\", tweet).split()) \n",
    "\n",
    "#re.sub is removing the special char starting from @, number or symbol. basically we are removing all apart from text"
   ]
  },
  {
   "cell_type": "code",
   "execution_count": 11,
   "metadata": {},
   "outputs": [],
   "source": [
    "# Using text blob from above, we calculate the polarity score\n",
    "# textblob has a corpus of positive, negative and neutral words\n",
    "# It checks for the presence of these words in the document and calculates the overall\n",
    "# polarity\n",
    "\n",
    "def get_tweet_sentiment(tweet): \n",
    "    ''' \n",
    "    Utility function to classify sentiment of passed tweet \n",
    "    using textblob's sentiment method \n",
    "    '''\n",
    "    # create TextBlob object of passed tweet text \n",
    "    analysis = TextBlob(clean_tweet(tweet)) \n",
    "    # set sentiment \n",
    "    if analysis.sentiment.polarity > 0: \n",
    "        return 'positive'\n",
    "    elif analysis.sentiment.polarity == 0: \n",
    "        return 'neutral'\n",
    "    else: \n",
    "        return 'negative'"
   ]
  },
  {
   "cell_type": "code",
   "execution_count": 12,
   "metadata": {},
   "outputs": [],
   "source": [
    "# empty list to store parsed tweets \n",
    "tweets = [] \n",
    "\n",
    "# call twitter api to fetch tweets \n",
    "# count = 20\n",
    "# The number of tweets to return per page, up to a maximum of 100. \n",
    "# Defaults to 15.\n",
    "# This restriction is due to a security update from the Twitter API\n",
    "# We will get rid of this limitation using the new \n",
    "# tweepy.Cursor() method\n",
    "\n",
    "#fetched_tweets = api.search(q = \"chidambaram\", count = 100) #here we have limit count 100\n",
    "fetched_tweets=tweepy.Cursor(api.search,q=\"NationalYouthDay\").items(1000) #here we dont have limt, we can search more than 100 count\n",
    "\n",
    "# parsing tweets one by one \n",
    "for tweet in fetched_tweets: \n",
    "    # empty dictionary to store required params of a tweet \n",
    "    parsed_tweet = {} \n",
    "\n",
    "    # saving text of tweet \n",
    "    parsed_tweet['text'] = tweet.text\n",
    "\n",
    "    \n",
    "    # saving sentiment of tweet \n",
    "    parsed_tweet['sentiment'] = get_tweet_sentiment(tweet=clean_tweet(tweet.text)) \n",
    "\n",
    "    # appending parsed tweet to tweets list \n",
    "    if tweet.retweet_count > 0: \n",
    "        # if tweet has retweets, ensure that it is appended only once \n",
    "        if parsed_tweet not in tweets: \n",
    "            tweets.append(parsed_tweet) \n",
    "    else: \n",
    "        tweets.append(parsed_tweet) "
   ]
  },
  {
   "cell_type": "code",
   "execution_count": 14,
   "metadata": {},
   "outputs": [
    {
     "data": {
      "text/plain": [
       "{'text': '#NationalYouthDay #SwamiVicekananda #BirthAnniversary #CafeBahar #Biryani #Authentic #Hyderabadi #Delicacies\\n\\nAll P… https://t.co/eTXhOR3xh3',\n",
       " 'sentiment': 'positive'}"
      ]
     },
     "execution_count": 14,
     "metadata": {},
     "output_type": "execute_result"
    }
   ],
   "source": [
    "#parsed_tweet"
   ]
  },
  {
   "cell_type": "code",
   "execution_count": 13,
   "metadata": {},
   "outputs": [
    {
     "data": {
      "text/plain": [
       "34"
      ]
     },
     "execution_count": 13,
     "metadata": {},
     "output_type": "execute_result"
    }
   ],
   "source": [
    "len(tweets)"
   ]
  },
  {
   "cell_type": "code",
   "execution_count": 15,
   "metadata": {},
   "outputs": [
    {
     "data": {
      "text/plain": [
       "[{'text': 'RT @Drpadamsingh12: युवाओं के प्रेरणास्रोत और पूरे विश्व में भारतीय संस्कृति और परंपरा का ज्ञान फैलाने वाले स्वामी विवेकानंद जी की जयंती पर…',\n",
       "  'sentiment': 'neutral'},\n",
       " {'text': 'RT @Akanksh44854693: \"Fill the brain with high thoughts ,highest ideals , place them day and night  before you, and out of that will come g…',\n",
       "  'sentiment': 'positive'},\n",
       " {'text': \"RT @NFAIOfficial: On the occasion of #SwamiVivekananda's birth anniversary today, we celebrate #NationalYouthDay with this joyful moment fr…\",\n",
       "  'sentiment': 'neutral'},\n",
       " {'text': 'RT @TheNameIsYash: ಮಾನ್ಯ ಉಪಮುಖ್ಯಮಂತ್ರಿಗಳಾದ @drashwathcn ರವರ ಈ ಅಭಿಯಾನವನ್ನು ಬೆಂಬಲಿಸುತ್ತಾ... #SwamijiQuotes campaign ನಲ್ಲಿ ಭಾಗಿಯಾಗಲು ಈ ಐವರನ್ನು…',\n",
       "  'sentiment': 'neutral'},\n",
       " {'text': 'RT @iMonkJi: @hegdepooja Uttarayan festival is important in terms of physical, mental, intellectual and spiritual development.\\n\\nWith the in…',\n",
       "  'sentiment': 'positive'},\n",
       " {'text': 'RT @SadhguruJV: The enormous potential of youth can be unleashed for the wellbeing of the world, and it would have a tremendous impact, if…',\n",
       "  'sentiment': 'positive'},\n",
       " {'text': 'RT @SadhguruJV: To be spiritual has always been understood as to also be gentle, which has always been misinterpreted as weakness. The weak…',\n",
       "  'sentiment': 'negative'},\n",
       " {'text': 'RT @Geetanjaligroup: “All the powers in the universe are already ours. It is we who we have put our hands before our eyes and cry that it i…',\n",
       "  'sentiment': 'neutral'},\n",
       " {'text': 'RT @ysjagan: Remembering the great scholar and philosopher Swami Vivekananda on his birth anniversary. To all the young minds reading this…',\n",
       "  'sentiment': 'positive'},\n",
       " {'text': 'RT @rkmbelurmath: National Youth Day Celebration at Ramakrishna Ashrama, Mysuru.\\nFor Photos and Report : https://t.co/IYqYwLWO8R\\n#Mysuru #M…',\n",
       "  'sentiment': 'neutral'}]"
      ]
     },
     "execution_count": 15,
     "metadata": {},
     "output_type": "execute_result"
    }
   ],
   "source": [
    "tweets[0:10] #top ten tweet"
   ]
  },
  {
   "cell_type": "code",
   "execution_count": 16,
   "metadata": {},
   "outputs": [
    {
     "name": "stdout",
     "output_type": "stream",
     "text": [
      "Positive tweets percentage: 26.470588235294116 %\n"
     ]
    }
   ],
   "source": [
    "# picking positive tweets from tweets \n",
    "ptweets = [tweet for tweet in tweets if tweet['sentiment'] == 'positive'] \n",
    "# percentage of positive tweets \n",
    "print(\"Positive tweets percentage: {} %\".format(100*len(ptweets)/len(tweets))) "
   ]
  },
  {
   "cell_type": "code",
   "execution_count": 17,
   "metadata": {},
   "outputs": [
    {
     "name": "stdout",
     "output_type": "stream",
     "text": [
      "Negative tweets percentage: 11.764705882352942 %\n"
     ]
    }
   ],
   "source": [
    "# picking negative tweets from tweets \n",
    "ntweets = [tweet for tweet in tweets if tweet['sentiment'] == 'negative'] \n",
    "# percentage of negative tweets \n",
    "print(\"Negative tweets percentage: {} %\".format(100*len(ntweets)/len(tweets))) "
   ]
  },
  {
   "cell_type": "code",
   "execution_count": 18,
   "metadata": {},
   "outputs": [
    {
     "name": "stdout",
     "output_type": "stream",
     "text": [
      "Neutral tweets percentage: 61.76470588235294 %\n"
     ]
    }
   ],
   "source": [
    "# percentage of neutral tweets \n",
    "print(\"Neutral tweets percentage: {} %\".format(100*(len(tweets) - len(ntweets) - len(ptweets))/len(tweets))) "
   ]
  },
  {
   "cell_type": "code",
   "execution_count": 19,
   "metadata": {},
   "outputs": [
    {
     "name": "stdout",
     "output_type": "stream",
     "text": [
      "                 0\n",
      "ptweets          9\n",
      "ntweets          4\n",
      "nuetral_tweets  21\n"
     ]
    }
   ],
   "source": [
    "df_tweets_cnt = pd.DataFrame(pd.concat([pd.Series(len(ptweets)), pd.Series(len(ntweets)), pd.Series( (len(tweets) - len(ntweets) - len(ptweets))) ],axis=0 ))\n",
    "df_tweets_cnt.set_index(pd.Series(['ptweets', 'ntweets', 'nuetral_tweets']), inplace=True)\n",
    "print(df_tweets_cnt)"
   ]
  },
  {
   "cell_type": "code",
   "execution_count": 20,
   "metadata": {},
   "outputs": [
    {
     "name": "stdout",
     "output_type": "stream",
     "text": [
      "\n",
      "\n",
      "Positive tweets:\n",
      "RT Fill the brain with high thoughts highest ideals place them day and night before you and out of that will come g\n",
      "RT Uttarayan festival is important in terms of physical mental intellectual and spiritual developmentWith the in\n",
      "RT The enormous potential of youth can be unleashed for the wellbeing of the world and it would have a tremendous impact if\n",
      "RT Remembering the great scholar and philosopher Swami Vivekananda on his birth anniversary To all the young minds reading this\n",
      "RT Ramakrishna Mission Ashrama Jalpaiguri celebrated National Youth Day 2020 on 12 Jan 2020Report and Photos\n",
      "RT Ramakrishna Math Kochi Kerala celebrated National Youth Day at Swami Vivekanandas Statue at Ernakulam Boat jetty wher\n",
      "RT The National Youth Day was celebrated by Ramakrishna Math and Ramakrishna Mission Karimganj on 12 January 2020 by way o\n",
      "RT January 12th is celebrated as NationalYouthDay in India and the date also marks Swami Vivekanandas birthday youth\n",
      "NationalYouthDay SwamiVicekananda BirthAnniversary CafeBahar Biryani Authentic Hyderabadi DelicaciesAll P\n"
     ]
    }
   ],
   "source": [
    "# printing first 10 positive tweets \n",
    "print(\"\\n\\nPositive tweets:\") \n",
    "for tweet in ptweets[:10]: \n",
    "    print(clean_tweet(tweet['text'])) "
   ]
  },
  {
   "cell_type": "code",
   "execution_count": 21,
   "metadata": {},
   "outputs": [
    {
     "name": "stdout",
     "output_type": "stream",
     "text": [
      "\n",
      "\n",
      "Negative tweets:\n",
      "RT @SadhguruJV: To be spiritual has always been understood as to also be gentle, which has always been misinterpreted as weakness. The weak…\n",
      "RT @SatlokChannel: #SaturdayMotivation\n",
      "Provocative and vulgar movies are corrupting the youth. \n",
      "To give right values to the children, Satsa…\n",
      "RT @ArshadRizwan: Be a Hero. Always say, I have no fear - #SwamiVivekananda\n",
      "\n",
      "I pay my humble tributes to Swami Vivekananda on his Birth Ann…\n",
      "RT @MohitBeniwalBJP: A man is not poor without a rupee \n",
      "but a man is really poor without a dream and ambition - “Swami Vivekanand”\n",
      "स्वामी…\n"
     ]
    }
   ],
   "source": [
    "# printing first 10 negative tweets \n",
    "print(\"\\n\\nNegative tweets:\") \n",
    "for tweet in ntweets[:10]: \n",
    "    print(tweet['text']) "
   ]
  },
  {
   "cell_type": "code",
   "execution_count": 22,
   "metadata": {},
   "outputs": [
    {
     "data": {
      "text/plain": [
       "<matplotlib.axes._subplots.AxesSubplot at 0x1f1aa7854c8>"
      ]
     },
     "execution_count": 22,
     "metadata": {},
     "output_type": "execute_result"
    },
    {
     "data": {
      "image/png": "[encoded data removed]",
      "text/plain": [
       "<Figure size 432x288 with 1 Axes>"
      ]
     },
     "metadata": {
      "needs_background": "light"
     },
     "output_type": "display_data"
    }
   ],
   "source": [
    "df_tweets_cnt.plot(kind='bar')"
   ]
  },
  {
   "cell_type": "code",
   "execution_count": null,
   "metadata": {},
   "outputs": [],
   "source": []
  }
 ],
 "metadata": {
  "kernelspec": {
   "display_name": "Python 3",
   "language": "python",
   "name": "python3"
  },
  "language_info": {
   "codemirror_mode": {
    "name": "ipython",
    "version": 3
   },
   "file_extension": ".py",
   "mimetype": "text/x-python",
   "name": "python",
   "nbconvert_exporter": "python",
   "pygments_lexer": "ipython3",
   "version": "3.7.4"
  }
 },
 "nbformat": 4,
 "nbformat_minor": 2
}
