{
 "cells": [
  {
   "cell_type": "markdown",
   "metadata": {},
   "source": [
    "# **Extracting Information from Web Pages **<br>\n",
    "> - **_This give an quick overview of how to read a web page and then extracts relevant information_**<br>\n",
    "> - **_Please make note that scraping certain information from web pages is illegal and please read terms and conditions of the respective website before doing so_**<br>\n",
    "> - **_This post is mostly educational and does not promote any kind of illegal web scraping and is not responsible if readers of this post do such activity_**<br>\n",
    "> - **_For this tutorial, the BeautifulSoup APIs will be used_**<br>\n",
    "> - **_If not installed, use pip install beautifulsoup4_**<br>"
   ]
  },
  {
   "cell_type": "code",
   "execution_count": 1,
   "metadata": {},
   "outputs": [],
   "source": [
    "import requests\n",
    "import pandas as pd\n",
    "from bs4 import BeautifulSoup"
   ]
  },
  {
   "cell_type": "code",
   "execution_count": 2,
   "metadata": {},
   "outputs": [],
   "source": [
    "# Enter the amazon product page which contains the product reviews\n",
    "# https://www.amazon.in/product-reviews/B00VT61IKA/ref=cm_cr_dp_see_all_btm?ie=UTF8&reviewerType=all_reviews&showViewpoints=1&sortBy=recent\n",
    "url = 'https://www.amazon.in/OnePlus-Mirror-Black-128GB-Storage/product-reviews/B07DJHV6VZ/ref=dpx_acr_txt?showViewpoints=1'"
   ]
  },
  {
   "cell_type": "code",
   "execution_count": 3,
   "metadata": {},
   "outputs": [],
   "source": [
    "review_html = requests.get(url)\n"
   ]
  },
  {
   "cell_type": "code",
   "execution_count": 4,
   "metadata": {},
   "outputs": [],
   "source": [
    "review_html = review_html.text"
   ]
  },
  {
   "cell_type": "code",
   "execution_count": 5,
   "metadata": {},
   "outputs": [
    {
     "data": {
      "text/plain": [
       "'<!DOCTYPE html>\\n<!--[if lt IE 7]> <html lang=\"en-us\" class=\"a-no-js a-lt-ie9 a-lt-ie8 a-lt-ie7\"> <![endif]-->\\n<!--[if IE 7]>    <html lang=\"en-us\" class=\"a-no-js a-lt-ie9 a-lt-ie8\"> <![endif]-->\\n<!--[if IE 8]>    <html lang=\"en-us\" class=\"a-no-js a-lt-ie9\"> <![endif]-->\\n<!--[if gt IE 8]><!-->\\n<html class=\"a-no-js\" lang=\"en-us\"><!--<![endif]--><head>\\n<meta http-equiv=\"content-type\" content=\"text/html; charset=UTF-8\">\\n<meta charset=\"utf-8\">\\n<meta http-equiv=\"X-UA-Compatible\" content=\"IE=edge,chrome=1\">\\n<title dir=\"ltr\">Robot Check</title>\\n<meta name=\"viewport\" content=\"width=device-width\">\\n<link rel=\"stylesheet\" href=\"https://images-na.ssl-images-amazon.com/images/G/01/AUIClients/AmazonUI-3c913031596ca78a3768f4e934b1cc02ce238101.secure.min._V1_.css\">\\n<script>\\n\\nif (true === true) {\\n    var ue_t0 = (+ new Date()),\\n        ue_csm = window,\\n        ue = { t0: ue_t0, d: function() { return (+new Date() - ue_t0); } },\\n        ue_furl = \"fls-eu.amazon.in\",\\n        ue_mid = \"A21TJRUUN4KGV\",\\n        ue_sid = (document.cookie.match(/session-id=([0-9-]+)/) || [])[1],\\n        ue_sn = \"opfcaptcha.amazon.in\",\\n        ue_id = \\'G5H0M6CVWBJW4J0QNXTV\\';\\n}\\n</script>\\n</head>\\n<body>\\n\\n<!--\\n        To discuss automated access to Amazon data please contact api-services-support@amazon.com.\\n        For information about migrating to our APIs refer to our Marketplace APIs at https://developer.amazonservices.in/ref=rm_c_sv, or our Product Advertising API at https://affiliate-program.amazon.in/gp/advertising/api/detail/main.html/ref=rm_c_ac for advertising use cases.\\n-->\\n\\n<!--\\nCorreios.DoNotSend\\n-->\\n\\n<div class=\"a-container a-padding-double-large\" style=\"min-width:350px;padding:44px 0 !important\">\\n\\n    <div class=\"a-row a-spacing-double-large\" style=\"width: 350px; margin: 0 auto\">\\n\\n        <div class=\"a-row a-spacing-medium a-text-center\"><i class=\"a-icon a-logo\"></i></div>\\n\\n        <div class=\"a-box a-alert a-alert-info a-spacing-base\">\\n            <div class=\"a-box-inner\">\\n                <i class=\"a-icon a-icon-alert\"></i>\\n                <h4>Enter the characters you see below</h4>\\n                <p class=\"a-last\">Sorry, we just need to make sure you\\'re not a robot. For best results, please make sure your browser is accepting cookies.</p>\\n                </div>\\n            </div>\\n\\n            <div class=\"a-section\">\\n\\n                <div class=\"a-box a-color-offset-background\">\\n                    <div class=\"a-box-inner a-padding-extra-large\">\\n\\n                        <form method=\"get\" action=\"/errors/validateCaptcha\" name=\"\">\\n                            <input type=hidden name=\"amzn\" value=\"Sc05/ra6e/QQxJmdMdGv8A==\" /><input type=hidden name=\"amzn-r\" value=\"&#047;OnePlus&#045;Mirror&#045;Black&#045;128GB&#045;Storage&#047;product&#045;reviews&#047;B07DJHV6VZ&#047;ref&#061;dpx_acr_txt?showViewpoints&#061;1\" />\\n                            <div class=\"a-row a-spacing-large\">\\n                                <div class=\"a-box\">\\n                                    <div class=\"a-box-inner\">\\n                                        <h4>Type the characters you see in this image:</h4>\\n                                        <!-- For automated access to price change or offer listing change events,\\n                                             please refer to the MWS Subscription API:\\n                                             https://developer.amazonservices.in/gp/mws/api.html/276-5247872-0590350?ie=UTF8&section=subscriptions&group=subscriptions&version=latest\\n                                        -->\\n                                        <div class=\"a-row a-text-center\">\\n                                            <img src=\"https://images-na.ssl-images-amazon.com/captcha/fmvtfjch/Captcha_diorlikzpf.jpg\">\\n                                        </div>\\n                                        <div class=\"a-row a-spacing-base\">\\n                                            <div class=\"a-row\">\\n                                                <div class=\"a-column a-span6\">\\n                                                </div>\\n                                                <div class=\"a-column a-span6 a-span-last a-text-right\">\\n                                                    <a onclick=\"window.location.reload()\">Try different image</a>\\n                                                </div>\\n                                            </div>\\n                                            <input autocomplete=\"off\" spellcheck=\"false\" placeholder=\"Type characters\" id=\"captchacharacters\" name=\"field-keywords\" class=\"a-span12\" autocapitalize=\"off\" autocorrect=\"off\" type=\"text\">\\n                                        </div>\\n                                    </div>\\n                                </div>\\n                            </div>\\n\\n                            <div class=\"a-section a-spacing-extra-large\">\\n\\n                                <div class=\"a-row\">\\n                                    <span class=\"a-button a-button-primary a-span12\">\\n                                        <span class=\"a-button-inner\">\\n                                            <button type=\"submit\" class=\"a-button-text\">Continue shopping</button>\\n                                        </span>\\n                                    </span>\\n                                </div>\\n\\n                            </div>\\n                        </form>\\n\\n                    </div>\\n                </div>\\n\\n            </div>\\n\\n        </div>\\n\\n        <div class=\"a-divider a-divider-section\"><div class=\"a-divider-inner\"></div></div>\\n\\n        <div class=\"a-text-center a-spacing-small a-size-mini\">\\n            <a href=\"https://www.amazon.in/gp/help/customer/display.html/ref=footer_cou?ie=UTF8&nodeId=200545940\">Conditions of Use &amp; Sale</a>\\n            <span class=\"a-letter-space\"></span>\\n            <span class=\"a-letter-space\"></span>\\n            <span class=\"a-letter-space\"></span>\\n            <span class=\"a-letter-space\"></span>\\n            <a href=\"https://www.amazon.in/gp/help/customer/display.html/ref=footer_privacy?ie=UTF8&nodeId=200534380\">Privacy Notice</a>\\n        </div>\\n\\n        <div class=\"a-text-center a-size-mini a-color-secondary\">\\n          &copy; 1996-2015, Amazon.com, Inc. or its affiliates\\n          <script>\\n           if (true === true) {\\n             document.write(\\'<img src=\"https://fls-eu.amaz\\'+\\'on.in/\\'+\\'1/oc-csi/1/OP/requestId=G5H0M6CVWBJW4J0QNXTV&js=1\" />\\');\\n           };\\n          </script>\\n          <noscript>\\n            <img src=\"https://fls-eu.amazon.in/1/oc-csi/1/OP/requestId=G5H0M6CVWBJW4J0QNXTV&js=0\" />\\n          </noscript>\\n        </div>\\n    </div>\\n    <script>\\n    if (true === true) {\\n        var elem = document.createElement(\"script\");\\n        elem.src = \"https://images-eu.ssl-images-amazon.com/images/G/01/csminstrumentation/csm-captcha-instrumentation.min._V\" + (+ new Date()) + \"_.js\";\\n        document.getElementsByTagName(\\'head\\')[0].appendChild(elem);\\n    }\\n    </script>\\n</body></html>\\n'"
      ]
     },
     "execution_count": 5,
     "metadata": {},
     "output_type": "execute_result"
    }
   ],
   "source": [
    "review_html # not understood by BS"
   ]
  },
  {
   "cell_type": "code",
   "execution_count": 6,
   "metadata": {},
   "outputs": [],
   "source": [
    "soup = BeautifulSoup(review_html, 'lxml')"
   ]
  },
  {
   "cell_type": "code",
   "execution_count": 7,
   "metadata": {},
   "outputs": [
    {
     "data": {
      "text/plain": [
       "<!DOCTYPE html>\n",
       "<!--[if lt IE 7]> <html lang=\"en-us\" class=\"a-no-js a-lt-ie9 a-lt-ie8 a-lt-ie7\"> <![endif]--><!--[if IE 7]>    <html lang=\"en-us\" class=\"a-no-js a-lt-ie9 a-lt-ie8\"> <![endif]--><!--[if IE 8]>    <html lang=\"en-us\" class=\"a-no-js a-lt-ie9\"> <![endif]--><!--[if gt IE 8]><!--><html class=\"a-no-js\" lang=\"en-us\"><!--<![endif]--><head>\n",
       "<meta content=\"text/html; charset=utf-8\" http-equiv=\"content-type\"/>\n",
       "<meta charset=\"utf-8\"/>\n",
       "<meta content=\"IE=edge,chrome=1\" http-equiv=\"X-UA-Compatible\"/>\n",
       "<title dir=\"ltr\">Robot Check</title>\n",
       "<meta content=\"width=device-width\" name=\"viewport\"/>\n",
       "<link href=\"https://images-na.ssl-images-amazon.com/images/G/01/AUIClients/AmazonUI-3c913031596ca78a3768f4e934b1cc02ce238101.secure.min._V1_.css\" rel=\"stylesheet\"/>\n",
       "<script>\n",
       "\n",
       "if (true === true) {\n",
       "    var ue_t0 = (+ new Date()),\n",
       "        ue_csm = window,\n",
       "        ue = { t0: ue_t0, d: function() { return (+new Date() - ue_t0); } },\n",
       "        ue_furl = \"fls-eu.amazon.in\",\n",
       "        ue_mid = \"A21TJRUUN4KGV\",\n",
       "        ue_sid = (document.cookie.match(/session-id=([0-9-]+)/) || [])[1],\n",
       "        ue_sn = \"opfcaptcha.amazon.in\",\n",
       "        ue_id = 'G5H0M6CVWBJW4J0QNXTV';\n",
       "}\n",
       "</script>\n",
       "</head>\n",
       "<body>\n",
       "<!--\n",
       "        To discuss automated access to Amazon data please contact api-services-support@amazon.com.\n",
       "        For information about migrating to our APIs refer to our Marketplace APIs at https://developer.amazonservices.in/ref=rm_c_sv, or our Product Advertising API at https://affiliate-program.amazon.in/gp/advertising/api/detail/main.html/ref=rm_c_ac for advertising use cases.\n",
       "-->\n",
       "<!--\n",
       "Correios.DoNotSend\n",
       "-->\n",
       "<div class=\"a-container a-padding-double-large\" style=\"min-width:350px;padding:44px 0 !important\">\n",
       "<div class=\"a-row a-spacing-double-large\" style=\"width: 350px; margin: 0 auto\">\n",
       "<div class=\"a-row a-spacing-medium a-text-center\"><i class=\"a-icon a-logo\"></i></div>\n",
       "<div class=\"a-box a-alert a-alert-info a-spacing-base\">\n",
       "<div class=\"a-box-inner\">\n",
       "<i class=\"a-icon a-icon-alert\"></i>\n",
       "<h4>Enter the characters you see below</h4>\n",
       "<p class=\"a-last\">Sorry, we just need to make sure you're not a robot. For best results, please make sure your browser is accepting cookies.</p>\n",
       "</div>\n",
       "</div>\n",
       "<div class=\"a-section\">\n",
       "<div class=\"a-box a-color-offset-background\">\n",
       "<div class=\"a-box-inner a-padding-extra-large\">\n",
       "<form action=\"/errors/validateCaptcha\" method=\"get\" name=\"\">\n",
       "<input name=\"amzn\" type=\"hidden\" value=\"Sc05/ra6e/QQxJmdMdGv8A==\"/><input name=\"amzn-r\" type=\"hidden\" value=\"/OnePlus-Mirror-Black-128GB-Storage/product-reviews/B07DJHV6VZ/ref=dpx_acr_txt?showViewpoints=1\"/>\n",
       "<div class=\"a-row a-spacing-large\">\n",
       "<div class=\"a-box\">\n",
       "<div class=\"a-box-inner\">\n",
       "<h4>Type the characters you see in this image:</h4>\n",
       "<!-- For automated access to price change or offer listing change events,\n",
       "                                             please refer to the MWS Subscription API:\n",
       "                                             https://developer.amazonservices.in/gp/mws/api.html/276-5247872-0590350?ie=UTF8&section=subscriptions&group=subscriptions&version=latest\n",
       "                                        -->\n",
       "<div class=\"a-row a-text-center\">\n",
       "<img src=\"https://images-na.ssl-images-amazon.com/captcha/fmvtfjch/Captcha_diorlikzpf.jpg\"/>\n",
       "</div>\n",
       "<div class=\"a-row a-spacing-base\">\n",
       "<div class=\"a-row\">\n",
       "<div class=\"a-column a-span6\">\n",
       "</div>\n",
       "<div class=\"a-column a-span6 a-span-last a-text-right\">\n",
       "<a onclick=\"window.location.reload()\">Try different image</a>\n",
       "</div>\n",
       "</div>\n",
       "<input autocapitalize=\"off\" autocomplete=\"off\" autocorrect=\"off\" class=\"a-span12\" id=\"captchacharacters\" name=\"field-keywords\" placeholder=\"Type characters\" spellcheck=\"false\" type=\"text\"/>\n",
       "</div>\n",
       "</div>\n",
       "</div>\n",
       "</div>\n",
       "<div class=\"a-section a-spacing-extra-large\">\n",
       "<div class=\"a-row\">\n",
       "<span class=\"a-button a-button-primary a-span12\">\n",
       "<span class=\"a-button-inner\">\n",
       "<button class=\"a-button-text\" type=\"submit\">Continue shopping</button>\n",
       "</span>\n",
       "</span>\n",
       "</div>\n",
       "</div>\n",
       "</form>\n",
       "</div>\n",
       "</div>\n",
       "</div>\n",
       "</div>\n",
       "<div class=\"a-divider a-divider-section\"><div class=\"a-divider-inner\"></div></div>\n",
       "<div class=\"a-text-center a-spacing-small a-size-mini\">\n",
       "<a href=\"https://www.amazon.in/gp/help/customer/display.html/ref=footer_cou?ie=UTF8&amp;nodeId=200545940\">Conditions of Use &amp; Sale</a>\n",
       "<span class=\"a-letter-space\"></span>\n",
       "<span class=\"a-letter-space\"></span>\n",
       "<span class=\"a-letter-space\"></span>\n",
       "<span class=\"a-letter-space\"></span>\n",
       "<a href=\"https://www.amazon.in/gp/help/customer/display.html/ref=footer_privacy?ie=UTF8&amp;nodeId=200534380\">Privacy Notice</a>\n",
       "</div>\n",
       "<div class=\"a-text-center a-size-mini a-color-secondary\">\n",
       "          © 1996-2015, Amazon.com, Inc. or its affiliates\n",
       "          <script>\n",
       "           if (true === true) {\n",
       "             document.write('<img src=\"https://fls-eu.amaz'+'on.in/'+'1/oc-csi/1/OP/requestId=G5H0M6CVWBJW4J0QNXTV&js=1\" />');\n",
       "           };\n",
       "          </script>\n",
       "<noscript>\n",
       "<img src=\"https://fls-eu.amazon.in/1/oc-csi/1/OP/requestId=G5H0M6CVWBJW4J0QNXTV&amp;js=0\"/>\n",
       "</noscript>\n",
       "</div>\n",
       "</div>\n",
       "<script>\n",
       "    if (true === true) {\n",
       "        var elem = document.createElement(\"script\");\n",
       "        elem.src = \"https://images-eu.ssl-images-amazon.com/images/G/01/csminstrumentation/csm-captcha-instrumentation.min._V\" + (+ new Date()) + \"_.js\";\n",
       "        document.getElementsByTagName('head')[0].appendChild(elem);\n",
       "    }\n",
       "    </script>\n",
       "</body></html>"
      ]
     },
     "execution_count": 7,
     "metadata": {},
     "output_type": "execute_result"
    }
   ],
   "source": [
    "soup # this is a BS object."
   ]
  },
  {
   "cell_type": "raw",
   "metadata": {},
   "source": [
    "soup.findAll\n",
    "\n",
    "# takes a dict of tags as input and gets the text in that tag"
   ]
  },
  {
   "cell_type": "code",
   "execution_count": 8,
   "metadata": {},
   "outputs": [
    {
     "data": {
      "text/plain": [
       "[]"
      ]
     },
     "execution_count": 8,
     "metadata": {},
     "output_type": "execute_result"
    }
   ],
   "source": [
    "review_titles = soup.findAll('a', {'class': 'a-size-base a-link-normal review-title a-color-base review-title-content a-text-bold'})\n",
    "review_titles"
   ]
  },
  {
   "cell_type": "code",
   "execution_count": 11,
   "metadata": {},
   "outputs": [
    {
     "data": {
      "text/plain": [
       "10"
      ]
     },
     "execution_count": 11,
     "metadata": {},
     "output_type": "execute_result"
    }
   ],
   "source": [
    "len( review_titles )"
   ]
  },
  {
   "cell_type": "code",
   "execution_count": 12,
   "metadata": {},
   "outputs": [
    {
     "data": {
      "text/plain": [
       "'Camera quality is very poor.\\n'"
      ]
     },
     "execution_count": 12,
     "metadata": {},
     "output_type": "execute_result"
    }
   ],
   "source": [
    "title = review_titles[1]\n",
    "title.text"
   ]
  },
  {
   "cell_type": "code",
   "execution_count": 13,
   "metadata": {},
   "outputs": [
    {
     "data": {
      "text/plain": [
       "0                                    Flagship Killer\\n\n",
       "1                       Camera quality is very poor.\\n\n",
       "2                                        Worst phone\\n\n",
       "3                                    Dead on arrival\\n\n",
       "4                                Not worth to buy 6T\\n\n",
       "5    Battery problem and disappointing customer sup...\n",
       "6                                    Beautiful phone\\n\n",
       "7               Only one side of speakers is working\\n\n",
       "8                        Awesome value for the money\\n\n",
       "9    NO WAY GOING TO BE A CUSTOMER OF A COMPANY (On...\n",
       "Name: ReviewTitle, dtype: object"
      ]
     },
     "execution_count": 13,
     "metadata": {},
     "output_type": "execute_result"
    }
   ],
   "source": [
    "titles = []\n",
    "for review_title in review_titles:\n",
    "    titles.append( review_title.text )\n",
    "titles = pd.Series(titles,name=\"ReviewTitle\")\n",
    "titles"
   ]
  },
  {
   "cell_type": "code",
   "execution_count": 14,
   "metadata": {},
   "outputs": [
    {
     "data": {
      "text/plain": [
       "10"
      ]
     },
     "execution_count": 14,
     "metadata": {},
     "output_type": "execute_result"
    }
   ],
   "source": [
    "#<span data-hook=\"review-body\" class=\"a-size-base review-text review-text-content\"><span class=\"\">Camera quality is not upto the mark. I visited one plus store and the store representative checked my phone and compared the camera quality with his demo phone. He noticed a significant difference between the two.<br><br>I request Amazon to replace my phone with a new one as it is evident that this phone has some problems.</span>\n",
    " #           </span>\n",
    "\n",
    "review_texts = soup.findAll('span', {'class': 'a-size-base review-text review-text-content'})\n",
    "len( review_texts )"
   ]
  },
  {
   "cell_type": "code",
   "execution_count": 15,
   "metadata": {},
   "outputs": [
    {
     "data": {
      "text/plain": [
       "[<span class=\"a-size-base review-text review-text-content\" data-hook=\"review-body\"><span class=\"\">I got this phone on Friday evening.<br/><br/>Pros:<br/>Great battery life<br/>Amazing performance<br/>Premium design<br/>Impressive rear and front camera<br/>In display fingerprint scanner is really fast<br/><br/>Cons:<br/>No headphone jack but you'll get a converter<br/>No notification LED<br/>No microSD card slot<br/><br/>I will give points on my personal experience of 2 days full usage as below:<br/><br/>Weight: 9/10<br/>OS: 10/10<br/>Screen size: 10/10<br/>CPU: 10/10<br/>Performance: 10/10<br/>Storage: 10/10 (you'll get approx 113 gb for use)<br/>Battery: 8/10<br/>Rear camera: 10/10<br/>Front camera: 10/10<br/>In display fingerprint scanner: 9/10<br/>Face unlock: 10/10<br/><br/>I hope this will help full.</span>\n",
       " </span>,\n",
       " <span class=\"a-size-base review-text review-text-content\" data-hook=\"review-body\"><span class=\"\">Camera quality is not upto the mark. I visited one plus store and the store representative checked my phone and compared the camera quality with his demo phone. He noticed a significant difference between the two.<br/><br/>I request Amazon to replace my phone with a new one as it is evident that this phone has some problems.</span>\n",
       " </span>,\n",
       " <span class=\"a-size-base review-text review-text-content\" data-hook=\"review-body\"><span class=\"\">1. The Battery lasts max of 6 hours.<br/>2. Major application not working in the upper side of the screen.<br/>3. Camera quality is very poor.<br/>4. Audio output through earphone is very poor, same earphone works with other phone is excellent.<br/>5. While in a call unable to drop down the notification window.<br/>6. Video quality is very poor compared to other less price phones.<br/><br/>I have applied for replacement, not going to take any replacement for such a worst product.</span>\n",
       " </span>,\n",
       " <span class=\"a-size-base review-text review-text-content\" data-hook=\"review-body\"><span class=\"\">I charged the phone completely out of the box and then turned it on.  It went to the Oneplus logo screen but did nothing after that.  No buttons work, no combinations of any buttons do anything to take it out of logo screen, it won't even turn off.  Amazon won't allow return until technician looks at the phone???  Oneplus support said take it to a service center but couldn't tell me the closest one.  Really disappointed in lack of support form both companies for a brand new product and release.  I'm sure they will now try to push a replacement but I'm not really interested in the product anymore.</span>\n",
       " </span>,\n",
       " <span class=\"a-size-base review-text review-text-content\" data-hook=\"review-body\"><span class=\"\">One plus 6 was costing 28k during the big billion sale and 6T costs  38k. It is not worth to spend 10 k just for some small improvements.</span>\n",
       " </span>,\n",
       " <span class=\"a-size-base review-text review-text-content\" data-hook=\"review-body\"><span class=\"\">OnePlus 6T turned out to be an utter disappointment for me. I received a faulty device and when tried getting support from OnePlus I received disappointment only. Even after 6 calls, several mails and a visit to the service centre I got no solution as such. The cherry on top of all this was lie by the people at service centre. He couldn't connect my device to the laptop for software update and told me he updated the device. I could see that my email id was still there. How's it even possible if the software was updated after hard reset?<br/><br/>My device has battery drain and heating issues along with apps crashing.<br/><br/>It's not just OnePlus but Amazon too didn't help me either. They couldn't even connect a call to the technical support department.<br/><br/>I feel cheated and betrayed by both OnePlus and Amazon.</span>\n",
       " </span>,\n",
       " <span class=\"a-size-base review-text review-text-content\" data-hook=\"review-body\"><span class=\"\">Good build.<br/>amazing battery life. ( Minimum 3 days stand by along with basic use in airtel's 4g network)<br/>good accessories on op site.<br/>cool phone box packing.<br/>in display fingerprint sensor &amp; face recognition both are good.<br/>loudspeaker is decent. has a c type to 3.5mm adapter in the box.<br/>value for money. Go for it!</span>\n",
       " </span>,\n",
       " <span class=\"a-size-base review-text review-text-content\" data-hook=\"review-body\"><span class=\"\">Only one side of speakers is working. Right side is not working</span>\n",
       " </span>,\n",
       " <span class=\"a-size-base review-text review-text-content\" data-hook=\"review-body\"><span class=\"\">Phone is simply superb in all aspects...low light performance of the camera is outstanding...you simply cannot go wrong with this phone</span>\n",
       " </span>,\n",
       " <span class=\"a-size-base review-text review-text-content\" data-hook=\"review-body\"><span class=\"\">Two days back I received 6T and had many problems with the mobile<br/>The mobile is getting heated when it's on camera mode or doing nothing., and while using mobile it's getting struck.. I don't think I got an original set, I'm sure it's a duplicate set.<br/>Please for god sake please exchange my mobile with a new one</span>\n",
       " </span>]"
      ]
     },
     "execution_count": 15,
     "metadata": {},
     "output_type": "execute_result"
    }
   ],
   "source": [
    "review_texts"
   ]
  },
  {
   "cell_type": "code",
   "execution_count": 16,
   "metadata": {},
   "outputs": [],
   "source": [
    "text = []\n",
    "for review_text in review_texts:\n",
    "    text.append( review_text.text )\n",
    "text = pd.Series(text,name=\"ReviewText\")"
   ]
  },
  {
   "cell_type": "code",
   "execution_count": 15,
   "metadata": {},
   "outputs": [
    {
     "data": {
      "text/plain": [
       "0    I got this phone on Friday evening.Pros:Great ...\n",
       "1    Camera quality is not upto the mark. I visited...\n",
       "2    1. The Battery lasts max of 6 hours.2. Major a...\n",
       "3    I charged the phone completely out of the box ...\n",
       "4    One plus 6 was costing 28k during the big bill...\n",
       "5    OnePlus 6T turned out to be an utter disappoin...\n",
       "6    Good build.amazing battery life. ( Minimum 3 d...\n",
       "7    Only one side of speakers is working. Right si...\n",
       "8    Phone is simply superb in all aspects...low li...\n",
       "9    Two days back I received 6T and had many probl...\n",
       "Name: ReviewText, dtype: object"
      ]
     },
     "execution_count": 15,
     "metadata": {},
     "output_type": "execute_result"
    }
   ],
   "source": [
    "text"
   ]
  },
  {
   "cell_type": "code",
   "execution_count": 17,
   "metadata": {},
   "outputs": [],
   "source": [
    "import re\n",
    "r_texts = list( map( lambda x: re.sub(\"[^a-zA-Z]\", \" \", x.text ), review_texts ) )"
   ]
  },
  {
   "cell_type": "code",
   "execution_count": 18,
   "metadata": {},
   "outputs": [],
   "source": [
    "r_titles = list( map( lambda x: re.sub(\"[^a-zA-Z]\", \" \", x.text ), review_titles ) )"
   ]
  },
  {
   "cell_type": "code",
   "execution_count": 19,
   "metadata": {},
   "outputs": [],
   "source": [
    "import pandas as pd\n",
    "review_df = pd.DataFrame( { \"title\": r_titles, \"text\": r_texts } )"
   ]
  },
  {
   "cell_type": "code",
   "execution_count": 20,
   "metadata": {},
   "outputs": [
    {
     "data": {
      "text/html": [
       "<div>\n",
       "<style scoped>\n",
       "    .dataframe tbody tr th:only-of-type {\n",
       "        vertical-align: middle;\n",
       "    }\n",
       "\n",
       "    .dataframe tbody tr th {\n",
       "        vertical-align: top;\n",
       "    }\n",
       "\n",
       "    .dataframe thead th {\n",
       "        text-align: right;\n",
       "    }\n",
       "</style>\n",
       "<table border=\"1\" class=\"dataframe\">\n",
       "  <thead>\n",
       "    <tr style=\"text-align: right;\">\n",
       "      <th></th>\n",
       "      <th>title</th>\n",
       "      <th>text</th>\n",
       "    </tr>\n",
       "  </thead>\n",
       "  <tbody>\n",
       "    <tr>\n",
       "      <th>0</th>\n",
       "      <td>Flagship Killer</td>\n",
       "      <td>I got this phone on Friday evening Pros Great ...</td>\n",
       "    </tr>\n",
       "    <tr>\n",
       "      <th>1</th>\n",
       "      <td>Camera quality is very poor</td>\n",
       "      <td>Camera quality is not upto the mark  I visited...</td>\n",
       "    </tr>\n",
       "    <tr>\n",
       "      <th>2</th>\n",
       "      <td>Worst phone</td>\n",
       "      <td>The Battery lasts max of   hours    Major a...</td>\n",
       "    </tr>\n",
       "    <tr>\n",
       "      <th>3</th>\n",
       "      <td>Dead on arrival</td>\n",
       "      <td>I charged the phone completely out of the box ...</td>\n",
       "    </tr>\n",
       "    <tr>\n",
       "      <th>4</th>\n",
       "      <td>Not worth to buy  T</td>\n",
       "      <td>One plus   was costing   k during the big bill...</td>\n",
       "    </tr>\n",
       "    <tr>\n",
       "      <th>5</th>\n",
       "      <td>Battery problem and disappointing customer sup...</td>\n",
       "      <td>OnePlus  T turned out to be an utter disappoin...</td>\n",
       "    </tr>\n",
       "    <tr>\n",
       "      <th>6</th>\n",
       "      <td>Beautiful phone</td>\n",
       "      <td>Good build amazing battery life    Minimum   d...</td>\n",
       "    </tr>\n",
       "    <tr>\n",
       "      <th>7</th>\n",
       "      <td>Only one side of speakers is working</td>\n",
       "      <td>Only one side of speakers is working  Right si...</td>\n",
       "    </tr>\n",
       "    <tr>\n",
       "      <th>8</th>\n",
       "      <td>Awesome value for the money</td>\n",
       "      <td>Phone is simply superb in all aspects   low li...</td>\n",
       "    </tr>\n",
       "    <tr>\n",
       "      <th>9</th>\n",
       "      <td>NO WAY GOING TO BE A CUSTOMER OF A COMPANY  On...</td>\n",
       "      <td>Two days back I received  T and had many probl...</td>\n",
       "    </tr>\n",
       "  </tbody>\n",
       "</table>\n",
       "</div>"
      ],
      "text/plain": [
       "                                               title  \\\n",
       "0                                   Flagship Killer    \n",
       "1                      Camera quality is very poor     \n",
       "2                                       Worst phone    \n",
       "3                                   Dead on arrival    \n",
       "4                               Not worth to buy  T    \n",
       "5  Battery problem and disappointing customer sup...   \n",
       "6                                   Beautiful phone    \n",
       "7              Only one side of speakers is working    \n",
       "8                       Awesome value for the money    \n",
       "9  NO WAY GOING TO BE A CUSTOMER OF A COMPANY  On...   \n",
       "\n",
       "                                                text  \n",
       "0  I got this phone on Friday evening Pros Great ...  \n",
       "1  Camera quality is not upto the mark  I visited...  \n",
       "2     The Battery lasts max of   hours    Major a...  \n",
       "3  I charged the phone completely out of the box ...  \n",
       "4  One plus   was costing   k during the big bill...  \n",
       "5  OnePlus  T turned out to be an utter disappoin...  \n",
       "6  Good build amazing battery life    Minimum   d...  \n",
       "7  Only one side of speakers is working  Right si...  \n",
       "8  Phone is simply superb in all aspects   low li...  \n",
       "9  Two days back I received  T and had many probl...  "
      ]
     },
     "execution_count": 20,
     "metadata": {},
     "output_type": "execute_result"
    }
   ],
   "source": [
    "review_df # this is a corpus"
   ]
  },
  {
   "cell_type": "code",
   "execution_count": 21,
   "metadata": {},
   "outputs": [
    {
     "data": {
      "text/plain": [
       "'Camera quality is not upto the mark  I visited one plus store and the store representative checked my phone and compared the camera quality with his demo phone  He noticed a significant difference between the two I request Amazon to replace my phone with a new one as it is evident that this phone has some problems  '"
      ]
     },
     "execution_count": 21,
     "metadata": {},
     "output_type": "execute_result"
    }
   ],
   "source": [
    "review_df.text[1]"
   ]
  },
  {
   "cell_type": "code",
   "execution_count": 23,
   "metadata": {},
   "outputs": [],
   "source": [
    "#<span class=\"a-profile-name\">Tanmay Shukla</span>\n",
    "\n",
    "profile_names = soup.findAll('span', {'class': 'a-profile-name'})\n",
    "names = []\n",
    "for name in profile_names:\n",
    "    names.append(name.text)\n",
    "names = pd.Series(names,name = \"CustName\")"
   ]
  },
  {
   "cell_type": "code",
   "execution_count": 24,
   "metadata": {},
   "outputs": [
    {
     "data": {
      "text/html": [
       "<div>\n",
       "<style scoped>\n",
       "    .dataframe tbody tr th:only-of-type {\n",
       "        vertical-align: middle;\n",
       "    }\n",
       "\n",
       "    .dataframe tbody tr th {\n",
       "        vertical-align: top;\n",
       "    }\n",
       "\n",
       "    .dataframe thead th {\n",
       "        text-align: right;\n",
       "    }\n",
       "</style>\n",
       "<table border=\"1\" class=\"dataframe\">\n",
       "  <thead>\n",
       "    <tr style=\"text-align: right;\">\n",
       "      <th></th>\n",
       "      <th>CustName</th>\n",
       "      <th>ReviewTitle</th>\n",
       "      <th>ReviewText</th>\n",
       "    </tr>\n",
       "  </thead>\n",
       "  <tbody>\n",
       "    <tr>\n",
       "      <th>0</th>\n",
       "      <td>Tanmay Shukla</td>\n",
       "      <td>Flagship Killer\\n</td>\n",
       "      <td>I got this phone on Friday evening.Pros:Great ...</td>\n",
       "    </tr>\n",
       "    <tr>\n",
       "      <th>1</th>\n",
       "      <td>Surbhi Garg</td>\n",
       "      <td>Camera quality is very poor.\\n</td>\n",
       "      <td>Camera quality is not upto the mark. I visited...</td>\n",
       "    </tr>\n",
       "    <tr>\n",
       "      <th>2</th>\n",
       "      <td>Tanmay Shukla</td>\n",
       "      <td>Worst phone\\n</td>\n",
       "      <td>1. The Battery lasts max of 6 hours.2. Major a...</td>\n",
       "    </tr>\n",
       "    <tr>\n",
       "      <th>3</th>\n",
       "      <td>Surbhi Garg</td>\n",
       "      <td>Dead on arrival\\n</td>\n",
       "      <td>I charged the phone completely out of the box ...</td>\n",
       "    </tr>\n",
       "    <tr>\n",
       "      <th>4</th>\n",
       "      <td>Saroj N.</td>\n",
       "      <td>Not worth to buy 6T\\n</td>\n",
       "      <td>One plus 6 was costing 28k during the big bill...</td>\n",
       "    </tr>\n",
       "    <tr>\n",
       "      <th>5</th>\n",
       "      <td>klknow</td>\n",
       "      <td>Battery problem and disappointing customer sup...</td>\n",
       "      <td>OnePlus 6T turned out to be an utter disappoin...</td>\n",
       "    </tr>\n",
       "    <tr>\n",
       "      <th>6</th>\n",
       "      <td>abdulkadir garari</td>\n",
       "      <td>Beautiful phone\\n</td>\n",
       "      <td>Good build.amazing battery life. ( Minimum 3 d...</td>\n",
       "    </tr>\n",
       "    <tr>\n",
       "      <th>7</th>\n",
       "      <td>Mani</td>\n",
       "      <td>Only one side of speakers is working\\n</td>\n",
       "      <td>Only one side of speakers is working. Right si...</td>\n",
       "    </tr>\n",
       "    <tr>\n",
       "      <th>8</th>\n",
       "      <td>Anshu K.</td>\n",
       "      <td>Awesome value for the money\\n</td>\n",
       "      <td>Phone is simply superb in all aspects...low li...</td>\n",
       "    </tr>\n",
       "    <tr>\n",
       "      <th>9</th>\n",
       "      <td>Sneha</td>\n",
       "      <td>NO WAY GOING TO BE A CUSTOMER OF A COMPANY (On...</td>\n",
       "      <td>Two days back I received 6T and had many probl...</td>\n",
       "    </tr>\n",
       "    <tr>\n",
       "      <th>10</th>\n",
       "      <td>nagaraj s.</td>\n",
       "      <td>NaN</td>\n",
       "      <td>NaN</td>\n",
       "    </tr>\n",
       "    <tr>\n",
       "      <th>11</th>\n",
       "      <td>Regidi Mahesh Dora</td>\n",
       "      <td>NaN</td>\n",
       "      <td>NaN</td>\n",
       "    </tr>\n",
       "  </tbody>\n",
       "</table>\n",
       "</div>"
      ],
      "text/plain": [
       "              CustName                                        ReviewTitle  \\\n",
       "0        Tanmay Shukla                                  Flagship Killer\\n   \n",
       "1          Surbhi Garg                     Camera quality is very poor.\\n   \n",
       "2        Tanmay Shukla                                      Worst phone\\n   \n",
       "3          Surbhi Garg                                  Dead on arrival\\n   \n",
       "4             Saroj N.                              Not worth to buy 6T\\n   \n",
       "5               klknow  Battery problem and disappointing customer sup...   \n",
       "6    abdulkadir garari                                  Beautiful phone\\n   \n",
       "7                 Mani             Only one side of speakers is working\\n   \n",
       "8             Anshu K.                      Awesome value for the money\\n   \n",
       "9                Sneha  NO WAY GOING TO BE A CUSTOMER OF A COMPANY (On...   \n",
       "10          nagaraj s.                                                NaN   \n",
       "11  Regidi Mahesh Dora                                                NaN   \n",
       "\n",
       "                                           ReviewText  \n",
       "0   I got this phone on Friday evening.Pros:Great ...  \n",
       "1   Camera quality is not upto the mark. I visited...  \n",
       "2   1. The Battery lasts max of 6 hours.2. Major a...  \n",
       "3   I charged the phone completely out of the box ...  \n",
       "4   One plus 6 was costing 28k during the big bill...  \n",
       "5   OnePlus 6T turned out to be an utter disappoin...  \n",
       "6   Good build.amazing battery life. ( Minimum 3 d...  \n",
       "7   Only one side of speakers is working. Right si...  \n",
       "8   Phone is simply superb in all aspects...low li...  \n",
       "9   Two days back I received 6T and had many probl...  \n",
       "10                                                NaN  \n",
       "11                                                NaN  "
      ]
     },
     "execution_count": 24,
     "metadata": {},
     "output_type": "execute_result"
    }
   ],
   "source": [
    "pd.concat([names,titles,text],axis=1)"
   ]
  },
  {
   "cell_type": "code",
   "execution_count": null,
   "metadata": {},
   "outputs": [],
   "source": []
  }
 ],
 "metadata": {
  "kernelspec": {
   "display_name": "Python 3",
   "language": "python",
   "name": "python3"
  },
  "language_info": {
   "codemirror_mode": {
    "name": "ipython",
    "version": 3
   },
   "file_extension": ".py",
   "mimetype": "text/x-python",
   "name": "python",
   "nbconvert_exporter": "python",
   "pygments_lexer": "ipython3",
   "version": "3.6.5"
  }
 },
 "nbformat": 4,
 "nbformat_minor": 1
}
