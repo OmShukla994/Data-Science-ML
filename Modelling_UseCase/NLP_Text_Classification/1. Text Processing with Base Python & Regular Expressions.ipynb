{
 "cells": [
  {
   "cell_type": "markdown",
   "metadata": {},
   "source": [
    "### Basic Text Processing in Python"
   ]
  },
  {
   "cell_type": "markdown",
   "metadata": {},
   "source": [
    "#### Important Packages Related to Textmining\n",
    "- textmining1.0: contains a variety of useful functions for text mining in Python.\n",
    "- NLTK: This package can be extremely useful because you have easy access to over 50 corpora and lexical resources\n",
    "- Tweepy: to mine Twitter data\n",
    "- scrappy:  extract the data you need from websites\n",
    "- urllib2: a package for opening URLs\n",
    "- requests: library for grabbing data from the internet\n",
    "- Beautifulsoup: library for parsing HTML data\n",
    "- re:  grep(), grepl(), regexpr(), gregexpr(), sub(), gsub(), and strsplit() are helpful functions\n",
    "- wordcloud: to visualize the wordcloud"
   ]
  },
  {
   "cell_type": "code",
   "execution_count": 1,
   "metadata": {},
   "outputs": [
    {
     "name": "stdout",
     "output_type": "stream",
     "text": [
      "11\n",
      "3\n",
      "6\n",
      "6\n"
     ]
    }
   ],
   "source": [
    "word = \"Hello World\"\n",
    "print(len(word))\n",
    "print(word.count('l'))\n",
    "print(word.find(\"W\"))\n",
    "print(word.index(\"World\"))"
   ]
  },
  {
   "cell_type": "code",
   "execution_count": 2,
   "metadata": {},
   "outputs": [],
   "source": [
    "#word."
   ]
  },
  {
   "cell_type": "code",
   "execution_count": 2,
   "metadata": {},
   "outputs": [
    {
     "name": "stdout",
     "output_type": "stream",
     "text": [
      "4\n"
     ]
    }
   ],
   "source": [
    "s =  \"Count, the number of spaces\"\n",
    "print(s.count(' '))"
   ]
  },
  {
   "cell_type": "code",
   "execution_count": 3,
   "metadata": {},
   "outputs": [
    {
     "data": {
      "text/plain": [
       "False"
      ]
     },
     "execution_count": 3,
     "metadata": {},
     "output_type": "execute_result"
    }
   ],
   "source": [
    "# strings are defined in three ways\n",
    "\n",
    "# double and single quotes don't matter\n",
    "string1 = \"hello world\"\n",
    "string2 = 'Hello world'\n",
    "string1 == string2"
   ]
  },
  {
   "cell_type": "code",
   "execution_count": 3,
   "metadata": {},
   "outputs": [
    {
     "data": {
      "text/plain": [
       "True"
      ]
     },
     "execution_count": 3,
     "metadata": {},
     "output_type": "execute_result"
    }
   ],
   "source": [
    "# multi-line strings can be made using triple quotes (using either double or single quotes)\n",
    "multiLineStr1 = \"\"\"Whoa\n",
    "this string is\n",
    "looooooooooooooooooong\"\"\"\n",
    "\n",
    "multiLineStr2 = '''Whoa\n",
    "this string is\n",
    "looooooooooooooooooong'''\n",
    "\n",
    "multiLineStr1 == multiLineStr2"
   ]
  },
  {
   "cell_type": "code",
   "execution_count": 4,
   "metadata": {},
   "outputs": [
    {
     "name": "stdout",
     "output_type": "stream",
     "text": [
      "Whoa\n",
      "this string is\n",
      "looooooooooooooooooong\n"
     ]
    }
   ],
   "source": [
    "# if you print it, newlines will manifest:\n",
    "print(multiLineStr1)"
   ]
  },
  {
   "cell_type": "code",
   "execution_count": 5,
   "metadata": {},
   "outputs": [
    {
     "data": {
      "text/plain": [
       "'Whoa\\nthis string is\\nlooooooooooooooooooong'"
      ]
     },
     "execution_count": 5,
     "metadata": {},
     "output_type": "execute_result"
    }
   ],
   "source": [
    "# if you simply display its value, the newlines are shown\n",
    "multiLineStr1"
   ]
  },
  {
   "cell_type": "code",
   "execution_count": 6,
   "metadata": {},
   "outputs": [
    {
     "name": "stdout",
     "output_type": "stream",
     "text": [
      "implicit concatenation\n",
      "using a plus sign\n",
      "or using fancy formatting 100.123\n"
     ]
    }
   ],
   "source": [
    "#Concatenation: To concatenate strings in Python use the \"+\" operator.\n",
    "\n",
    "# strings can be concatenated in several ways:\n",
    "str1 = \"implicit \" \"concatenation\"\n",
    "str2 = \"using \" + \"a \" + \"plus \" + \"sign\"\n",
    "\n",
    "# this way is fastest and provides additional ways to format e.g. numbers\n",
    "str3 = \"or {} {} {} {:2.3f}\".format(\"using\", \"fancy\", \"formatting\", 100.123456)\n",
    "print(str1)\n",
    "print(str2)\n",
    "print(str3)"
   ]
  },
  {
   "cell_type": "code",
   "execution_count": 7,
   "metadata": {},
   "outputs": [
    {
     "name": "stdout",
     "output_type": "stream",
     "text": [
      "H+e+l+l+o+ +W+o+r+l+d\n",
      "Hello World\n"
     ]
    }
   ],
   "source": [
    "#Join\n",
    "word=\"Hello World\"\n",
    "print(\"+\".join(word))  # #add a : between every char\n",
    "print(\"\".join(word))  # add a whitespace between every char\n"
   ]
  },
  {
   "cell_type": "code",
   "execution_count": 8,
   "metadata": {},
   "outputs": [
    {
     "data": {
      "text/plain": [
       "'Hello WorldHello World'"
      ]
     },
     "execution_count": 8,
     "metadata": {},
     "output_type": "execute_result"
    }
   ],
   "source": [
    "word*2"
   ]
  },
  {
   "cell_type": "code",
   "execution_count": 9,
   "metadata": {},
   "outputs": [
    {
     "data": {
      "text/plain": [
       "True"
      ]
     },
     "execution_count": 9,
     "metadata": {},
     "output_type": "execute_result"
    }
   ],
   "source": [
    "'W' in word"
   ]
  },
  {
   "cell_type": "code",
   "execution_count": 10,
   "metadata": {},
   "outputs": [
    {
     "data": {
      "text/plain": [
       "True"
      ]
     },
     "execution_count": 10,
     "metadata": {},
     "output_type": "execute_result"
    }
   ],
   "source": [
    "'h' not in word"
   ]
  },
  {
   "cell_type": "code",
   "execution_count": 11,
   "metadata": {},
   "outputs": [
    {
     "name": "stdout",
     "output_type": "stream",
     "text": [
      "Updated String :-  Hello Python\n"
     ]
    }
   ],
   "source": [
    "#Updating String\n",
    "var1 = 'Hello World!'\n",
    "\n",
    "print(\"Updated String :- \", var1[:6] + 'Python')"
   ]
  },
  {
   "cell_type": "code",
   "execution_count": 12,
   "metadata": {},
   "outputs": [
    {
     "name": "stdout",
     "output_type": "stream",
     "text": [
      "False\n",
      "False\n",
      "False\n",
      "True\n",
      "False\n",
      "False\n",
      "False\n",
      "True\n",
      "True\n"
     ]
    }
   ],
   "source": [
    "#Testing: A string in Python can be tested for truth value. The return type will be in Boolean value (True or False)\n",
    "word = \"Hello World\"\n",
    " \n",
    "print(word.isalnum())         #check if all char are alphanumeric \n",
    "print(word.isalpha())         #check if all char in the string are alphabetic, space is counted as non-alph i.e here False \n",
    "print(word.isdigit())         #test if string contains digits\n",
    "print(word.istitle())         #test if string contains title words, when every word begin with upper case\n",
    "print(word.isupper())         #test if string contains upper case\n",
    "print(word.islower())         #test if string contains lower case\n",
    "print(word.isspace() )        #test if string contains spaces\n",
    "print(word.endswith('d'))     #test if string endswith a d\n",
    "print(word.startswith('H'))   #test if string startswith H"
   ]
  },
  {
   "cell_type": "code",
   "execution_count": 13,
   "metadata": {},
   "outputs": [
    {
     "name": "stdout",
     "output_type": "stream",
     "text": [
      "Object `isalpha()` not found.\n"
     ]
    }
   ],
   "source": [
    "?isalpha()"
   ]
  },
  {
   "cell_type": "code",
   "execution_count": 14,
   "metadata": {},
   "outputs": [
    {
     "ename": "TypeError",
     "evalue": "'str' object does not support item assignment",
     "output_type": "error",
     "traceback": [
      "\u001b[1;31m---------------------------------------------------------------------------\u001b[0m",
      "\u001b[1;31mTypeError\u001b[0m                                 Traceback (most recent call last)",
      "\u001b[1;32m<ipython-input-14-a0b43268c2ea>\u001b[0m in \u001b[0;36m<module>\u001b[1;34m\u001b[0m\n\u001b[0;32m      2\u001b[0m \u001b[0mstr1\u001b[0m \u001b[1;33m=\u001b[0m \u001b[1;34m\"immutable\"\u001b[0m\u001b[1;33m\u001b[0m\u001b[1;33m\u001b[0m\u001b[0m\n\u001b[0;32m      3\u001b[0m \u001b[1;31m# This will give TypeError: 'str' object does not support item assignment\u001b[0m\u001b[1;33m\u001b[0m\u001b[1;33m\u001b[0m\u001b[1;33m\u001b[0m\u001b[0m\n\u001b[1;32m----> 4\u001b[1;33m \u001b[0mstr1\u001b[0m\u001b[1;33m[\u001b[0m\u001b[1;36m0\u001b[0m\u001b[1;33m]\u001b[0m \u001b[1;33m=\u001b[0m \u001b[1;34m\"I\"\u001b[0m\u001b[1;33m\u001b[0m\u001b[1;33m\u001b[0m\u001b[0m\n\u001b[0m",
      "\u001b[1;31mTypeError\u001b[0m: 'str' object does not support item assignment"
     ]
    }
   ],
   "source": [
    "# strings are immutable\n",
    "str1 = \"immutable\"\n",
    "# This will give TypeError: 'str' object does not support item assignment\n",
    "str1[0] = \"I\""
   ]
  },
  {
   "cell_type": "code",
   "execution_count": 15,
   "metadata": {},
   "outputs": [
    {
     "name": "stdout",
     "output_type": "stream",
     "text": [
      "Immutable\n",
      "Immutable\n"
     ]
    }
   ],
   "source": [
    "# to modify a string, you have to make a new string\n",
    "str2 = \"I{}\".format(str1[1:])\n",
    "print(str2)\n",
    "\n",
    "# of course since this is Python there is a better way to capitalize strings:\n",
    "str2 = str1.title()\n",
    "print(str2)"
   ]
  },
  {
   "cell_type": "code",
   "execution_count": 16,
   "metadata": {},
   "outputs": [
    {
     "name": "stdout",
     "output_type": "stream",
     "text": [
      "mmutable\n",
      "True\n",
      "i\n",
      "e\n",
      "tabl\n"
     ]
    }
   ],
   "source": [
    "# Q: whoa, what the heck did you just do up there?\n",
    "# A: String slicing!!\n",
    "\n",
    "# slices work like so [startIndex : endIndex : step]\n",
    "# leaving out values gives the default value of startIndex = 0, endIndex = the end, step = 1\n",
    "print(str1[1:])\n",
    "print(str1[1:] == str1[1:len(\"immutable\"):1])\n",
    "\n",
    "# beginning of string\n",
    "print(str1[0])\n",
    "\n",
    "# negative values gives end of string\n",
    "print(str1[-1])\n",
    "\n",
    "# the start index is INCLUSIVE but the end index is EXCLUSIVE\n",
    "print(str1[4:8])\n",
    "\n"
   ]
  },
  {
   "cell_type": "code",
   "execution_count": 17,
   "metadata": {},
   "outputs": [
    {
     "name": "stdout",
     "output_type": "stream",
     "text": [
      "H\n",
      "H\n",
      "Hel\n",
      "Hel\n",
      "rld\n",
      "lo World\n",
      "Hello Wo\n"
     ]
    }
   ],
   "source": [
    "word = \"Hello World\"\n",
    "\n",
    "print(word[0] )         #get one char of the word\n",
    "print(word[0:1])        #get one char of the word (same as above)\n",
    "print(word[0:3])        #get the first three char\n",
    "print(word[:3] )        #get the first three char\n",
    "print(word[-3:])        #get the last three char\n",
    "print(word[3:] )        #get all but the three first char\n",
    "print(word[:-3] )       #get all but the three last character"
   ]
  },
  {
   "cell_type": "code",
   "execution_count": 18,
   "metadata": {},
   "outputs": [
    {
     "data": {
      "text/plain": [
       "['Hello', 'World']"
      ]
     },
     "execution_count": 18,
     "metadata": {},
     "output_type": "execute_result"
    }
   ],
   "source": [
    "#Split Strings\n",
    "word.split(' ')  # Split on whitespace"
   ]
  },
  {
   "cell_type": "code",
   "execution_count": 19,
   "metadata": {},
   "outputs": [],
   "source": [
    "# Lowercase, remove !, tokenize\n",
    "\n",
    "string=\"This is a Analytixlabs and it is based out of Bangalore and gurgaon!!!\"\n",
    "newstring=string.lower().replace(\"!\",\"\").split()"
   ]
  },
  {
   "cell_type": "code",
   "execution_count": 20,
   "metadata": {},
   "outputs": [
    {
     "name": "stdout",
     "output_type": "stream",
     "text": [
      "This is a Analytixlabs and it is based out of Bangalore and gurgaon!!!\n",
      "['this', 'is', 'a', 'analytixlabs', 'and', 'it', 'is', 'based', 'out', 'of', 'bangalore', 'and', 'gurgaon']\n"
     ]
    }
   ],
   "source": [
    "print(string)\n",
    "print(newstring)"
   ]
  },
  {
   "cell_type": "code",
   "execution_count": 21,
   "metadata": {},
   "outputs": [
    {
     "name": "stdout",
     "output_type": "stream",
     "text": [
      "False\n",
      "True\n",
      "False\n"
     ]
    }
   ],
   "source": [
    "#Startswith / Endswith\n",
    "word = \"hello world\"\n",
    "print(word.startswith(\"H\"))\n",
    "print(word.endswith(\"d\"))\n",
    "print(word.endswith(\"w\"))"
   ]
  },
  {
   "cell_type": "code",
   "execution_count": 22,
   "metadata": {},
   "outputs": [
    {
     "name": "stdout",
     "output_type": "stream",
     "text": [
      "Analytixlabs Analytixlabs Analytixlabs Analytixlabs Analytixlabs Analytixlabs Analytixlabs Analytixlabs Analytixlabs Analytixlabs \n"
     ]
    }
   ],
   "source": [
    "#Repeat Strings\n",
    "print(\"Analytixlabs \"* 10 )  # prints ten dots"
   ]
  },
  {
   "cell_type": "code",
   "execution_count": 23,
   "metadata": {},
   "outputs": [
    {
     "data": {
      "text/plain": [
       "'Goodbye World'"
      ]
     },
     "execution_count": 23,
     "metadata": {},
     "output_type": "execute_result"
    }
   ],
   "source": [
    "#Replacing\n",
    "word = \"Hello World\"\n",
    "word.replace(\"Hello\", \"Goodbye\")"
   ]
  },
  {
   "cell_type": "code",
   "execution_count": 1,
   "metadata": {},
   "outputs": [
    {
     "name": "stdout",
     "output_type": "stream",
     "text": [
      "HELLO WORLD\n",
      "hello world\n",
      "Hello World\n",
      "Hello world\n",
      "hELLO wORLD\n"
     ]
    }
   ],
   "source": [
    "#Changing Upper and Lower Case Strings\n",
    "string = \"Hello World\"\n",
    "print(string.upper())\n",
    "print(string.lower())\n",
    "print(string.title())\n",
    "print(string.capitalize()) #1st sentence of word is capital\n",
    "print(string.swapcase()) #capital become small. vice versa"
   ]
  },
  {
   "cell_type": "code",
   "execution_count": 29,
   "metadata": {},
   "outputs": [
    {
     "name": "stdout",
     "output_type": "stream",
     "text": [
      "hELLO wORLD\n",
      "d l r o W   o l l e H\n",
      "d+ l+ r+ o+ W+  + o+ l+ l+ e+ H\n"
     ]
    }
   ],
   "source": [
    "#Reversing\n",
    "print(string.swapcase())\n",
    "print(' '.join(reversed(string)))\n",
    "print('+ '.join(reversed(string)))"
   ]
  },
  {
   "cell_type": "code",
   "execution_count": 31,
   "metadata": {},
   "outputs": [
    {
     "name": "stdout",
     "output_type": "stream",
     "text": [
      "Hello World\n"
     ]
    }
   ],
   "source": [
    "#Strip: Python strings have the strip(), lstrip(), rstrip() methods for removing any character from both ends of a string. \n",
    "    # If the characters to be removed are not specified then white-space will be removed\n",
    "\n",
    "word = \"Hello World \"\n",
    "print(word.strip())"
   ]
  },
  {
   "cell_type": "code",
   "execution_count": 32,
   "metadata": {},
   "outputs": [
    {
     "name": "stdout",
     "output_type": "stream",
     "text": [
      "    xyz    \n",
      "xyz\n",
      "xyz    \n",
      "    xyz\n"
     ]
    }
   ],
   "source": [
    "word = \"    xyz    \"\n",
    "print(word)\n",
    "print(word.strip())\n",
    "print(word.lstrip())\n",
    "print(word.rstrip())"
   ]
  },
  {
   "cell_type": "markdown",
   "metadata": {},
   "source": [
    "### regular expressions"
   ]
  },
  {
   "cell_type": "code",
   "execution_count": 34,
   "metadata": {},
   "outputs": [],
   "source": [
    "import re\n",
    "\n",
    "#search\n",
    "#find\n",
    "#findall\n",
    "#substitution"
   ]
  },
  {
   "cell_type": "code",
   "execution_count": 43,
   "metadata": {},
   "outputs": [
    {
     "name": "stdout",
     "output_type": "stream",
     "text": [
      "<re.Match object; span=(0, 6), match='python'>\n",
      "<re.Match object; span=(11, 12), match='3'>\n",
      "<re.Match object; span=(0, 1), match='p'>\n",
      "<re.Match object; span=(7, 8), match='D'>\n",
      "<re.Match object; span=(0, 1), match='p'>\n",
      "<re.Match object; span=(11, 12), match='3'>\n",
      "<re.Match object; span=(0, 1), match='p'>\n",
      "<re.Match object; span=(6, 7), match=' '>\n"
     ]
    }
   ],
   "source": [
    "# Check if 'python' is present in \n",
    "t1 = 'python Day 3 topics'\n",
    "\n",
    "print(re.search('python', t1)) #looking for python\n",
    "print(re.search('[0-9]', t1)) # looking for value from 0-9\n",
    "print(re.search('[a-z]', t1)) # looking for char in lower case \n",
    "print(re.search('[A-Z]', t1)) # looking for char in upper case\n",
    "print(re.search('[a-zA-Z]', t1)) # looking for char\n",
    "\n",
    "print(re.search('[\\d]', t1)) #looking for single digit.\n",
    "print(re.search('[\\w]', t1)) #looking for single char\n",
    "print(re.search('[\\s]', t1)) #looking for wide space\n",
    "\n",
    "#t1.find('python')"
   ]
  },
  {
   "cell_type": "code",
   "execution_count": 44,
   "metadata": {},
   "outputs": [
    {
     "data": {
      "text/plain": [
       "<re.Match object; span=(2, 6), match='thon'>"
      ]
     },
     "execution_count": 44,
     "metadata": {},
     "output_type": "execute_result"
    }
   ],
   "source": [
    "# Word having t and n and their should be exactally two chars between them    .\n",
    "s1 = 'python day 3 topics'\n",
    "re.search('t..n', s1)"
   ]
  },
  {
   "cell_type": "code",
   "execution_count": 45,
   "metadata": {},
   "outputs": [],
   "source": [
    "# do we have any number in the complete string \\d   [0-9]\n",
    "s1 = 'python day 1 topics'\n",
    "re.search('[5-8]', s1) # here we have 1, bt we want matching between 5-8"
   ]
  },
  {
   "cell_type": "code",
   "execution_count": 46,
   "metadata": {},
   "outputs": [
    {
     "data": {
      "text/plain": [
       "<re.Match object; span=(8, 9), match='3'>"
      ]
     },
     "execution_count": 46,
     "metadata": {},
     "output_type": "execute_result"
    }
   ],
   "source": [
    "# Search for the number between 3 and 6 within EMP10002340 []\n",
    "re.search('[3-6]', 'EMP10002340')"
   ]
  },
  {
   "cell_type": "code",
   "execution_count": 49,
   "metadata": {},
   "outputs": [
    {
     "name": "stdout",
     "output_type": "stream",
     "text": [
      "<re.Match object; span=(0, 1), match='A'>\n",
      "<re.Match object; span=(2, 3), match='d'>\n"
     ]
    }
   ],
   "source": [
    "# Check if name starts with M or J  ^ | []\n",
    "name = 'Andrew Methew'\n",
    "\n",
    "print(re.search('^[an]', name, re.I)) # ^ mean not. 'an' ke pahle kuch bhi na ho.   \n",
    "print(re.search('[^an]', name, re.I)) #  we want to find anything apart from 'an'."
   ]
  },
  {
   "cell_type": "code",
   "execution_count": 53,
   "metadata": {},
   "outputs": [
    {
     "data": {
      "text/plain": [
       "<re.Match object; span=(12, 13), match='w'>"
      ]
     },
     "execution_count": 53,
     "metadata": {},
     "output_type": "execute_result"
    }
   ],
   "source": [
    "# Check if name ends with w $\n",
    "name = 'Andrew Methew'\n",
    "re.search('w$', name, re.I)  # find 'w' when nothing after 'w'"
   ]
  },
  {
   "cell_type": "code",
   "execution_count": 54,
   "metadata": {},
   "outputs": [],
   "source": [
    "name = 'Andrew Methep'\n",
    "re.search('w$', name, re.I) # yaha per o/p kuch nhi ayega becoz 'w' ke baad bhi kuch hai."
   ]
  },
  {
   "cell_type": "code",
   "execution_count": 55,
   "metadata": {},
   "outputs": [
    {
     "data": {
      "text/plain": [
       "<re.Match object; span=(4, 5), match=' '>"
      ]
     },
     "execution_count": 55,
     "metadata": {},
     "output_type": "execute_result"
    }
   ],
   "source": [
    "# Is there any blank space between first name and last name\n",
    "name = 'John Methew'#  \\s\n",
    "re.search('\\s', name)"
   ]
  },
  {
   "cell_type": "code",
   "execution_count": 56,
   "metadata": {},
   "outputs": [
    {
     "data": {
      "text/plain": [
       "<re.Match object; span=(0, 6), match='E10002'>"
      ]
     },
     "execution_count": 56,
     "metadata": {},
     "output_type": "execute_result"
    }
   ],
   "source": [
    "# Check if we have no number or any numbers after the alphabet E\n",
    "val = 'E10002_IT' \n",
    "re.search('E\\d*', val) # start from 'E'.\\d represent digit. '*' mean any number of digit"
   ]
  },
  {
   "cell_type": "code",
   "execution_count": 57,
   "metadata": {},
   "outputs": [
    {
     "data": {
      "text/plain": [
       "<re.Match object; span=(0, 6), match='E10002'>"
      ]
     },
     "execution_count": 57,
     "metadata": {},
     "output_type": "execute_result"
    }
   ],
   "source": [
    "# Check if number is found atleast once after alphabet E\n",
    "val = 'E10002_IT'\n",
    "re.search('E\\d+', val) # start with 'E'. then atleast one number. '+' mean atleast one"
   ]
  },
  {
   "cell_type": "code",
   "execution_count": 58,
   "metadata": {},
   "outputs": [
    {
     "data": {
      "text/plain": [
       "<re.Match object; span=(2, 4), match='P1'>"
      ]
     },
     "execution_count": 58,
     "metadata": {},
     "output_type": "execute_result"
    }
   ],
   "source": [
    "# Check if number is not found or found only once after alphabet P\n",
    "val = 'EMP10002_IT'\n",
    "re.search('P\\d?', val)"
   ]
  },
  {
   "cell_type": "code",
   "execution_count": 59,
   "metadata": {},
   "outputs": [
    {
     "data": {
      "text/plain": [
       "<re.Match object; span=(2, 6), match='P100'>"
      ]
     },
     "execution_count": 59,
     "metadata": {},
     "output_type": "execute_result"
    }
   ],
   "source": [
    "# Check if exactally number is found 3 times after alphabet P\n",
    "val = 'EMP10002_IT' # {}\n",
    "re.search('P\\d{3}', val)"
   ]
  },
  {
   "cell_type": "code",
   "execution_count": 60,
   "metadata": {},
   "outputs": [
    {
     "data": {
      "text/plain": [
       "<re.Match object; span=(0, 1), match='E'>"
      ]
     },
     "execution_count": 60,
     "metadata": {},
     "output_type": "execute_result"
    }
   ],
   "source": [
    "# check if the string is alphanumeric \\w or [a-zA-Z0-9]\n",
    "val = 'EMP10002_it'\n",
    "re.search('[a-zA-Z0-9]', val) # looking for anything. upper, lower and digit"
   ]
  },
  {
   "cell_type": "code",
   "execution_count": 61,
   "metadata": {},
   "outputs": [
    {
     "ename": "SyntaxError",
     "evalue": "invalid syntax (<ipython-input-61-5ed760aaf564>, line 2)",
     "output_type": "error",
     "traceback": [
      "\u001b[1;36m  File \u001b[1;32m\"<ipython-input-61-5ed760aaf564>\"\u001b[1;36m, line \u001b[1;32m2\u001b[0m\n\u001b[1;33m    'EMP10002_IT' ?\u001b[0m\n\u001b[1;37m                  ^\u001b[0m\n\u001b[1;31mSyntaxError\u001b[0m\u001b[1;31m:\u001b[0m invalid syntax\n"
     ]
    }
   ],
   "source": [
    "\n",
    "# Check if number is not found or found only once after alphabet P\n",
    "'EMP10002_IT' ?\n",
    "\n",
    "# Check if exactally number is found 3 times after alphabet P\n",
    "'EMP10002_IT' {}\n",
    "\n",
    "# check if the string is alphanumeric \\w or [a-zA-Z0-9]\n",
    "'EMP10002_IT'"
   ]
  },
  {
   "cell_type": "raw",
   "metadata": {},
   "source": [
    "# Write a python program to perform the following operations\n",
    "message = '''Thank you for placing an order with AnalytixLabs \n",
    "Gurgaon. Your reference number for future communication \n",
    "is al10001'''\n",
    "\n",
    "1. Find whether the confirmation message starts with \"Thank you\".\n",
    "\n",
    "2. Find the name which starts with A and has exactly 12 characters in it. [a-zA-Z]\n",
    "\n",
    "3. Search for presense of a word which starts with 'al' followed by exactly consecutive 5 digits.\n",
    "\n",
    "4. In Q3, If match is found, replace the two alphabets with the corresponding uppercase alphabets."
   ]
  },
  {
   "cell_type": "code",
   "execution_count": 62,
   "metadata": {},
   "outputs": [],
   "source": [
    "import re"
   ]
  },
  {
   "cell_type": "code",
   "execution_count": 63,
   "metadata": {},
   "outputs": [],
   "source": [
    "message = 'Thank you for placing an order with AnalytixLabs Gurgaon. Your reference number for future communication is al10001'"
   ]
  },
  {
   "cell_type": "code",
   "execution_count": 41,
   "metadata": {},
   "outputs": [
    {
     "data": {
      "text/plain": [
       "<_sre.SRE_Match object; span=(0, 9), match='Thank you'>"
      ]
     },
     "execution_count": 41,
     "metadata": {},
     "output_type": "execute_result"
    }
   ],
   "source": [
    "# 1. Find whether the confirmation message starts with \"Thank you\". Its case sensitive\n",
    "re.search('^Thank you*', message)"
   ]
  },
  {
   "cell_type": "code",
   "execution_count": 64,
   "metadata": {},
   "outputs": [
    {
     "data": {
      "text/plain": [
       "['AnalytixLabs']"
      ]
     },
     "execution_count": 64,
     "metadata": {},
     "output_type": "execute_result"
    }
   ],
   "source": [
    "# 2. Find the name which starts with A and has exactly 12 characters in it. [a-zA-Z]\n",
    "re.findall('A[a-zA-Z]{11}', message)"
   ]
  },
  {
   "cell_type": "code",
   "execution_count": 65,
   "metadata": {},
   "outputs": [
    {
     "data": {
      "text/plain": [
       "[('al', '10001')]"
      ]
     },
     "execution_count": 65,
     "metadata": {},
     "output_type": "execute_result"
    }
   ],
   "source": [
    "# Search for presense of a word which starts with 'al' followed by exactly consecutive 5 digits. \n",
    "re.findall('(al)(\\d{5})', message)\n",
    "re.find('(al)(\\d{5})', message) # doesnt work"
   ]
  },
  {
   "cell_type": "code",
   "execution_count": 68,
   "metadata": {},
   "outputs": [
    {
     "name": "stdout",
     "output_type": "stream",
     "text": [
      "Thank you for placing an order with AnalytixLabs Gurgaon. Your reference number for future communication is AL\n",
      "Thank you for placing an order with AnalytixLabs Gurgaon. Your reference number for future communication is AL10001\n"
     ]
    }
   ],
   "source": [
    "print(re.sub('(al)(\\d{5})', r'AL', message))\n",
    "print(re.sub('(al)(\\d{5})', r'AL\\2', message)) # \\2 mean doesnt replace the 2nd pattern i.e digit"
   ]
  },
  {
   "cell_type": "code",
   "execution_count": 69,
   "metadata": {},
   "outputs": [
    {
     "data": {
      "text/plain": [
       "<re.Match object; span=(0, 14), match='+91-9876543234'>"
      ]
     },
     "execution_count": 69,
     "metadata": {},
     "output_type": "execute_result"
    }
   ],
   "source": [
    "# write a program to validate for Indian mobile phone number. \n",
    "# Get the phone number as a input from user.\n",
    "num = '+91-9876543234'\n",
    "#num = '09876543234'\n",
    "#num = '9876543234'\n",
    "\n",
    "re.search('(0?|\\+91?-?)([6-9]\\d{9})', num) # ? mean only one. we give all the condition (0?|\\+91?-?). start with 6-9 & 9 digit"
   ]
  },
  {
   "cell_type": "code",
   "execution_count": 70,
   "metadata": {},
   "outputs": [
    {
     "data": {
      "text/plain": [
       "[('', '9876500000'),\n",
       " ('+91', '9809543210'),\n",
       " ('0', '6876543210'),\n",
       " ('', '9876543256')]"
      ]
     },
     "execution_count": 70,
     "metadata": {},
     "output_type": "execute_result"
    }
   ],
   "source": [
    "# get all valid indian phone numbers from the below string\n",
    "message = '''Thank you for placing an order with AnalytixLabs \n",
    "Gurgaon. Your confirmation number is 1009000001. \n",
    "For any queries kindly contact on 9876500000 or +919809543210 \n",
    "or +91-5876543210 or 06876543210 or -9876543256'''\n",
    "\n",
    "re.findall('(0?|\\+91?|\\+91-?)([6-9]\\d{9})', message)  # +91-5876543210 ye number nhi ayega becoz satrt with 5 and we have given\n",
    "                                                        # condition as 6-9"
   ]
  },
  {
   "cell_type": "code",
   "execution_count": 71,
   "metadata": {},
   "outputs": [
    {
     "data": {
      "text/plain": [
       "['9876500000 ', '9809543210 ', '5876543210 ', '06876543210 ']"
      ]
     },
     "execution_count": 71,
     "metadata": {},
     "output_type": "execute_result"
    }
   ],
   "source": [
    "re.findall('0?[5-9]\\d{9} | +91?[5-9]\\d{9} | +91-?[5-9]\\d{9} ', message)"
   ]
  },
  {
   "cell_type": "code",
   "execution_count": null,
   "metadata": {},
   "outputs": [],
   "source": []
  }
 ],
 "metadata": {
  "anaconda-cloud": {},
  "kernelspec": {
   "display_name": "Python 3 (ipykernel)",
   "language": "python",
   "name": "python3"
  },
  "language_info": {
   "codemirror_mode": {
    "name": "ipython",
    "version": 3
   },
   "file_extension": ".py",
   "mimetype": "text/x-python",
   "name": "python",
   "nbconvert_exporter": "python",
   "pygments_lexer": "ipython3",
   "version": "3.11.4"
  }
 },
 "nbformat": 4,
 "nbformat_minor": 1
}
