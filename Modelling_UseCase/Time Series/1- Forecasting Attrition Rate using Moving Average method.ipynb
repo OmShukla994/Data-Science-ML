{
 "cells": [
  {
   "cell_type": "markdown",
   "id": "94736174",
   "metadata": {},
   "source": [
    "### Case Study: Analyzing Attrition Rate at Pigo Company\n",
    "\n",
    "## Introduction:\n",
    "Pigo Company, a leading provider of technology solutions, is concerned about its attrition rate and its potential impact on business operations. The company aims to analyze historical attrition data to identify trends and patterns, and to forecast attrition rates for the upcoming years.\n",
    "\n",
    "### Objective:\n",
    "The objective of this case study is to analyze historical attrition data at Pigo Company and use it to forecast attrition rates for the years 2024-2026."
   ]
  },
  {
   "cell_type": "code",
   "execution_count": 2,
   "id": "d111d683",
   "metadata": {},
   "outputs": [
    {
     "data": {
      "text/html": [
       "<div>\n",
       "<style scoped>\n",
       "    .dataframe tbody tr th:only-of-type {\n",
       "        vertical-align: middle;\n",
       "    }\n",
       "\n",
       "    .dataframe tbody tr th {\n",
       "        vertical-align: top;\n",
       "    }\n",
       "\n",
       "    .dataframe thead th {\n",
       "        text-align: right;\n",
       "    }\n",
       "</style>\n",
       "<table border=\"1\" class=\"dataframe\">\n",
       "  <thead>\n",
       "    <tr style=\"text-align: right;\">\n",
       "      <th></th>\n",
       "      <th>Year</th>\n",
       "      <th>Attrition Rate</th>\n",
       "    </tr>\n",
       "  </thead>\n",
       "  <tbody>\n",
       "    <tr>\n",
       "      <th>0</th>\n",
       "      <td>2011</td>\n",
       "      <td>10</td>\n",
       "    </tr>\n",
       "    <tr>\n",
       "      <th>1</th>\n",
       "      <td>2012</td>\n",
       "      <td>11</td>\n",
       "    </tr>\n",
       "    <tr>\n",
       "      <th>2</th>\n",
       "      <td>2013</td>\n",
       "      <td>12</td>\n",
       "    </tr>\n",
       "    <tr>\n",
       "      <th>3</th>\n",
       "      <td>2014</td>\n",
       "      <td>13</td>\n",
       "    </tr>\n",
       "    <tr>\n",
       "      <th>4</th>\n",
       "      <td>2015</td>\n",
       "      <td>15</td>\n",
       "    </tr>\n",
       "  </tbody>\n",
       "</table>\n",
       "</div>"
      ],
      "text/plain": [
       "   Year  Attrition Rate\n",
       "0  2011              10\n",
       "1  2012              11\n",
       "2  2013              12\n",
       "3  2014              13\n",
       "4  2015              15"
      ]
     },
     "execution_count": 2,
     "metadata": {},
     "output_type": "execute_result"
    }
   ],
   "source": [
    "import pandas as pd\n",
    "attrition_data = pd.read_csv(\"attrition_data.csv\")\n",
    "attrition_data.head(5)"
   ]
  },
  {
   "cell_type": "code",
   "execution_count": 8,
   "id": "be88b2e5",
   "metadata": {},
   "outputs": [
    {
     "data": {
      "image/png": "[encoded data removed]",
      "text/plain": [
       "<Figure size 720x432 with 1 Axes>"
      ]
     },
     "metadata": {
      "needs_background": "light"
     },
     "output_type": "display_data"
    }
   ],
   "source": [
    "import matplotlib.pyplot as plt\n",
    "\n",
    "# Plot historical attrition rate data\n",
    "plt.figure(figsize=(10, 6))\n",
    "plt.plot(attrition_data['Year'], attrition_data['Attrition Rate'], marker='o', color='blue')\n",
    "plt.title('Historical Attrition Rate at Pigo Company (2011-2023)')\n",
    "plt.xlabel('Year')\n",
    "plt.ylabel('Attrition Rate (%)')\n",
    "plt.grid(True)\n",
    "plt.show()\n"
   ]
  },
  {
   "cell_type": "code",
   "execution_count": 3,
   "id": "d1d7a07a",
   "metadata": {},
   "outputs": [
    {
     "name": "stdout",
     "output_type": "stream",
     "text": [
      "   Year  Forecasted Attrition Rate\n",
      "0  2024                  26.666667\n",
      "1  2025                  26.666667\n",
      "2  2026                  26.666667\n"
     ]
    }
   ],
   "source": [
    "# Forecasting using moving average method\n",
    "window_size = 3  # Choose window size for moving average\n",
    "forecast_years = range(2024, 2027)\n",
    "\n",
    "# Calculate moving average\n",
    "attrition_data['Moving Average'] = attrition_data['Attrition Rate'].rolling(window=window_size).mean()\n",
    "\n",
    "# Forecast attrition rate for 2024-2026\n",
    "forecasted_attrition = attrition_data['Moving Average'].iloc[-1]  # Use the last available moving average for forecasting\n",
    "forecasted_data = pd.DataFrame({'Year': forecast_years, 'Forecasted Attrition Rate': forecasted_attrition})\n",
    "\n",
    "# Display forecasted data\n",
    "print(forecasted_data)\n"
   ]
  }
 ],
 "metadata": {
  "kernelspec": {
   "display_name": "Python 3 (ipykernel)",
   "language": "python",
   "name": "python3"
  },
  "language_info": {
   "codemirror_mode": {
    "name": "ipython",
    "version": 3
   },
   "file_extension": ".py",
   "mimetype": "text/x-python",
   "name": "python",
   "nbconvert_exporter": "python",
   "pygments_lexer": "ipython3",
   "version": "3.11.4"
  }
 },
 "nbformat": 4,
 "nbformat_minor": 5
}
